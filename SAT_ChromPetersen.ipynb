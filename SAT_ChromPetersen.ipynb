{
 "cells": [
  {
   "cell_type": "markdown",
   "metadata": {},
   "source": [
    "Ver si con 3 colores se pueden colorear los vértices de la gráfica de Petersen de forma que no hayan dos vértices adyacentes del mismo color.\n",
    "\n",
    "La gráfica de Petersen tiene como vértices las parejas $\\{i,j\\}$ con $i\\neq j$ y dos vértices son adyacentes si son disjuntos."
   ]
  },
  {
   "cell_type": "code",
   "execution_count": 1,
   "metadata": {},
   "outputs": [],
   "source": [
    "#Para trabajar con parejas (i,j) con i<j\n",
    "def parejas(n):\n",
    "    result = []\n",
    "    for i in range(n-1):\n",
    "        for j in range(i+1,n):\n",
    "            result.append((i,j))\n",
    "    return result"
   ]
  },
  {
   "cell_type": "code",
   "execution_count": 2,
   "metadata": {},
   "outputs": [],
   "source": [
    "colores = 3\n",
    "\n",
    "#Vértices de Petersen (en realidad vamos a trabajar con los índices de V)\n",
    "V = parejas(5)\n",
    "\n",
    "#Número de vértices\n",
    "n=len(V)\n",
    "\n",
    "#Aristas de Petersen (i,j) con i<j donde i representa el vértice V[i]\n",
    "A = [(v1,v2) for (v1,v2) in parejas(n) if set(V[v1]).isdisjoint(V[v2])]"
   ]
  },
  {
   "cell_type": "code",
   "execution_count": 3,
   "metadata": {},
   "outputs": [],
   "source": [
    "#Las variables (índice de vértice, color)\n",
    "#Si una es TRUE entonces pensamos que a ese vértice le toca ese color\n",
    "variables = [(v,c) for v in range(n) for c in range(colores)]\n",
    "\n",
    "#Para saber qué variable corresponde a qué número\n",
    "var = dict(zip(variables,range(1,len(variables)+1)))"
   ]
  },
  {
   "cell_type": "code",
   "execution_count": 4,
   "metadata": {},
   "outputs": [],
   "source": [
    "clausulas=[]"
   ]
  },
  {
   "cell_type": "code",
   "execution_count": 5,
   "metadata": {},
   "outputs": [
    {
     "name": "stdout",
     "output_type": "stream",
     "text": [
      "['1 2 3 0', '4 5 6 0', '7 8 9 0', '10 11 12 0', '13 14 15 0', '16 17 18 0', '19 20 21 0', '22 23 24 0', '25 26 27 0', '28 29 30 0']\n"
     ]
    }
   ],
   "source": [
    "#Cada vértice debe tener un color\n",
    "for v in range(n):\n",
    "    clausula = \"\"\n",
    "    for c in range(colores):\n",
    "        clausula += f\"{var[(v,c)]} \"\n",
    "    clausula += \"0\"\n",
    "    clausulas.append(clausula)\n",
    "print(clausulas)"
   ]
  },
  {
   "cell_type": "code",
   "execution_count": 6,
   "metadata": {},
   "outputs": [
    {
     "name": "stdout",
     "output_type": "stream",
     "text": [
      "['1 2 3 0', '4 5 6 0', '7 8 9 0', '10 11 12 0', '13 14 15 0', '16 17 18 0', '19 20 21 0', '22 23 24 0', '25 26 27 0', '28 29 30 0', '-1 -2 0', '-1 -3 0', '-2 -3 0', '-4 -5 0', '-4 -6 0', '-5 -6 0', '-7 -8 0', '-7 -9 0', '-8 -9 0', '-10 -11 0', '-10 -12 0', '-11 -12 0', '-13 -14 0', '-13 -15 0', '-14 -15 0', '-16 -17 0', '-16 -18 0', '-17 -18 0', '-19 -20 0', '-19 -21 0', '-20 -21 0', '-22 -23 0', '-22 -24 0', '-23 -24 0', '-25 -26 0', '-25 -27 0', '-26 -27 0', '-28 -29 0', '-28 -30 0', '-29 -30 0']\n"
     ]
    }
   ],
   "source": [
    "#Un vértice no debe tener dos colores\n",
    "for v in range(n):\n",
    "    for (c1,c2) in parejas(colores):\n",
    "        #Alguno de estos dos colores debe dar FALSE\n",
    "        clausula = f\"-{var[(v,c1)]} -{var[(v,c2)]} 0\"\n",
    "        clausulas.append(clausula)\n",
    "print(clausulas)"
   ]
  },
  {
   "cell_type": "code",
   "execution_count": 7,
   "metadata": {},
   "outputs": [],
   "source": [
    "#Para cada arista necesitamos que los dos colores sean distintos\n",
    "for (v1,v2) in A:\n",
    "    for c in range(colores):\n",
    "        #Si v1 y v2 son adyacentes entonces alguno no debe tener el color c\n",
    "        clausula = f\"-{var[(v1,c)]} -{var[(v2,c)]} 0\"\n",
    "        clausulas.append(clausula)"
   ]
  },
  {
   "cell_type": "code",
   "execution_count": 8,
   "metadata": {},
   "outputs": [
    {
     "name": "stdout",
     "output_type": "stream",
     "text": [
      "p cnf 30 85\n",
      "1 2 3 0\n",
      "4 5 6 0\n",
      "7 8 9 0\n",
      "10 11 12 0\n",
      "13 14 15 0\n",
      "16 17 18 0\n",
      "19 20 21 0\n",
      "22 23 24 0\n",
      "25 26 27 0\n",
      "28 29 30 0\n",
      "-1 -2 0\n",
      "-1 -3 0\n",
      "-2 -3 0\n",
      "-4 -5 0\n",
      "-4 -6 0\n",
      "-5 -6 0\n",
      "-7 -8 0\n",
      "-7 -9 0\n",
      "-8 -9 0\n",
      "-10 -11 0\n",
      "-10 -12 0\n",
      "-11 -12 0\n",
      "-13 -14 0\n",
      "-13 -15 0\n",
      "-14 -15 0\n",
      "-16 -17 0\n",
      "-16 -18 0\n",
      "-17 -18 0\n",
      "-19 -20 0\n",
      "-19 -21 0\n",
      "-20 -21 0\n",
      "-22 -23 0\n",
      "-22 -24 0\n",
      "-23 -24 0\n",
      "-25 -26 0\n",
      "-25 -27 0\n",
      "-26 -27 0\n",
      "-28 -29 0\n",
      "-28 -30 0\n",
      "-29 -30 0\n",
      "-1 -22 0\n",
      "-2 -23 0\n",
      "-3 -24 0\n",
      "-1 -25 0\n",
      "-2 -26 0\n",
      "-3 -27 0\n",
      "-1 -28 0\n",
      "-2 -29 0\n",
      "-3 -30 0\n",
      "-4 -16 0\n",
      "-5 -17 0\n",
      "-6 -18 0\n",
      "-4 -19 0\n",
      "-5 -20 0\n",
      "-6 -21 0\n",
      "-4 -28 0\n",
      "-5 -29 0\n",
      "-6 -30 0\n",
      "-7 -13 0\n",
      "-8 -14 0\n",
      "-9 -15 0\n",
      "-7 -19 0\n",
      "-8 -20 0\n",
      "-9 -21 0\n",
      "-7 -25 0\n",
      "-8 -26 0\n",
      "-9 -27 0\n",
      "-10 -13 0\n",
      "-11 -14 0\n",
      "-12 -15 0\n",
      "-10 -16 0\n",
      "-11 -17 0\n",
      "-12 -18 0\n",
      "-10 -22 0\n",
      "-11 -23 0\n",
      "-12 -24 0\n",
      "-13 -28 0\n",
      "-14 -29 0\n",
      "-15 -30 0\n",
      "-16 -25 0\n",
      "-17 -26 0\n",
      "-18 -27 0\n",
      "-19 -22 0\n",
      "-20 -23 0\n",
      "-21 -24 0\n"
     ]
    }
   ],
   "source": [
    "print(f\"p cnf {len(variables)} {len(clausulas)}\\n\"+\"\\n\".join(clausulas))"
   ]
  },
  {
   "cell_type": "markdown",
   "metadata": {},
   "source": [
    "El SAT-solver nos da la siguinete respuesta:\n",
    "\n",
    "```\n",
    "s SATISFIABLE\n",
    "v 1 -2 -3 -4 5 -6 -7 8 -9 -10 11 -12 13 -14 -15 16 -17 -18 19 -20 -21 -22 -23 24 \n",
    "v -25 -26 27 -28 -29 30 0\n",
    "```\n",
    "\n",
    "Ahora lo vamos a interpretar."
   ]
  },
  {
   "cell_type": "code",
   "execution_count": 9,
   "metadata": {},
   "outputs": [],
   "source": [
    "def ResALista(res):\n",
    "    ans = [s.strip('v ') for s in res.splitlines() if s[0]=='v']\n",
    "    ans = ' '.join(ans)\n",
    "    return ans.split(' ')"
   ]
  },
  {
   "cell_type": "code",
   "execution_count": 10,
   "metadata": {},
   "outputs": [],
   "source": [
    "resultado = \"\"\"s SATISFIABLE\n",
    "v 1 -2 -3 -4 5 -6 -7 8 -9 -10 11 -12 13 -14 -15 16 -17 -18 19 -20 -21 -22 -23 24 \n",
    "v -25 -26 27 -28 -29 30 0\"\"\"\n",
    "\n",
    "resultado = ResALista(resultado)\n",
    "resultado = [int(r) for r in resultado]"
   ]
  },
  {
   "cell_type": "code",
   "execution_count": 11,
   "metadata": {},
   "outputs": [
    {
     "name": "stdout",
     "output_type": "stream",
     "text": [
      "El vertice (0, 1) es de color 2\n",
      "El vertice (0, 2) es de color 3\n",
      "El vertice (0, 3) es de color 3\n",
      "El vertice (0, 4) es de color 3\n",
      "El vertice (1, 2) es de color 2\n",
      "El vertice (1, 3) es de color 2\n",
      "El vertice (1, 4) es de color 2\n",
      "El vertice (2, 3) es de color 1\n",
      "El vertice (2, 4) es de color 1\n",
      "El vertice (3, 4) es de color 1\n"
     ]
    }
   ],
   "source": [
    "for i in resultado:\n",
    "    if i>0:\n",
    "        print(f\"El vertice {V[(i-1)//3]} es de color {i%3+1}\")"
   ]
  },
  {
   "cell_type": "code",
   "execution_count": null,
   "metadata": {},
   "outputs": [],
   "source": []
  }
 ],
 "metadata": {
  "kernelspec": {
   "display_name": "Python 3",
   "language": "python",
   "name": "python3"
  },
  "language_info": {
   "codemirror_mode": {
    "name": "ipython",
    "version": 3
   },
   "file_extension": ".py",
   "mimetype": "text/x-python",
   "name": "python",
   "nbconvert_exporter": "python",
   "pygments_lexer": "ipython3",
   "version": "3.7.3"
  }
 },
 "nbformat": 4,
 "nbformat_minor": 2
}
