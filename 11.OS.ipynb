{
 "cells": [
  {
   "cell_type": "markdown",
   "metadata": {},
   "source": [
    "# OS y Pathlib\n",
    "\n",
    "En esta libreta hablaremos de la biblioteca `os`, que es súper útil para todo lo que tiene que ver con manejo de archivos y etc.\n",
    "\n",
    "Aunque no tiene que ver con matemáticas necesariamente, muchas veces hay que hacer cosas como \"renombrar 300 archivos, borrar los que contengan BLA, abrir todas las imágenes y borrar aquellas que no sirvan\", etc. Si eso lo puedes hacer eficientemente, te quedará más tiempo para las matemáticas!"
   ]
  },
  {
   "cell_type": "code",
   "execution_count": 1,
   "metadata": {},
   "outputs": [],
   "source": [
    "from pathlib import Path"
   ]
  },
  {
   "cell_type": "code",
   "execution_count": 7,
   "metadata": {},
   "outputs": [
    {
     "data": {
      "text/plain": [
       "PosixPath('tmp/bla/ouch')"
      ]
     },
     "execution_count": 7,
     "metadata": {},
     "output_type": "execute_result"
    }
   ],
   "source": [
    "path = Path(\"tmp/bla/ouch\"); path"
   ]
  },
  {
   "cell_type": "code",
   "execution_count": 12,
   "metadata": {},
   "outputs": [],
   "source": [
    "path = Path(\"tmp/bla42.txt\")"
   ]
  },
  {
   "cell_type": "code",
   "execution_count": 9,
   "metadata": {},
   "outputs": [
    {
     "data": {
      "text/plain": [
       "pathlib.PosixPath"
      ]
     },
     "execution_count": 9,
     "metadata": {},
     "output_type": "execute_result"
    }
   ],
   "source": [
    "type(path)"
   ]
  },
  {
   "cell_type": "code",
   "execution_count": 10,
   "metadata": {},
   "outputs": [
    {
     "data": {
      "text/plain": [
       "'tmp/bla.txt'"
      ]
     },
     "execution_count": 10,
     "metadata": {},
     "output_type": "execute_result"
    }
   ],
   "source": [
    "str(path)"
   ]
  },
  {
   "cell_type": "code",
   "execution_count": 14,
   "metadata": {},
   "outputs": [
    {
     "data": {
      "text/plain": [
       "False"
      ]
     },
     "execution_count": 14,
     "metadata": {},
     "output_type": "execute_result"
    }
   ],
   "source": [
    "path.exists()"
   ]
  },
  {
   "cell_type": "code",
   "execution_count": 15,
   "metadata": {},
   "outputs": [],
   "source": [
    "path.touch()"
   ]
  },
  {
   "cell_type": "code",
   "execution_count": 16,
   "metadata": {},
   "outputs": [
    {
     "data": {
      "text/plain": [
       "True"
      ]
     },
     "execution_count": 16,
     "metadata": {},
     "output_type": "execute_result"
    }
   ],
   "source": [
    "path.exists()"
   ]
  },
  {
   "cell_type": "code",
   "execution_count": 17,
   "metadata": {},
   "outputs": [],
   "source": [
    "directorio = Path(\"/home/mraggi/Documents/imagenes_prueba/\")"
   ]
  },
  {
   "cell_type": "code",
   "execution_count": 21,
   "metadata": {},
   "outputs": [],
   "source": [
    "archivo = directorio/\"bcgot.png\""
   ]
  },
  {
   "cell_type": "code",
   "execution_count": 22,
   "metadata": {},
   "outputs": [
    {
     "data": {
      "text/plain": [
       "PosixPath('/home/mraggi/Documents/imagenes_prueba/bcgot.png')"
      ]
     },
     "execution_count": 22,
     "metadata": {},
     "output_type": "execute_result"
    }
   ],
   "source": [
    "archivo"
   ]
  },
  {
   "cell_type": "code",
   "execution_count": 23,
   "metadata": {},
   "outputs": [
    {
     "data": {
      "text/plain": [
       "True"
      ]
     },
     "execution_count": 23,
     "metadata": {},
     "output_type": "execute_result"
    }
   ],
   "source": [
    "archivo.exists()"
   ]
  },
  {
   "cell_type": "code",
   "execution_count": 24,
   "metadata": {},
   "outputs": [
    {
     "data": {
      "text/plain": [
       "PosixPath('/home/mraggi/Documents/imagenes_prueba')"
      ]
     },
     "execution_count": 24,
     "metadata": {},
     "output_type": "execute_result"
    }
   ],
   "source": [
    "archivo.parent"
   ]
  },
  {
   "cell_type": "code",
   "execution_count": 25,
   "metadata": {},
   "outputs": [
    {
     "data": {
      "text/plain": [
       "'bcgot.png'"
      ]
     },
     "execution_count": 25,
     "metadata": {},
     "output_type": "execute_result"
    }
   ],
   "source": [
    "archivo.name"
   ]
  },
  {
   "cell_type": "code",
   "execution_count": 26,
   "metadata": {},
   "outputs": [
    {
     "data": {
      "text/plain": [
       "'bcgot'"
      ]
     },
     "execution_count": 26,
     "metadata": {},
     "output_type": "execute_result"
    }
   ],
   "source": [
    "archivo.stem"
   ]
  },
  {
   "cell_type": "code",
   "execution_count": 27,
   "metadata": {},
   "outputs": [
    {
     "data": {
      "text/plain": [
       "False"
      ]
     },
     "execution_count": 27,
     "metadata": {},
     "output_type": "execute_result"
    }
   ],
   "source": [
    "archivo.is_dir()"
   ]
  },
  {
   "cell_type": "code",
   "execution_count": 28,
   "metadata": {},
   "outputs": [
    {
     "data": {
      "text/plain": [
       "True"
      ]
     },
     "execution_count": 28,
     "metadata": {},
     "output_type": "execute_result"
    }
   ],
   "source": [
    "directorio.is_dir()"
   ]
  },
  {
   "cell_type": "code",
   "execution_count": 29,
   "metadata": {},
   "outputs": [],
   "source": [
    "archivo.rename(directorio/\"bla.png\")"
   ]
  },
  {
   "cell_type": "code",
   "execution_count": 30,
   "metadata": {},
   "outputs": [
    {
     "data": {
      "text/plain": [
       "PosixPath('/home/mraggi/Documents/imagenes_prueba/bcgot.png')"
      ]
     },
     "execution_count": 30,
     "metadata": {},
     "output_type": "execute_result"
    }
   ],
   "source": [
    "archivo"
   ]
  },
  {
   "cell_type": "code",
   "execution_count": 31,
   "metadata": {},
   "outputs": [
    {
     "data": {
      "text/plain": [
       "False"
      ]
     },
     "execution_count": 31,
     "metadata": {},
     "output_type": "execute_result"
    }
   ],
   "source": [
    "archivo.exists()"
   ]
  },
  {
   "cell_type": "code",
   "execution_count": 32,
   "metadata": {},
   "outputs": [],
   "source": [
    "archivo = directorio/\"bla.png\""
   ]
  },
  {
   "cell_type": "code",
   "execution_count": 33,
   "metadata": {},
   "outputs": [
    {
     "data": {
      "text/plain": [
       "True"
      ]
     },
     "execution_count": 33,
     "metadata": {},
     "output_type": "execute_result"
    }
   ],
   "source": [
    "archivo.exists()"
   ]
  },
  {
   "cell_type": "code",
   "execution_count": 34,
   "metadata": {},
   "outputs": [],
   "source": [
    "import os"
   ]
  },
  {
   "cell_type": "code",
   "execution_count": 36,
   "metadata": {},
   "outputs": [
    {
     "data": {
      "text/plain": [
       "PosixPath('/home/mraggi/Documents/imagenes_prueba')"
      ]
     },
     "execution_count": 36,
     "metadata": {},
     "output_type": "execute_result"
    }
   ],
   "source": [
    "directorio"
   ]
  },
  {
   "cell_type": "code",
   "execution_count": 35,
   "metadata": {},
   "outputs": [
    {
     "data": {
      "text/plain": [
       "['triangulodividido.png',\n",
       " 'mapasolo.png',\n",
       " 'subdirectorio',\n",
       " 'examplegraph.png',\n",
       " 'mapmuseum.png',\n",
       " 'mapacamino.png',\n",
       " 'Uenorden.png',\n",
       " 'graph.png',\n",
       " 'bcgotmulti.png',\n",
       " 'bla.png',\n",
       " 'networksir.png',\n",
       " 'CR_D_DR.png',\n",
       " 'growinghistogram.png',\n",
       " 'toroconK44.png',\n",
       " 'graficabloquesfea.png',\n",
       " 'networksir2.png',\n",
       " 'ecsdifcomplicadas.png',\n",
       " 'logplot.png',\n",
       " 'networkofthrones.png',\n",
       " 'hola.txt',\n",
       " 'svsphi.png',\n",
       " 'cap2.txt',\n",
       " 'petersen3coloring.png',\n",
       " 'graphoftheinternet.png',\n",
       " 'mapamorelia.png',\n",
       " 'cap1.txt',\n",
       " 'preferentialattachment.png',\n",
       " 'mapacentro.png',\n",
       " 'svsphiataque.png']"
      ]
     },
     "execution_count": 35,
     "metadata": {},
     "output_type": "execute_result"
    }
   ],
   "source": [
    "os.listdir(directorio)"
   ]
  },
  {
   "cell_type": "code",
   "execution_count": 38,
   "metadata": {},
   "outputs": [
    {
     "name": "stdout",
     "output_type": "stream",
     "text": [
      "<DirEntry 'triangulodividido.png'>\n"
     ]
    }
   ],
   "source": [
    "for f in os.scandir(directorio):\n",
    "    print(f)\n",
    "    break"
   ]
  },
  {
   "cell_type": "code",
   "execution_count": 39,
   "metadata": {},
   "outputs": [
    {
     "data": {
      "text/plain": [
       "[<DirEntry 'triangulodividido.png'>,\n",
       " <DirEntry 'mapasolo.png'>,\n",
       " <DirEntry 'subdirectorio'>,\n",
       " <DirEntry 'examplegraph.png'>,\n",
       " <DirEntry 'mapmuseum.png'>,\n",
       " <DirEntry 'mapacamino.png'>,\n",
       " <DirEntry 'Uenorden.png'>,\n",
       " <DirEntry 'graph.png'>,\n",
       " <DirEntry 'bcgotmulti.png'>,\n",
       " <DirEntry 'bla.png'>,\n",
       " <DirEntry 'networksir.png'>,\n",
       " <DirEntry 'CR_D_DR.png'>,\n",
       " <DirEntry 'growinghistogram.png'>,\n",
       " <DirEntry 'toroconK44.png'>,\n",
       " <DirEntry 'graficabloquesfea.png'>,\n",
       " <DirEntry 'networksir2.png'>,\n",
       " <DirEntry 'ecsdifcomplicadas.png'>,\n",
       " <DirEntry 'logplot.png'>,\n",
       " <DirEntry 'networkofthrones.png'>,\n",
       " <DirEntry 'hola.txt'>,\n",
       " <DirEntry 'svsphi.png'>,\n",
       " <DirEntry 'cap2.txt'>,\n",
       " <DirEntry 'petersen3coloring.png'>,\n",
       " <DirEntry 'graphoftheinternet.png'>,\n",
       " <DirEntry 'mapamorelia.png'>,\n",
       " <DirEntry 'cap1.txt'>,\n",
       " <DirEntry 'preferentialattachment.png'>,\n",
       " <DirEntry 'mapacentro.png'>,\n",
       " <DirEntry 'svsphiataque.png'>]"
      ]
     },
     "execution_count": 39,
     "metadata": {},
     "output_type": "execute_result"
    }
   ],
   "source": [
    "list(os.scandir(directorio))"
   ]
  },
  {
   "cell_type": "code",
   "execution_count": 40,
   "metadata": {},
   "outputs": [],
   "source": [
    "p = list(os.scandir(directorio))[1]"
   ]
  },
  {
   "cell_type": "code",
   "execution_count": 41,
   "metadata": {},
   "outputs": [
    {
     "data": {
      "text/plain": [
       "<DirEntry 'mapasolo.png'>"
      ]
     },
     "execution_count": 41,
     "metadata": {},
     "output_type": "execute_result"
    }
   ],
   "source": [
    "p"
   ]
  },
  {
   "cell_type": "code",
   "execution_count": 42,
   "metadata": {},
   "outputs": [
    {
     "data": {
      "text/plain": [
       "posix.DirEntry"
      ]
     },
     "execution_count": 42,
     "metadata": {},
     "output_type": "execute_result"
    }
   ],
   "source": [
    "type(p)"
   ]
  },
  {
   "cell_type": "code",
   "execution_count": 43,
   "metadata": {},
   "outputs": [
    {
     "data": {
      "text/plain": [
       "pathlib.PosixPath"
      ]
     },
     "execution_count": 43,
     "metadata": {},
     "output_type": "execute_result"
    }
   ],
   "source": [
    "type(archivo)"
   ]
  },
  {
   "cell_type": "code",
   "execution_count": 46,
   "metadata": {},
   "outputs": [
    {
     "data": {
      "text/plain": [
       "'mapasolo'"
      ]
     },
     "execution_count": 46,
     "metadata": {},
     "output_type": "execute_result"
    }
   ],
   "source": [
    "Path(p).stem"
   ]
  },
  {
   "cell_type": "code",
   "execution_count": 50,
   "metadata": {},
   "outputs": [],
   "source": [
    "with open(directorio/\"hola.txt\",mode='w') as f:\n",
    "    f.write(\"adios\")"
   ]
  },
  {
   "cell_type": "code",
   "execution_count": 52,
   "metadata": {},
   "outputs": [
    {
     "name": "stdout",
     "output_type": "stream",
     "text": [
      "adios\n"
     ]
    }
   ],
   "source": [
    "with open(directorio/\"hola.txt\",mode='r') as f:\n",
    "    print(f.read())"
   ]
  },
  {
   "cell_type": "markdown",
   "metadata": {},
   "source": [
    "## Ejercicios\n",
    "\n",
    "1. Crea los siguientes 100 folders: a00, a01, a02, ..., a99. Si ya existían, todo bien!\n",
    "2. En cada uno de los folders pon un archivo de texto llamado \"hola_00.txt\" (hola_01.txt etc) cuyo contenido es solo su numerito.\n",
    "3. Borra los impares y cambia el nombre de los pares a la mitad.\n",
    "3. Crea una función que, dado un Path, de regrese la extensión del archivo (e.g. txt, jpg...)\n",
    "4. Crea una función llamada \"obtener_archivos\" que le pases 3 parámetros:\n",
    "    - `directorio`: Path\n",
    "    - `recursivamente`: bool\n",
    "    - `extensiones`: list(str)\n",
    "   y que devuelva una lista con todos los archivos dentro de `directorio` que tengan terminación en `extensiones`. Si `recursivamente==True` deberá meterse a subdirectorios.\n",
    "5. Para cada imagen en un folder específico y todos sus subdirectorios, bájale el tamaño a la mitad, guárdala como png pero con el mismo nombre, en otro directorio, pero que respeten el árbol (si lo corremos en el directorio a y el output va al directorio x, `a/b/c/d.png` ==> `x/b/c/d.jpg`) \n",
    "6. Para todos los archivos en un directorio, Cambia todos los espacios en blanco del nombre por \"_\"\n",
    "7. Después de escribir tu novela en un archivo de texto simple (porque, ¿qué otra manera hay de escribir una novela?) decidiste cambiarle el nombre al personaje principal, porque se llamaba Grotencio, que es un nombre tonto, y ahora quieres que se llame Renato, que es un nombre... bueno, que sí es un nombre. Cada capítulo/escena lo escribiste en un archivo de texto diferente. Haz un programa que cambie todos los Grotencios por Renatos."
   ]
  },
  {
   "cell_type": "code",
   "execution_count": null,
   "metadata": {},
   "outputs": [],
   "source": [
    "!conda install pillow\n",
    "\n",
    "o\n",
    "\n",
    "!pip install pillow"
   ]
  },
  {
   "cell_type": "code",
   "execution_count": 53,
   "metadata": {},
   "outputs": [],
   "source": [
    "from PIL import Image"
   ]
  },
  {
   "cell_type": "code",
   "execution_count": 54,
   "metadata": {},
   "outputs": [],
   "source": [
    "img = Image.open(directorio/\"petersen3coloring.png\")"
   ]
  },
  {
   "cell_type": "code",
   "execution_count": 55,
   "metadata": {},
   "outputs": [
    {
     "data": {
      "image/png": "[encoded data removed]",
      "text/plain": [
       "<PIL.PngImagePlugin.PngImageFile image mode=RGBA size=440x422 at 0x7FF93A5645D0>"
      ]
     },
     "execution_count": 55,
     "metadata": {},
     "output_type": "execute_result"
    }
   ],
   "source": [
    "img"
   ]
  },
  {
   "cell_type": "code",
   "execution_count": 56,
   "metadata": {},
   "outputs": [
    {
     "data": {
      "text/plain": [
       "(440, 422)"
      ]
     },
     "execution_count": 56,
     "metadata": {},
     "output_type": "execute_result"
    }
   ],
   "source": [
    "img.width, img.height "
   ]
  },
  {
   "cell_type": "code",
   "execution_count": 58,
   "metadata": {},
   "outputs": [
    {
     "data": {
      "image/png": "[encoded data removed]",
      "text/plain": [
       "<PIL.Image.Image image mode=RGBA size=100x100 at 0x7FF93A580250>"
      ]
     },
     "execution_count": 58,
     "metadata": {},
     "output_type": "execute_result"
    }
   ],
   "source": [
    "img.resize((100,100),resample=Image.LANCZOS)"
   ]
  },
  {
   "cell_type": "code",
   "execution_count": 60,
   "metadata": {},
   "outputs": [],
   "source": [
    "img.save(\"hola.png\")"
   ]
  },
  {
   "cell_type": "code",
   "execution_count": null,
   "metadata": {},
   "outputs": [],
   "source": []
  },
  {
   "cell_type": "code",
   "execution_count": null,
   "metadata": {},
   "outputs": [],
   "source": []
  },
  {
   "cell_type": "code",
   "execution_count": null,
   "metadata": {},
   "outputs": [],
   "source": []
  },
  {
   "cell_type": "code",
   "execution_count": null,
   "metadata": {},
   "outputs": [],
   "source": []
  },
  {
   "cell_type": "code",
   "execution_count": null,
   "metadata": {},
   "outputs": [],
   "source": []
  },
  {
   "cell_type": "code",
   "execution_count": null,
   "metadata": {},
   "outputs": [],
   "source": []
  },
  {
   "cell_type": "code",
   "execution_count": null,
   "metadata": {},
   "outputs": [],
   "source": [
    "archivo.name.split('.')[-1]"
   ]
  },
  {
   "cell_type": "code",
   "execution_count": null,
   "metadata": {},
   "outputs": [],
   "source": [
    "def extension(filename):\n",
    "    return filename.name.split('.')[-1]"
   ]
  },
  {
   "cell_type": "code",
   "execution_count": null,
   "metadata": {},
   "outputs": [],
   "source": [
    "def get_files(path, recursive=False, extensions = None):\n",
    "    L = []\n",
    "    for f in os.scandir(path):\n",
    "        f = Path(f)\n",
    "        if f.is_dir():\n",
    "            if recursive:\n",
    "                L += get_files(f,True,extensions)\n",
    "        else:\n",
    "            if extensions is None or extension(f) in extensions:\n",
    "                L.append(f)\n",
    "    return L"
   ]
  },
  {
   "cell_type": "code",
   "execution_count": null,
   "metadata": {},
   "outputs": [],
   "source": [
    "get_files(directorio,recursive=False, extensions = [\"txt\"])"
   ]
  },
  {
   "cell_type": "code",
   "execution_count": null,
   "metadata": {},
   "outputs": [],
   "source": [
    "def replace_grotencio_by_renato(path):\n",
    "    for filename in os.scandir(path):\n",
    "        filename = Path(filename)\n",
    "        if filename.name.split('.')[-1] != \"txt\": continue\n",
    "        texto = \"\"\n",
    "        with open(filename,mode='r') as f:\n",
    "            texto = f.read()\n",
    "            texto = texto.replace(\"Grotencio\", \"Renato\")\n",
    "        with open(filename,mode='w') as f:\n",
    "            f.write(texto)"
   ]
  },
  {
   "cell_type": "code",
   "execution_count": null,
   "metadata": {},
   "outputs": [],
   "source": [
    "replace_grotencio_by_renato(directorio)"
   ]
  },
  {
   "cell_type": "code",
   "execution_count": null,
   "metadata": {},
   "outputs": [],
   "source": [
    "os.system(\"ls -l\")"
   ]
  },
  {
   "cell_type": "code",
   "execution_count": null,
   "metadata": {},
   "outputs": [],
   "source": []
  }
 ],
 "metadata": {
  "kernelspec": {
   "display_name": "Python 3",
   "language": "python",
   "name": "python3"
  },
  "language_info": {
   "codemirror_mode": {
    "name": "ipython",
    "version": 3
   },
   "file_extension": ".py",
   "mimetype": "text/x-python",
   "name": "python",
   "nbconvert_exporter": "python",
   "pygments_lexer": "ipython3",
   "version": "3.7.7"
  }
 },
 "nbformat": 4,
 "nbformat_minor": 4
}
