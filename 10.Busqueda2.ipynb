{
 "cells": [
  {
   "cell_type": "markdown",
   "metadata": {},
   "source": [
    "# Podemos explorar algunos objetos exhaustivamente de otras formas\n",
    "\n",
    "Vamos a usar itertools (https://docs.python.org/2/library/itertools.html)."
   ]
  },
  {
   "cell_type": "code",
   "execution_count": null,
   "metadata": {},
   "outputs": [],
   "source": [
    "import itertools as it"
   ]
  },
  {
   "cell_type": "markdown",
   "metadata": {},
   "source": [
    "### product()\n",
    "Para iterar sobre productos cartesianos.\n",
    "\n",
    "Es como `((x,y) for x in A for y in B)` pero también tiene otros usos."
   ]
  },
  {
   "cell_type": "code",
   "execution_count": null,
   "metadata": {},
   "outputs": [],
   "source": [
    "A=[1,2,3,4]\n",
    "B=['a','b','c']\n",
    "it.product(A,B)"
   ]
  },
  {
   "cell_type": "code",
   "execution_count": null,
   "metadata": {},
   "outputs": [],
   "source": [
    "print([x for x in it.product(A,B)])"
   ]
  },
  {
   "cell_type": "code",
   "execution_count": null,
   "metadata": {},
   "outputs": [],
   "source": [
    "X=[0,1]\n",
    "print([x for x in it.product(X,repeat=4)])\n",
    "len([x for x in it.product(X,repeat=4)])"
   ]
  },
  {
   "cell_type": "code",
   "execution_count": null,
   "metadata": {},
   "outputs": [],
   "source": [
    "print([x for x in it.product(X,X,X,X)])"
   ]
  },
  {
   "cell_type": "markdown",
   "metadata": {},
   "source": [
    "### permutations()\n",
    "Para iterar sobre todas las permutaciones. También puede agarrar combinaciones en las que el orden importa."
   ]
  },
  {
   "cell_type": "code",
   "execution_count": null,
   "metadata": {},
   "outputs": [],
   "source": [
    "B=['a','b','c']\n",
    "print([x for x in it.permutations(B)])"
   ]
  },
  {
   "cell_type": "code",
   "execution_count": null,
   "metadata": {},
   "outputs": [],
   "source": [
    "#Aquí hay tuplas repetidas.\n",
    "C=[1,1,2,3]\n",
    "print([x for x in it.permutations(C)])\n",
    "len([x for x in it.permutations(C)])"
   ]
  },
  {
   "cell_type": "code",
   "execution_count": null,
   "metadata": {},
   "outputs": [],
   "source": [
    "B=['a','b','c']\n",
    "print([x for x in it.permutations(B,2)])"
   ]
  },
  {
   "cell_type": "markdown",
   "metadata": {},
   "source": [
    "### combinations()\n",
    "Subconjuntos donde el orden no importa."
   ]
  },
  {
   "cell_type": "code",
   "execution_count": null,
   "metadata": {},
   "outputs": [],
   "source": [
    "B=['a','b','c']\n",
    "print([x for x in it.combinations(B,3)])"
   ]
  },
  {
   "cell_type": "code",
   "execution_count": null,
   "metadata": {},
   "outputs": [],
   "source": [
    "B=['a','b','c']\n",
    "print([x for x in it.combinations(B,2)])"
   ]
  },
  {
   "cell_type": "code",
   "execution_count": null,
   "metadata": {},
   "outputs": [],
   "source": [
    "#Aquí hay tuplas repetidas.\n",
    "C=[1,1,2,3]\n",
    "print([x for x in it.combinations(C,2)])"
   ]
  },
  {
   "cell_type": "markdown",
   "metadata": {},
   "source": [
    "### combinations_with_replacement()\n",
    "Como combinations() pero cuando quieres que repita valores"
   ]
  },
  {
   "cell_type": "code",
   "execution_count": null,
   "metadata": {},
   "outputs": [],
   "source": [
    "B=['a','b','c']\n",
    "print([x for x in it.combinations_with_replacement(B,3)])"
   ]
  },
  {
   "cell_type": "code",
   "execution_count": null,
   "metadata": {},
   "outputs": [],
   "source": [
    "A=[0,1]\n",
    "print([x for x in it.combinations_with_replacement(A,3)])"
   ]
  },
  {
   "cell_type": "code",
   "execution_count": null,
   "metadata": {},
   "outputs": [],
   "source": [
    "#Aquí hay tuplas repetidas.\n",
    "B=['a','a','c']\n",
    "print([x for x in it.combinations_with_replacement(B,3)])"
   ]
  },
  {
   "cell_type": "markdown",
   "metadata": {},
   "source": [
    "## Las cosas sobre las que se itera pueden ser cualquier cosa"
   ]
  },
  {
   "cell_type": "code",
   "execution_count": null,
   "metadata": {},
   "outputs": [],
   "source": [
    "print([x for x in it.product('ABCD', repeat=2)])"
   ]
  },
  {
   "cell_type": "code",
   "execution_count": null,
   "metadata": {},
   "outputs": [],
   "source": [
    "print([x for x in it.permutations('ABCD', 2)])"
   ]
  },
  {
   "cell_type": "code",
   "execution_count": null,
   "metadata": {},
   "outputs": [],
   "source": [
    "print([x for x in it.combinations((3,2,1), 2)])"
   ]
  },
  {
   "cell_type": "code",
   "execution_count": null,
   "metadata": {},
   "outputs": [],
   "source": [
    "print([x for x in it.combinations_with_replacement([(3,2,1),'AB',2], 2)])"
   ]
  },
  {
   "cell_type": "markdown",
   "metadata": {},
   "source": [
    "## Ejercicios\n",
    "\n",
    "1. Volver a demostrar que Ramsey(3,3)=6. Podemos colorear con 2 colores las aristas de la gráfica completa en 5 vértices sin que hayan triángulos monocromáticos. Pero con 6 vértices siempre hay al menos un triángulo monocromático.\n",
    "\n",
    "2. Tengo $A$ monedas de $\\$$10, $B$ monedas de $\\$$5, $C$ monedas de $\\$1$ y D monedas de $\\$.50$. ¿De cuántas maneras puedo hacer cambio para un billete de $\\$$100?\n",
    "\n",
    "3. Dado un string de $N$ letras (indexado de $1$ a $N$) y un entero $K\\le N$, se elige aleatoriamente una $K$-tupla de $\\{1,\\dots,N\\}$. Encuentra la probabilidad de que el string correspondiente a esa $K$-tupla contenga la letra 'a'.\n",
    "\n",
    "4. Pensar por qué no es buena idea usar itertools para el ejercicio 1 y diseñar un mejor algoritmo con números en binario."
   ]
  }
 ],
 "metadata": {
  "kernelspec": {
   "display_name": "Python 3",
   "language": "python",
   "name": "python3"
  },
  "language_info": {
   "codemirror_mode": {
    "name": "ipython",
    "version": 3
   },
   "file_extension": ".py",
   "mimetype": "text/x-python",
   "name": "python",
   "nbconvert_exporter": "python",
   "pygments_lexer": "ipython3",
   "version": "3.7.3"
  }
 },
 "nbformat": 4,
 "nbformat_minor": 4
}
