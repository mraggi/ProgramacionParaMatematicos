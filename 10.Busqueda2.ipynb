{
 "cells": [
  {
   "cell_type": "markdown",
   "metadata": {},
   "source": [
    "# Podemos explorar algunos objetos exhaustivamente de otras formas\n",
    "\n",
    "Vamos a usar itertools (https://docs.python.org/3/library/itertools.html).\n",
    "\n",
    "La gran ventaja utilizar estos iteradores es que no es necesario crear toda la lista de cosas, se van creando conforme se necesiten. Eso puede ahorrar memoria y tiempo. Además nos permite iterar sobre conjuntos numerables infinitos."
   ]
  },
  {
   "cell_type": "code",
   "execution_count": 1,
   "metadata": {},
   "outputs": [],
   "source": [
    "import itertools as it"
   ]
  },
  {
   "cell_type": "code",
   "execution_count": 9,
   "metadata": {},
   "outputs": [
    {
     "name": "stdout",
     "output_type": "stream",
     "text": [
      "0\n",
      "1\n",
      "2\n",
      "3\n",
      "4\n",
      "5\n",
      "----\n",
      "6\n",
      "7\n",
      "8\n",
      "9\n",
      "10\n"
     ]
    }
   ],
   "source": [
    "X=it.count(0)\n",
    "for i in X:\n",
    "    print(i)\n",
    "    if i==5:\n",
    "        break;\n",
    "print('----')\n",
    "for i in X:\n",
    "    print(i)\n",
    "    if i==10:\n",
    "        break;\n"
   ]
  },
  {
   "cell_type": "markdown",
   "metadata": {},
   "source": [
    "### product()\n",
    "Para iterar sobre productos cartesianos.\n",
    "\n",
    "Es como `[(x,y) for x in A for y in B]`."
   ]
  },
  {
   "cell_type": "code",
   "execution_count": 3,
   "metadata": {},
   "outputs": [
    {
     "data": {
      "text/plain": [
       "<itertools.product at 0x6ffffe36d360>"
      ]
     },
     "execution_count": 3,
     "metadata": {},
     "output_type": "execute_result"
    }
   ],
   "source": [
    "A=[1,2,3,4]\n",
    "B=['a','b','c']\n",
    "it.product(A,B)"
   ]
  },
  {
   "cell_type": "code",
   "execution_count": 6,
   "metadata": {},
   "outputs": [
    {
     "name": "stdout",
     "output_type": "stream",
     "text": [
      "[(1, 'a'), (1, 'b'), (1, 'c'), (2, 'a'), (2, 'b'), (2, 'c'), (3, 'a'), (3, 'b'), (3, 'c'), (4, 'a'), (4, 'b'), (4, 'c')]\n",
      "[(1, 'a'), (1, 'b'), (1, 'c'), (2, 'a'), (2, 'b'), (2, 'c'), (3, 'a'), (3, 'b'), (3, 'c'), (4, 'a'), (4, 'b'), (4, 'c')]\n"
     ]
    }
   ],
   "source": [
    "AB=it.product(A,B)\n",
    "print(list(AB))"
   ]
  },
  {
   "cell_type": "code",
   "execution_count": 10,
   "metadata": {},
   "outputs": [
    {
     "name": "stdout",
     "output_type": "stream",
     "text": [
      "[(0, 0, 0, 0), (0, 0, 0, 1), (0, 0, 1, 0), (0, 0, 1, 1), (0, 1, 0, 0), (0, 1, 0, 1), (0, 1, 1, 0), (0, 1, 1, 1), (1, 0, 0, 0), (1, 0, 0, 1), (1, 0, 1, 0), (1, 0, 1, 1), (1, 1, 0, 0), (1, 1, 0, 1), (1, 1, 1, 0), (1, 1, 1, 1)]\n"
     ]
    },
    {
     "data": {
      "text/plain": [
       "16"
      ]
     },
     "execution_count": 10,
     "metadata": {},
     "output_type": "execute_result"
    }
   ],
   "source": [
    "X=[0,1]\n",
    "print([x for x in it.product(X,repeat=4)])\n",
    "len([x for x in it.product(X,repeat=4)])"
   ]
  },
  {
   "cell_type": "code",
   "execution_count": 11,
   "metadata": {},
   "outputs": [
    {
     "name": "stdout",
     "output_type": "stream",
     "text": [
      "[(0, 0, 0, 0), (0, 0, 0, 1), (0, 0, 1, 0), (0, 0, 1, 1), (0, 1, 0, 0), (0, 1, 0, 1), (0, 1, 1, 0), (0, 1, 1, 1), (1, 0, 0, 0), (1, 0, 0, 1), (1, 0, 1, 0), (1, 0, 1, 1), (1, 1, 0, 0), (1, 1, 0, 1), (1, 1, 1, 0), (1, 1, 1, 1)]\n"
     ]
    }
   ],
   "source": [
    "print([x for x in it.product(X,X,X,X)])"
   ]
  },
  {
   "cell_type": "code",
   "execution_count": 23,
   "metadata": {},
   "outputs": [
    {
     "name": "stdout",
     "output_type": "stream",
     "text": [
      "[]\n"
     ]
    }
   ],
   "source": [
    "A=[0,1]\n",
    "X=it.product(A,A)\n",
    "print([x for x in it.product(X,X)])"
   ]
  },
  {
   "cell_type": "markdown",
   "metadata": {},
   "source": [
    "### permutations()\n",
    "Para iterar sobre todas las permutaciones. También puede agarrar combinaciones en las que el orden importa."
   ]
  },
  {
   "cell_type": "code",
   "execution_count": 24,
   "metadata": {},
   "outputs": [
    {
     "name": "stdout",
     "output_type": "stream",
     "text": [
      "[('a', 'b', 'c'), ('a', 'c', 'b'), ('b', 'a', 'c'), ('b', 'c', 'a'), ('c', 'a', 'b'), ('c', 'b', 'a')]\n"
     ]
    }
   ],
   "source": [
    "B=['a','b','c']\n",
    "print([x for x in it.permutations(B)])"
   ]
  },
  {
   "cell_type": "code",
   "execution_count": 25,
   "metadata": {},
   "outputs": [
    {
     "name": "stdout",
     "output_type": "stream",
     "text": [
      "[(1, 1, 2, 3), (1, 1, 3, 2), (1, 2, 1, 3), (1, 2, 3, 1), (1, 3, 1, 2), (1, 3, 2, 1), (1, 1, 2, 3), (1, 1, 3, 2), (1, 2, 1, 3), (1, 2, 3, 1), (1, 3, 1, 2), (1, 3, 2, 1), (2, 1, 1, 3), (2, 1, 3, 1), (2, 1, 1, 3), (2, 1, 3, 1), (2, 3, 1, 1), (2, 3, 1, 1), (3, 1, 1, 2), (3, 1, 2, 1), (3, 1, 1, 2), (3, 1, 2, 1), (3, 2, 1, 1), (3, 2, 1, 1)]\n"
     ]
    },
    {
     "data": {
      "text/plain": [
       "24"
      ]
     },
     "execution_count": 25,
     "metadata": {},
     "output_type": "execute_result"
    }
   ],
   "source": [
    "#Aquí hay tuplas repetidas.\n",
    "C=[1,1,2,3]\n",
    "print([x for x in it.permutations(C)])\n",
    "len([x for x in it.permutations(C)])"
   ]
  },
  {
   "cell_type": "code",
   "execution_count": 26,
   "metadata": {},
   "outputs": [
    {
     "name": "stdout",
     "output_type": "stream",
     "text": [
      "[('a', 'b'), ('a', 'c'), ('b', 'a'), ('b', 'c'), ('c', 'a'), ('c', 'b')]\n"
     ]
    }
   ],
   "source": [
    "B=['a','b','c']\n",
    "print([x for x in it.permutations(B,2)])"
   ]
  },
  {
   "cell_type": "markdown",
   "metadata": {},
   "source": [
    "### combinations()\n",
    "Subconjuntos donde el orden no importa."
   ]
  },
  {
   "cell_type": "code",
   "execution_count": 27,
   "metadata": {},
   "outputs": [
    {
     "name": "stdout",
     "output_type": "stream",
     "text": [
      "[('a', 'b', 'c')]\n"
     ]
    }
   ],
   "source": [
    "B=['a','b','c']\n",
    "print([x for x in it.combinations(B,3)])"
   ]
  },
  {
   "cell_type": "code",
   "execution_count": 30,
   "metadata": {},
   "outputs": [
    {
     "name": "stdout",
     "output_type": "stream",
     "text": [
      "[('a', 'c'), ('a', 'b'), ('a', 4), ('c', 'b'), ('c', 4), ('b', 4)]\n"
     ]
    }
   ],
   "source": [
    "B=['a','c','b',4]\n",
    "print([x for x in it.combinations(B,2)])"
   ]
  },
  {
   "cell_type": "code",
   "execution_count": 31,
   "metadata": {},
   "outputs": [
    {
     "name": "stdout",
     "output_type": "stream",
     "text": [
      "[(1, 1), (1, 2), (1, 3), (1, 2), (1, 3), (2, 3)]\n"
     ]
    }
   ],
   "source": [
    "#Aquí hay tuplas repetidas.\n",
    "C=[1,1,2,3]\n",
    "print([x for x in it.combinations(C,2)])"
   ]
  },
  {
   "cell_type": "markdown",
   "metadata": {},
   "source": [
    "### combinations_with_replacement()\n",
    "Como combinations() pero cuando quieres que repita valores"
   ]
  },
  {
   "cell_type": "code",
   "execution_count": 32,
   "metadata": {},
   "outputs": [
    {
     "name": "stdout",
     "output_type": "stream",
     "text": [
      "[('a', 'a', 'a'), ('a', 'a', 'b'), ('a', 'a', 'c'), ('a', 'b', 'b'), ('a', 'b', 'c'), ('a', 'c', 'c'), ('b', 'b', 'b'), ('b', 'b', 'c'), ('b', 'c', 'c'), ('c', 'c', 'c')]\n"
     ]
    }
   ],
   "source": [
    "B=['a','b','c']\n",
    "print([x for x in it.combinations_with_replacement(B,3)])"
   ]
  },
  {
   "cell_type": "code",
   "execution_count": 33,
   "metadata": {},
   "outputs": [
    {
     "name": "stdout",
     "output_type": "stream",
     "text": [
      "[(0, 0, 0), (0, 0, 1), (0, 1, 1), (1, 1, 1)]\n"
     ]
    }
   ],
   "source": [
    "A=[0,1]\n",
    "print([x for x in it.combinations_with_replacement(A,3)])"
   ]
  },
  {
   "cell_type": "code",
   "execution_count": 34,
   "metadata": {},
   "outputs": [
    {
     "name": "stdout",
     "output_type": "stream",
     "text": [
      "[('a', 'a', 'a'), ('a', 'a', 'a'), ('a', 'a', 'c'), ('a', 'a', 'a'), ('a', 'a', 'c'), ('a', 'c', 'c'), ('a', 'a', 'a'), ('a', 'a', 'c'), ('a', 'c', 'c'), ('c', 'c', 'c')]\n"
     ]
    }
   ],
   "source": [
    "#Aquí hay tuplas repetidas.\n",
    "B=['a','a','c']\n",
    "print([x for x in it.combinations_with_replacement(B,3)])"
   ]
  },
  {
   "cell_type": "markdown",
   "metadata": {},
   "source": [
    "## Las cosas sobre las que se itera pueden ser cualquier cosa"
   ]
  },
  {
   "cell_type": "code",
   "execution_count": 35,
   "metadata": {},
   "outputs": [
    {
     "name": "stdout",
     "output_type": "stream",
     "text": [
      "[('A', 'A'), ('A', 'B'), ('A', 'C'), ('A', 'D'), ('B', 'A'), ('B', 'B'), ('B', 'C'), ('B', 'D'), ('C', 'A'), ('C', 'B'), ('C', 'C'), ('C', 'D'), ('D', 'A'), ('D', 'B'), ('D', 'C'), ('D', 'D')]\n"
     ]
    }
   ],
   "source": [
    "print([x for x in it.product('ABCD', repeat=2)])"
   ]
  },
  {
   "cell_type": "code",
   "execution_count": 36,
   "metadata": {},
   "outputs": [
    {
     "name": "stdout",
     "output_type": "stream",
     "text": [
      "[('A', 'B'), ('A', 'C'), ('A', 'D'), ('B', 'A'), ('B', 'C'), ('B', 'D'), ('C', 'A'), ('C', 'B'), ('C', 'D'), ('D', 'A'), ('D', 'B'), ('D', 'C')]\n"
     ]
    }
   ],
   "source": [
    "print([x for x in it.permutations('ABCD', 2)])"
   ]
  },
  {
   "cell_type": "code",
   "execution_count": 37,
   "metadata": {},
   "outputs": [
    {
     "name": "stdout",
     "output_type": "stream",
     "text": [
      "[(3, 2), (3, 1), (2, 1)]\n"
     ]
    }
   ],
   "source": [
    "print([x for x in it.combinations((3,2,1), 2)])"
   ]
  },
  {
   "cell_type": "code",
   "execution_count": 38,
   "metadata": {},
   "outputs": [
    {
     "name": "stdout",
     "output_type": "stream",
     "text": [
      "[((3, 2, 1), (3, 2, 1)), ((3, 2, 1), 'AB'), ((3, 2, 1), 2), ('AB', 'AB'), ('AB', 2), (2, 2)]\n"
     ]
    }
   ],
   "source": [
    "print([x for x in it.combinations_with_replacement([(3,2,1),'AB',2], 2)])"
   ]
  },
  {
   "cell_type": "markdown",
   "metadata": {},
   "source": [
    "## Ejercicios\n",
    "\n",
    "1. Volver a demostrar que Ramsey(3,3)=6. Podemos colorear con 2 colores las aristas de la gráfica completa en 5 vértices sin que hayan triángulos monocromáticos. Pero con 6 vértices siempre hay al menos un triángulo monocromático.\n",
    "\n",
    "2. Tengo $A$ monedas de $\\$$10, $B$ monedas de $\\$$5, $C$ monedas de $\\$1$ y D monedas de $\\$.50$. ¿De cuántas maneras puedo hacer cambio para un billete de $\\$$100?\n",
    "\n",
    "3. Dado un string de $N$ letras (indexado de $1$ a $N$) y un entero $K\\le N$, se elige aleatoriamente una $K$-tupla de $\\{1,\\dots,N\\}$. Encuentra la probabilidad de que el string correspondiente a esa $K$-tupla contenga la letra 'a'.\n",
    "\n",
    "4. La entrada son una matriz entera con $K$ renglones y $N$ columnas (lista de listas) y un entero $M$. Se elige un número $n_i$ de cada renglón y se calcula $(n_1^2+n_2^2+\\dots+n_k^2) \\mod M$. ¿Cuál es el máximo valor que puede tomar esta función?\n",
    "\n",
    "5. Pensar por qué no es buena idea usar itertools para el ejercicio 1 y diseñar un mejor algoritmo con números en binario."
   ]
  },
  {
   "cell_type": "markdown",
   "metadata": {},
   "source": [
    "## Problema 2"
   ]
  },
  {
   "cell_type": "code",
   "execution_count": 39,
   "metadata": {},
   "outputs": [],
   "source": [
    "#Ivan\n",
    "def cambio_de_n_con_d_c_u_m(n,d,c,u,m):\n",
    "    monedas_de_diez=[i for i in range(d+1)]\n",
    "    monedas_de_cinco=[i for i in range(c+1)]\n",
    "    monedas_de_uno=[i for i in range(u+1)]\n",
    "    monedas_de_cincuenta=[i for i in range(m+1)]\n",
    "    for x in it.product(monedas_de_diez,monedas_de_cinco,monedas_de_uno,monedas_de_cincuenta):\n",
    "        if 10*x[0]+5*x[1]+x[2]+0.5*x[3]==n:\n",
    "            print(f\"{x[0]} monedas de 10, {x[1]} monedas de 5,{x[2]} monedas de 1,{x[3]} monedas de cincuenta centavos, \")"
   ]
  },
  {
   "cell_type": "code",
   "execution_count": 40,
   "metadata": {},
   "outputs": [
    {
     "name": "stdout",
     "output_type": "stream",
     "text": [
      "8 monedas de 10, 2 monedas de 5,10 monedas de 1,0 monedas de cincuenta centavos, \n",
      "9 monedas de 10, 0 monedas de 5,10 monedas de 1,0 monedas de cincuenta centavos, \n",
      "9 monedas de 10, 1 monedas de 5,5 monedas de 1,0 monedas de cincuenta centavos, \n",
      "9 monedas de 10, 2 monedas de 5,0 monedas de 1,0 monedas de cincuenta centavos, \n",
      "10 monedas de 10, 0 monedas de 5,0 monedas de 1,0 monedas de cincuenta centavos, \n"
     ]
    }
   ],
   "source": [
    "cambio_de_n_con_d_c_u_m(100,10,2,10,1)"
   ]
  },
  {
   "cell_type": "code",
   "execution_count": 43,
   "metadata": {},
   "outputs": [
    {
     "name": "stdout",
     "output_type": "stream",
     "text": [
      "((0, 0, 10, 10, 10, 10, 10, 10, 10, 10), (5, 5), (1, 1, 1, 1, 1, 1, 1, 1, 1, 1), (0,))\n",
      "((0, 10, 10, 10, 10, 10, 10, 10, 10, 10), (0, 0), (1, 1, 1, 1, 1, 1, 1, 1, 1, 1), (0,))\n",
      "((0, 10, 10, 10, 10, 10, 10, 10, 10, 10), (0, 5), (0, 0, 0, 0, 0, 1, 1, 1, 1, 1), (0,))\n",
      "((0, 10, 10, 10, 10, 10, 10, 10, 10, 10), (5, 5), (0, 0, 0, 0, 0, 0, 0, 0, 0, 0), (0,))\n",
      "((10, 10, 10, 10, 10, 10, 10, 10, 10, 10), (0, 0), (0, 0, 0, 0, 0, 0, 0, 0, 0, 0), (0,))\n",
      "5\n"
     ]
    }
   ],
   "source": [
    "#Prima\n",
    "N=(10,2,10,1)\n",
    "diez=[x for x in it.combinations_with_replacement([0,10],N[0])]\n",
    "cinco=[x for x in it.combinations_with_replacement([0,5],N[1])]\n",
    "uno=[x for x in it.combinations_with_replacement([0,1],N[2])]\n",
    "medio=[x for x in it.combinations_with_replacement([0,0.5],N[3])]\n",
    "formas=0\n",
    "for x in it.product(diez,cinco,uno,medio):\n",
    "    U=sum([sum(l) for l in x])\n",
    "    if U==100:\n",
    "        formas+=1\n",
    "        print(x)\n",
    "print(formas)"
   ]
  },
  {
   "cell_type": "code",
   "execution_count": 45,
   "metadata": {},
   "outputs": [
    {
     "data": {
      "text/plain": [
       "5"
      ]
     },
     "execution_count": 45,
     "metadata": {},
     "output_type": "execute_result"
    }
   ],
   "source": [
    "#Toño\n",
    "def cambio100(A,B,C,D):\n",
    "    z=0\n",
    "    monedas=10*A+5*B+1*C+.5*D\n",
    "    if monedas <100: \n",
    "        return print(\"no tengo cambio\")\n",
    "    for x in it.product(range(A+1),range(B+1),range(C+1),range(D+1)):\n",
    "        a=10*x[0]+5*x[1]+1*x[2]+.5*x[3]\n",
    "        if a==100:\n",
    "            z=z+1\n",
    "    return z\n",
    "cambio100(10,2,10,1)"
   ]
  },
  {
   "cell_type": "code",
   "execution_count": 55,
   "metadata": {},
   "outputs": [
    {
     "name": "stdin",
     "output_type": "stream",
     "text": [
      " 10\n",
      " 2\n",
      " 10\n",
      " 1\n"
     ]
    },
    {
     "name": "stdout",
     "output_type": "stream",
     "text": [
      "{(10, 10, 10, 10, 10, 10, 10, 10, 10, 5, 1, 1, 1, 1, 1), (10, 10, 10, 10, 10, 10, 10, 10, 5, 5, 1, 1, 1, 1, 1, 1, 1, 1, 1, 1), (10, 10, 10, 10, 10, 10, 10, 10, 10, 5, 5), (10, 10, 10, 10, 10, 10, 10, 10, 10, 1, 1, 1, 1, 1, 1, 1, 1, 1, 1), (10, 10, 10, 10, 10, 10, 10, 10, 10, 10)}\n"
     ]
    }
   ],
   "source": [
    "#Felix\n",
    "L=[]\n",
    "for i in range(4):\n",
    "    L.append(int(input()))\n",
    "    \n",
    "DineroTotal=[]\n",
    "for j in range(L[0]):\n",
    "    DineroTotal.append(10)\n",
    "for j in range(L[1]):\n",
    "    DineroTotal.append(5)\n",
    "for j in range(L[2]):\n",
    "    DineroTotal.append(1)\n",
    "for j in range(L[3]):\n",
    "    DineroTotal.append(1/2)\n",
    "Combinaciones=set()\n",
    "for i in range(10,sum(L)):\n",
    "    Combinaciones.update({x for x in it.combinations(DineroTotal,i) if sum(x)==100})\n",
    "print(Combinaciones)"
   ]
  },
  {
   "cell_type": "markdown",
   "metadata": {},
   "source": [
    "## Problema 3"
   ]
  },
  {
   "cell_type": "code",
   "execution_count": 58,
   "metadata": {},
   "outputs": [],
   "source": [
    "#Ivan\n",
    "def probabilidad_de_a_en_permutaciones_de_tamaño_k_de_S(S,a,k):\n",
    "    p=0\n",
    "    q=0\n",
    "    for x in it.permutations(S, k):\n",
    "        q+=1\n",
    "        if a in x:\n",
    "            p+=1\n",
    "    probabilidad=p/q\n",
    "    return probabilidad"
   ]
  },
  {
   "cell_type": "code",
   "execution_count": 69,
   "metadata": {},
   "outputs": [
    {
     "data": {
      "text/plain": [
       "1.0"
      ]
     },
     "execution_count": 69,
     "metadata": {},
     "output_type": "execute_result"
    }
   ],
   "source": [
    "probabilidad_de_a_en_permutaciones_de_tamaño_k_de_S(\"asdfasf\",\"a\",6)"
   ]
  },
  {
   "cell_type": "code",
   "execution_count": 70,
   "metadata": {},
   "outputs": [
    {
     "name": "stdout",
     "output_type": "stream",
     "text": [
      "1.0\n"
     ]
    }
   ],
   "source": [
    "#Prima\n",
    "A='asdfasd'\n",
    "k=6\n",
    "n=0\n",
    "T=0\n",
    "for x in it.combinations(A,k):\n",
    "    T+=1\n",
    "    if 'a' in x:\n",
    "        n+=1        \n",
    "print(n/T)\n"
   ]
  },
  {
   "cell_type": "markdown",
   "metadata": {},
   "source": [
    "## Problema 4\n",
    "\n",
    "La entrada son una matriz entera con $K$ renglones y $N$ columnas (lista de listas) y un entero $M$. Se elige un número $n_i$ de cada renglón y se calcula $(n_1^2+n_2^2+\\dots+n_k^2) \\mod M$. ¿Cuál es el máximo valor que puede tomar esta función?"
   ]
  },
  {
   "cell_type": "code",
   "execution_count": 73,
   "metadata": {},
   "outputs": [
    {
     "name": "stdout",
     "output_type": "stream",
     "text": [
      "[[0, 9, 3, 1, 3], [3, 5, 3, 4, 7], [8, 3, 5, 5, 2]]\n",
      "9\n"
     ]
    }
   ],
   "source": [
    "#Prima\n",
    "import random\n",
    "M=10\n",
    "N=5\n",
    "K=3\n",
    "Matriz=[]\n",
    "for x in range(K):\n",
    "    R=[]\n",
    "    for y in range(N):\n",
    "        R=R+[random.randint(0,M-1)]\n",
    "    Matriz+=[R]\n",
    "print(Matriz)\n",
    "maximo=0\n",
    "for x in it.product(range(N),repeat=K):\n",
    "    this=0\n",
    "    for i in range(K):\n",
    "        this+=Matriz[i][x[i]]**2\n",
    "    this=this%M\n",
    "    if this>maximo:\n",
    "        maximo=this\n",
    "print(maximo)"
   ]
  },
  {
   "cell_type": "code",
   "execution_count": 74,
   "metadata": {},
   "outputs": [
    {
     "name": "stdout",
     "output_type": "stream",
     "text": [
      "[[7, 6, 1, 8, 7], [8, 9, 6, 1, 5], [1, 6, 2, 5, 3]]\n",
      "(7, 8, 1)\n",
      "(7, 8, 6)\n",
      "(7, 8, 2)\n",
      "(7, 8, 5)\n",
      "(7, 8, 3)\n",
      "(7, 9, 1)\n",
      "(7, 9, 6)\n",
      "(7, 9, 2)\n",
      "(7, 9, 5)\n",
      "(7, 9, 3)\n",
      "(7, 6, 1)\n",
      "(7, 6, 6)\n",
      "(7, 6, 2)\n",
      "(7, 6, 5)\n",
      "(7, 6, 3)\n",
      "(7, 1, 1)\n",
      "(7, 1, 6)\n",
      "(7, 1, 2)\n",
      "(7, 1, 5)\n",
      "(7, 1, 3)\n",
      "(7, 5, 1)\n",
      "(7, 5, 6)\n",
      "(7, 5, 2)\n",
      "(7, 5, 5)\n",
      "(7, 5, 3)\n",
      "(6, 8, 1)\n",
      "(6, 8, 6)\n",
      "(6, 8, 2)\n",
      "(6, 8, 5)\n",
      "(6, 8, 3)\n",
      "(6, 9, 1)\n",
      "(6, 9, 6)\n",
      "(6, 9, 2)\n",
      "(6, 9, 5)\n",
      "(6, 9, 3)\n",
      "(6, 6, 1)\n",
      "(6, 6, 6)\n",
      "(6, 6, 2)\n",
      "(6, 6, 5)\n",
      "(6, 6, 3)\n",
      "(6, 1, 1)\n",
      "(6, 1, 6)\n",
      "(6, 1, 2)\n",
      "(6, 1, 5)\n",
      "(6, 1, 3)\n",
      "(6, 5, 1)\n",
      "(6, 5, 6)\n",
      "(6, 5, 2)\n",
      "(6, 5, 5)\n",
      "(6, 5, 3)\n",
      "(1, 8, 1)\n",
      "(1, 8, 6)\n",
      "(1, 8, 2)\n",
      "(1, 8, 5)\n",
      "(1, 8, 3)\n",
      "(1, 9, 1)\n",
      "(1, 9, 6)\n",
      "(1, 9, 2)\n",
      "(1, 9, 5)\n",
      "(1, 9, 3)\n",
      "(1, 6, 1)\n",
      "(1, 6, 6)\n",
      "(1, 6, 2)\n",
      "(1, 6, 5)\n",
      "(1, 6, 3)\n",
      "(1, 1, 1)\n",
      "(1, 1, 6)\n",
      "(1, 1, 2)\n",
      "(1, 1, 5)\n",
      "(1, 1, 3)\n",
      "(1, 5, 1)\n",
      "(1, 5, 6)\n",
      "(1, 5, 2)\n",
      "(1, 5, 5)\n",
      "(1, 5, 3)\n",
      "(8, 8, 1)\n",
      "(8, 8, 6)\n",
      "(8, 8, 2)\n",
      "(8, 8, 5)\n",
      "(8, 8, 3)\n",
      "(8, 9, 1)\n",
      "(8, 9, 6)\n",
      "(8, 9, 2)\n",
      "(8, 9, 5)\n",
      "(8, 9, 3)\n",
      "(8, 6, 1)\n",
      "(8, 6, 6)\n",
      "(8, 6, 2)\n",
      "(8, 6, 5)\n",
      "(8, 6, 3)\n",
      "(8, 1, 1)\n",
      "(8, 1, 6)\n",
      "(8, 1, 2)\n",
      "(8, 1, 5)\n",
      "(8, 1, 3)\n",
      "(8, 5, 1)\n",
      "(8, 5, 6)\n",
      "(8, 5, 2)\n",
      "(8, 5, 5)\n",
      "(8, 5, 3)\n",
      "(7, 8, 1)\n",
      "(7, 8, 6)\n",
      "(7, 8, 2)\n",
      "(7, 8, 5)\n",
      "(7, 8, 3)\n",
      "(7, 9, 1)\n",
      "(7, 9, 6)\n",
      "(7, 9, 2)\n",
      "(7, 9, 5)\n",
      "(7, 9, 3)\n",
      "(7, 6, 1)\n",
      "(7, 6, 6)\n",
      "(7, 6, 2)\n",
      "(7, 6, 5)\n",
      "(7, 6, 3)\n",
      "(7, 1, 1)\n",
      "(7, 1, 6)\n",
      "(7, 1, 2)\n",
      "(7, 1, 5)\n",
      "(7, 1, 3)\n",
      "(7, 5, 1)\n",
      "(7, 5, 6)\n",
      "(7, 5, 2)\n",
      "(7, 5, 5)\n",
      "(7, 5, 3)\n"
     ]
    }
   ],
   "source": [
    "import random\n",
    "M=10\n",
    "N=5\n",
    "K=3\n",
    "Matriz=[]\n",
    "for x in range(K):\n",
    "    R=[]\n",
    "    for y in range(N):\n",
    "        R=R+[random.randint(0,M-1)]\n",
    "    Matriz+=[R]\n",
    "print(Matriz)\n",
    "for x in it.product(*Matriz):\n",
    "    \n",
    "    print(x)"
   ]
  },
  {
   "cell_type": "markdown",
   "metadata": {},
   "source": [
    "## Problema 1"
   ]
  },
  {
   "cell_type": "code",
   "execution_count": 75,
   "metadata": {},
   "outputs": [
    {
     "name": "stdout",
     "output_type": "stream",
     "text": [
      "All colorings have monochromatic triangles.\n"
     ]
    }
   ],
   "source": [
    "#Tona\n",
    "import itertools as it\n",
    "\n",
    "def hasMono(triangles,coloring):\n",
    "\tfor triangle in triangles:\n",
    "\t\tif len(set([coloring[triangle[i]] for i in range(3)]))==1:\n",
    "\t\t\treturn True\n",
    "\treturn False\n",
    "\n",
    "N = 6\n",
    "\n",
    "edges = [(i,j) for i,j in it.product(range(N),repeat=2) if i<j]\n",
    "triangles = [[(i,j),(j,k),(i,k)] for i,j,k in it.product(range(N),repeat=3) if i<j and j<k]\n",
    "ramsey = True\n",
    "\n",
    "for i in range(2**len(edges)):\n",
    "\tcolor = list(bin(i)[2:])\n",
    "\twhile len(color)<len(edges):\n",
    "\t\tcolor = ['0']+color\n",
    "\tcoloring = {}\n",
    "\tfor j in range(len(edges)):\n",
    "\t\tcoloring[edges[j]] = color[j]\n",
    "\tif not hasMono(triangles,coloring):\n",
    "\t\tprint(coloring,\" has no monochromatic triangles.\")\n",
    "\t\tramsey = False\n",
    "if ramsey:\n",
    "\tprint(\"All colorings have monochromatic triangles.\")"
   ]
  },
  {
   "cell_type": "code",
   "execution_count": null,
   "metadata": {},
   "outputs": [],
   "source": [
    "#Yo\n",
    "import itertools as it\n",
    "\n",
    "def busca_coloracion(N,num_colors):\n",
    "    aristas = {p: i for i,p in enumerate(it.combinations(range(N),2))}\n",
    "    colorings = it.product(range(num_colors),repeat=len(aristas))\n",
    "    for c in colorings:\n",
    "        if contiene_triangulo_mono(N,aristas,c):\n",
    "            continue\n",
    "        else:\n",
    "            print(\"Esta coloracion no tiene triangulos monocromaticos:\")\n",
    "            imprime_coloracion(aristas,c)\n",
    "            return\n",
    "    print(\"Todas las coloraciones tienen triangulo monocromatico.\")\n",
    "\n",
    "def contiene_triangulo_mono(N,aristas,c):\n",
    "    for triang in it.combinations(range(N),3):\n",
    "        if es_mono(triang,aristas,c):\n",
    "            return True\n",
    "    return False\n",
    "\n",
    "def es_mono(t,ar,c):\n",
    "    c1 = c[ar[(t[0],t[1])]]\n",
    "    c2 = c[ar[(t[0],t[2])]]\n",
    "    c3 = c[ar[(t[1],t[2])]]\n",
    "    return c1 == c2 == c3\n",
    "\n",
    "def imprime_coloracion(ar,c):\n",
    "    for a,i in ar.items():\n",
    "        print(f\"{a}: {c[i]}\")"
   ]
  },
  {
   "cell_type": "code",
   "execution_count": null,
   "metadata": {},
   "outputs": [],
   "source": [
    "busca_coloracion(6,2)"
   ]
  }
 ],
 "metadata": {
  "kernelspec": {
   "display_name": "Python 3",
   "language": "python",
   "name": "python3"
  },
  "language_info": {
   "codemirror_mode": {
    "name": "ipython",
    "version": 3
   },
   "file_extension": ".py",
   "mimetype": "text/x-python",
   "name": "python",
   "nbconvert_exporter": "python",
   "pygments_lexer": "ipython3",
   "version": "3.7.3"
  }
 },
 "nbformat": 4,
 "nbformat_minor": 4
}
