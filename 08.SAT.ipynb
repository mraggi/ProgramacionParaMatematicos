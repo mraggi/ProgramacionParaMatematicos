{
 "cells": [
  {
   "cell_type": "markdown",
   "metadata": {},
   "source": [
    "# El problema SAT\n",
    "\n",
    "El *Boolean SATisfiability problem* es el problema de determinar si existe una interpretación que satisfaga una fórmula booleana dada. Si sí, la fórmula es *satisfacible*, si no es *insatisfacible*. Por ejemplo, `(a ∨ b) ∧ (¬a)` es satisfacible pero `(a ∨ b) ∧ (¬a) ∧ (¬b)` no lo es.\n",
    "\n",
    "SAT fue el primer problema que se demostró ser NP-complete (Teorema de Cook–Levin). Sin embargo, en la práctica se pueden resolver problemas SAT con miles de fórmulas y millones de variables.\n",
    "\n",
    "Una *fórmula booleana* es una expresión formada por variables y los operadores AND (conjunción, ∧), OR (disjuncióin, ∨), NOT (negación, ¬), y paréntesis.\n",
    "\n",
    "Un *literal* es una variable o su negación (NOT). Una *cláusula* es una disjunción (ORs) de literales. Una *fórmula normal conjuntiva* (CNF) es una conjunción (ANDs) de cláusulas. Por ejemplo, `(a ∨ b) ∧ (¬a)` es una CNF pero `((a ∨ b) ∧ (¬a ∨ c)) ∨ (¬c ∨ b)` no lo es. Cualquier fórmula se puede expresar como una CNF.\n",
    "\n",
    "Si restringimos el problema al caso en que cada cláusula tiene $k$ literales, se llama *$k$-SAT*. El problema $2$-SAT se puede resolver en timpo polinomial pero $3$-SAT es NP-completo. Cualquier fórmula es equivalente a una fórmula de $3$-SAT aunque tal vez tengamos que incrementar el número de variables.\n",
    "\n",
    "## SAT-solvers\n",
    "\n",
    "Aquí hay una lista de programas que lo hacen.\n",
    "\n",
    "**CryptoMiniSat**\n",
    "\n",
    "https://github.com/msoos/cryptominisat\n",
    "\n",
    "**MiniSat**\n",
    "\n",
    "http://minisat.se/\n",
    "\n",
    "Este es probablemente el más popular de todos.\n",
    "\n",
    "**PySAT**\n",
    "\n",
    "https://pypi.org/project/python-sat/\n",
    "\n",
    "Contiene varios algoritmos: CaDiCaL, Glucose, Lingeling, MapleLCMDistChronoBT, MapleCM, Maplesat, Minicard, Minisat.\n",
    "\n",
    "\n",
    "## Formato\n",
    "\n",
    "Hay un formato más o menos estándar que usan los SAT-solvers como entrada.\n",
    "\n",
    "Hay que crear un archvo, éste puede tener varios renglones. Los renglones que empiezan con `c` son comentarios y se ignoran.\n",
    "\n",
    "El primer renglón (no-comentario) debe ser de esta forma:\n",
    "\n",
    "`p cnf NUMBER_OF_VARIABLES NUMBER_OF_CLAUSES`\n",
    "\n",
    "Cada renglón siguiente (no-comentario) define una cláusula. Estos renglones tienen números enteros separados por un espacio. Un entero positivo $k$ representa la variable $x_k$, mientras que $-k$ representa $¬ x_k$. Cada renglón debe terminar con el número $0$.\n",
    "\n",
    "### Ejemplo\n",
    "\n",
    "Para la fórmula\n",
    "```\n",
    "(x1 ∨ ¬x5 ∨ x4) ∧\n",
    "(¬x1 ∨ x5 ∨ x3 ∨ x4) ∧\n",
    "(¬x3 ∨ x4)\n",
    "```\n",
    "podemos crear un archivo con este texto:\n",
    "```\n",
    "c Mi primer problema SAT\n",
    "p cnf 5 3\n",
    "1 -5 4 0\n",
    "-1 5 3 4 0\n",
    "-3 4 0\n",
    "``` \n",
    "\n",
    "La fórmula\n",
    "```\n",
    "(x1) ∧\n",
    "(¬x2) ∧\n",
    "(¬x3) ∧\n",
    "(¬x1 ∨ x2 ∨ x3)\n",
    "```\n",
    "corresponde a:\n",
    "```\n",
    "p cnf 3 4\n",
    "1 0\n",
    "-2 0\n",
    "-3 0\n",
    "-1 2 3 0\n",
    "```"
   ]
  },
  {
   "cell_type": "code",
   "execution_count": 13,
   "metadata": {},
   "outputs": [],
   "source": [
    "with open(\"sat1.txt\", \"w\") as f: #w para abrir el archivo en modo write\n",
    "    f.write(\"c Mi primer problema SAT\\n\")\n",
    "    f.write(\"p cnf 5 3\\n\")\n",
    "    f.write(\"1 -5 4 0\\n\")\n",
    "    f.write(\"-1 5 3 4 0\\n\")\n",
    "    f.write(\"-3 4 0\\n\")"
   ]
  },
  {
   "cell_type": "markdown",
   "metadata": {},
   "source": [
    "El programa anterior crea un archivo con el 1er ejemplo. Lo podemos correr desde una terminal mediante un comando similar a\n",
    "\n",
    "`cryptominisat5-win-amd64-nogauss sat1.txt`\n",
    "\n",
    "dependiendo de el SAT-solver que usen y su sistema operativo. En caso de haber problemas, pueden usar este link para correr las cosas en linea: https://msoos.github.io/cryptominisat_web/\n",
    "\n",
    "Después de correr este comando deberían poder ver (tal vez después de unas estadísticas) la respuesta\n",
    "\n",
    "```\n",
    "s SATISFIABLE\n",
    "v -1 -2 -3 -4 -5 0\n",
    "```\n",
    "\n",
    "Esto significa que la fórmula sí es satisfacible, se satisface con los valores $x_i=FALSE$ para $i=1,\\dots, 5$. Puede haber otros valores para los cuáles la fórmula se satisface. Para confirmar si es único podemos cambiar el archivo."
   ]
  },
  {
   "cell_type": "code",
   "execution_count": 14,
   "metadata": {},
   "outputs": [],
   "source": [
    "with open(\"sat1.txt\", \"a\") as f: #a para agregar al archivo sin borrar lo anterior\n",
    "    f.write(\"1 2 3 4 5 0\\n\")"
   ]
  },
  {
   "cell_type": "markdown",
   "metadata": {},
   "source": [
    "Esta vez obtenemos la respuesta\n",
    "\n",
    "```\n",
    "s SATISFIABLE\n",
    "v -1 2 -3 -4 -5 0\n",
    "```\n",
    "\n",
    "que nos da la solución $x_2=TRUE$, $x_i=FALSE$ para $i=1,3,4,5$."
   ]
  },
  {
   "cell_type": "code",
   "execution_count": 15,
   "metadata": {},
   "outputs": [],
   "source": [
    "with open(\"sat2.txt\", \"w\") as f:\n",
    "    f.write(\"p cnf 3 4\\n1 0\\n-2 0\\n-3 0\\n-1 2 3 0\\n\")"
   ]
  },
  {
   "cell_type": "markdown",
   "metadata": {},
   "source": [
    "Este programa nos da\n",
    "\n",
    "```\n",
    "s UNSATISFIABLE\n",
    "```\n",
    "\n",
    "que significa que la fórmula no se puede satisfacer. Además es pósible extraer una prueba formar de que este es el caso, pero no veremos eso en este curso."
   ]
  },
  {
   "cell_type": "markdown",
   "metadata": {},
   "source": [
    "## Ramsey\n",
    "\n",
    "Imaginemos que queremos ver si las aristas de una gráfica se pueden colorear con dos colores sin formar triángulos monocromáticos.\n",
    "\n",
    "Podemos crear una variable para cada arista y buscamos asignar TRUE o FALSE a cada variable de forma que no tengamos un triángulo cuyas variables sean todas TRUE ni todas FALSE.\n",
    "\n",
    "Si $a,b,c$ son variables que forman un triángulo, esto lo podemos escribir como\n",
    "```\n",
    "(a ∨ b ∨ c) ∧\n",
    "(¬a ∨ ¬b ∨ ¬c)\n",
    "```\n",
    "Así garantizamos que haya un TRUE y un FALSE.\n",
    "\n",
    "Hagamos esto para la gráfica completa de $n$ vértices. Los casos interesantes son $n=5,6$."
   ]
  },
  {
   "cell_type": "code",
   "execution_count": 20,
   "metadata": {},
   "outputs": [],
   "source": [
    "n=10\n",
    "\n",
    "listaDeAristas = [(i,j) for i in range(n-1) for j in range(i+1,n)]\n",
    "listaDeTriangulos = []\n",
    "for i in range(n-2):\n",
    "    for j in range(i+1,n-1):\n",
    "        for k in range(j+1,n):\n",
    "            a=listaDeAristas.index((i,j))+1\n",
    "            b=listaDeAristas.index((i,k))+1\n",
    "            c=listaDeAristas.index((j,k))+1\n",
    "            listaDeTriangulos.append((a,b,c))\n",
    "numVars = len(listaDeAristas)\n",
    "numClaus = 2*len(listaDeTriangulos)\n",
    "with open(\"ramsey.txt\", \"w\") as f:\n",
    "    f.write(f\"c Ramsey para K_{n}\\n\")\n",
    "    f.write(f\"p cnf {numVars} {numClaus}\\n\")\n",
    "    for a,b,c in listaDeTriangulos:\n",
    "        f.write(f\"{a} {b} {c} 0\\n\")\n",
    "        f.write(f\"{-a} {-b} {-c} 0\\n\")"
   ]
  },
  {
   "cell_type": "code",
   "execution_count": 19,
   "metadata": {},
   "outputs": [
    {
     "data": {
      "text/plain": [
       "[(0, 1),\n",
       " (0, 2),\n",
       " (0, 3),\n",
       " (0, 4),\n",
       " (0, 5),\n",
       " (1, 2),\n",
       " (1, 3),\n",
       " (1, 4),\n",
       " (1, 5),\n",
       " (2, 3),\n",
       " (2, 4),\n",
       " (2, 5),\n",
       " (3, 4),\n",
       " (3, 5),\n",
       " (4, 5)]"
      ]
     },
     "execution_count": 19,
     "metadata": {},
     "output_type": "execute_result"
    }
   ],
   "source": [
    "listaDeAristas"
   ]
  },
  {
   "cell_type": "code",
   "execution_count": null,
   "metadata": {},
   "outputs": [],
   "source": []
  },
  {
   "cell_type": "markdown",
   "metadata": {},
   "source": [
    "### Problemas\n",
    "\n",
    "1. Se necesita establecer un horario para $4$ cursos que se darán durante $3$ días con las siguientes condiciones: \n",
    "    - Cada día está dividido en $3$ periodos.\n",
    "    - Durante cada perdiodo se debe dar exactamente un curso y no se debe dar el mismo curso dos veces el mismo día.\n",
    "    - Cada curso requiere de al menos dos periodos.\n",
    "\n",
    "    Haz un programa que genere un horario válido.\n",
    "\n",
    "2. Ver si con 3 colores se pueden colorear los vértices de la gráfica de Petersen de forma que no hayan dos vértices adyacentes del mismo color.\n",
    "\n",
    "La gráfica de Petersen tiene como vértices las parejas $\\{i,j\\}$ con $i\\neq j$ y dos vértices son adyacentes si son disjuntos.\n",
    "\n",
    "Sugerencia: por cada vértices poner 3 variables, cada variable de un vértice representa si se pinta de ese color o no.\n",
    "\n",
    "3. Ver si los vértices de la gráfica completa en $n$ vértices se puede colorear con $k$ colores de forma que no hayan dos vértices del mismo color adyacentes.\n",
    "\n",
    "4. Decidir si se puede terminar de resolver un Sudoku de $4\\times 4$.\n",
    "\n",
    "Sugerencia: Por cada cuadro poner 4 variables $v_1,\\dots,v_4$. La variable $v_i$ de un cuadro dado dice si en ese cuadro se va a escribir el número $i$. Al final se pueden poner cláusulas extra que dicen qué cuadros ya estaban llenos desde el principio.\n",
    "\n",
    "5. Camino Hamiltoniano\n",
    "\n",
    "Sugerencia: Si tenemos n vértices, las variables serán $x_{i,j}$ con $1\\le i,j\\le n$. El valor $x_{i,j}=TRUE$ significa que en el $i$-ésimo vértice del camino estamos en el vértice $j$ de la gráfica."
   ]
  },
  {
   "cell_type": "code",
   "execution_count": null,
   "metadata": {},
   "outputs": [],
   "source": []
  },
  {
   "cell_type": "code",
   "execution_count": null,
   "metadata": {},
   "outputs": [],
   "source": []
  }
 ],
 "metadata": {
  "kernelspec": {
   "display_name": "Python 3",
   "language": "python",
   "name": "python3"
  },
  "language_info": {
   "codemirror_mode": {
    "name": "ipython",
    "version": 3
   },
   "file_extension": ".py",
   "mimetype": "text/x-python",
   "name": "python",
   "nbconvert_exporter": "python",
   "pygments_lexer": "ipython3",
   "version": "3.7.3"
  }
 },
 "nbformat": 4,
 "nbformat_minor": 2
}
