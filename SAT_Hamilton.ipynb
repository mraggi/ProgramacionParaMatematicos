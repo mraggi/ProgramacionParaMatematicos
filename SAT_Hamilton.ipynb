{
 "cells": [
  {
   "cell_type": "markdown",
   "metadata": {},
   "source": [
    "Para hacer camino Hamiltoniano: Vamos a pensar que nos pasan la matriz de adyacencia $A$ (e.g. la entrada $uv$ es 1 si y solo si hay arista de $u$ a $v$).\n",
    "\n",
    "Este problema es bastante difícil. ¡Felicidades si lo lograste! Vamos a poner las condiciones lógicas (con implicaciones, etc.) y después las traduciremos a fórmulas de SAT.\n",
    "\n",
    "Vamos a poner $n^2$ variables. Por cada vértice $v$ y cada entero $i\\in n$, consideramos $x_{ui}$, donde $x_{ui}$ será verdadero si en el camino hamiltoniano $u$ está en la posición $i$.\n",
    "\n",
    "Necesitamos entonces varias condiciones:\n",
    "\n",
    "1. **En cada posición del camino sólo hay un vértice**: $x_{ui}$ y $x_{vi}$ no pueden ser verdaderas al mismo tiempo si $u\\neq v$.\n",
    "2. **Cada vértice debe ser visitado a lo más una vez**: $x_{ui}$ y $x_{uj}$ no pueden ser verdaderas al mismo tiempo si $i\\neq j$.\n",
    "3. **Todos los vértices deben ser visitados al menos una vez**: Al menos una de $x_{u0}$, $x_{u1}$, etc. debe ser verdadera.\n",
    "4. **Dos vértices consecutivos deben estar conectados por una arista**: Para cada $i$, si $x_{ui}$ y $x_{v(i+1)}$, entonces $u$ y $v$ deben ser una arista. De otra manera: $A[u,v] = 0 \\implies \\neg x_{ui} \\vee \\neg x_{v(i+1)}$."
   ]
  },
  {
   "cell_type": "markdown",
   "metadata": {},
   "source": [
    "Podemos traducir a SAT de la siguiente manera (pon los cuantificadores correctos):"
   ]
  },
  {
   "cell_type": "markdown",
   "metadata": {},
   "source": [
    "1. $\\neg x_{ui} \\vee \\neg x_{vi}$\n",
    "2. $\\neg x_{ui} \\vee \\neg x_{uj}$\n",
    "3. $x_{u0} \\vee x_{u1} \\vee \\dots$\n",
    "4. Cada vez que $A[u,v] == 0$ tenemos que poner $\\neg x_{ui} \\vee \\neg x_{v(i+1)}$\n",
    "\n",
    "Finalmente, hay que numerar las variables: $x_{00}$ es la variable 1, $x_{01}$ la 2, etc.\n",
    "\n",
    "Vamos a hacer una función de ayuda que convierte las variables en su número:"
   ]
  },
  {
   "cell_type": "code",
   "execution_count": 1,
   "metadata": {},
   "outputs": [],
   "source": [
    "def x(u,i):\n",
    "    return 1 + u*n + i"
   ]
  },
  {
   "cell_type": "code",
   "execution_count": 2,
   "metadata": {},
   "outputs": [],
   "source": [
    "def hamilton2sat(A):\n",
    "    n = len(A)\n",
    "    \n",
    "    c1 = un_vertice_por_posicion(n)\n",
    "    c2 = una_posicion_por_vertice(n)\n",
    "    c3 = todos_aparecen(n)\n",
    "    c4 = consecutivos_tienen_arista(A)\n",
    "    \n",
    "    clausulas = (\"c un vertice por pos\\n\" + c1 \n",
    "                + \"c una pos por vert\\n\" + c2\n",
    "                + \"c todos aparecen\\n\" + c3\n",
    "                + \"c consecutivos tienen arista\\n\" + c4)\n",
    "    \n",
    "    num_clausulas = clausulas.count(\"0\")\n",
    "    \n",
    "    header = f\"p cnf {n} {num_clausulas}\\n\"\n",
    "    \n",
    "    return header + clausulas"
   ]
  },
  {
   "cell_type": "code",
   "execution_count": 3,
   "metadata": {},
   "outputs": [],
   "source": [
    "def un_vertice_por_posicion(n):\n",
    "    s = \"\"\n",
    "    for u in range(n):\n",
    "        for v in range(n):\n",
    "            if u == v: continue\n",
    "            for i in range(n):\n",
    "                s += f\"{-x(u,i)} {-x(v,i)} 0\\n\"\n",
    "    return s"
   ]
  },
  {
   "cell_type": "code",
   "execution_count": 4,
   "metadata": {},
   "outputs": [],
   "source": [
    "def una_posicion_por_vertice(n):\n",
    "    s = \"\"\n",
    "    for i in range(n):\n",
    "        for j in range(n):\n",
    "            if i == j: continue\n",
    "            for u in range(n):\n",
    "                s += f\"{-x(u,i)} {-x(u,j)} 0\\n\"\n",
    "    return s"
   ]
  },
  {
   "cell_type": "code",
   "execution_count": 5,
   "metadata": {},
   "outputs": [],
   "source": [
    "def todos_aparecen(n):\n",
    "    s = \"\"\n",
    "    for u in range(n):\n",
    "        s += \" \".join([f\"{x(u,i)}\" for i in range(n)])\n",
    "        s += \" 0\\n\"\n",
    "    return s"
   ]
  },
  {
   "cell_type": "code",
   "execution_count": 6,
   "metadata": {},
   "outputs": [],
   "source": [
    "def consecutivos_tienen_arista(A):\n",
    "    n = len(A)\n",
    "    s = \"\"\n",
    "    for u in range(n):\n",
    "        for v in range(n):\n",
    "            if u == v or A[u][v] == 1: continue\n",
    "            for i in range(n-1):\n",
    "                s += f\"{-x(u,i)} {-x(v,i+1)} 0\\n\"\n",
    "    return s"
   ]
  },
  {
   "cell_type": "code",
   "execution_count": 7,
   "metadata": {},
   "outputs": [],
   "source": [
    "import random"
   ]
  },
  {
   "cell_type": "code",
   "execution_count": 8,
   "metadata": {},
   "outputs": [],
   "source": [
    "def random_graph(n):\n",
    "    A = [[0]*n for i in range(n)]\n",
    "    for u in range(n-1):\n",
    "        for v in range(u+1,n):\n",
    "            if random.random() < 0.5:\n",
    "                A[u][v] = 1\n",
    "                A[v][u] = 1\n",
    "    return A"
   ]
  },
  {
   "cell_type": "code",
   "execution_count": 9,
   "metadata": {},
   "outputs": [],
   "source": [
    "n = 4\n",
    "A = random_graph(n)"
   ]
  },
  {
   "cell_type": "code",
   "execution_count": 10,
   "metadata": {},
   "outputs": [
    {
     "data": {
      "text/plain": [
<<<<<<< HEAD
       "[[0, 1, 1, 0], [1, 0, 1, 1], [1, 1, 0, 0], [0, 1, 0, 0]]"
=======
       "[[0, 0, 1, 0], [0, 0, 1, 0], [1, 1, 0, 0], [0, 0, 0, 0]]"
>>>>>>> fba6e5c0b45017361c7a8274a951986f06596d7c
      ]
     },
     "execution_count": 10,
     "metadata": {},
     "output_type": "execute_result"
    }
   ],
   "source": [
    "A"
   ]
  },
  {
   "cell_type": "code",
   "execution_count": 11,
   "metadata": {},
   "outputs": [
    {
     "name": "stdout",
     "output_type": "stream",
     "text": [
<<<<<<< HEAD
      "p cnf 4 127\n",
=======
      "p cnf 4 139\n",
>>>>>>> fba6e5c0b45017361c7a8274a951986f06596d7c
      "c un vertice por pos\n",
      "-1 -5 0\n",
      "-2 -6 0\n",
      "-3 -7 0\n",
      "-4 -8 0\n",
      "-1 -9 0\n",
      "-2 -10 0\n",
      "-3 -11 0\n",
      "-4 -12 0\n",
      "-1 -13 0\n",
      "-2 -14 0\n",
      "-3 -15 0\n",
      "-4 -16 0\n",
      "-5 -1 0\n",
      "-6 -2 0\n",
      "-7 -3 0\n",
      "-8 -4 0\n",
      "-5 -9 0\n",
      "-6 -10 0\n",
      "-7 -11 0\n",
      "-8 -12 0\n",
      "-5 -13 0\n",
      "-6 -14 0\n",
      "-7 -15 0\n",
      "-8 -16 0\n",
      "-9 -1 0\n",
      "-10 -2 0\n",
      "-11 -3 0\n",
      "-12 -4 0\n",
      "-9 -5 0\n",
      "-10 -6 0\n",
      "-11 -7 0\n",
      "-12 -8 0\n",
      "-9 -13 0\n",
      "-10 -14 0\n",
      "-11 -15 0\n",
      "-12 -16 0\n",
      "-13 -1 0\n",
      "-14 -2 0\n",
      "-15 -3 0\n",
      "-16 -4 0\n",
      "-13 -5 0\n",
      "-14 -6 0\n",
      "-15 -7 0\n",
      "-16 -8 0\n",
      "-13 -9 0\n",
      "-14 -10 0\n",
      "-15 -11 0\n",
      "-16 -12 0\n",
      "c una pos por vert\n",
      "-1 -2 0\n",
      "-5 -6 0\n",
      "-9 -10 0\n",
      "-13 -14 0\n",
      "-1 -3 0\n",
      "-5 -7 0\n",
      "-9 -11 0\n",
      "-13 -15 0\n",
      "-1 -4 0\n",
      "-5 -8 0\n",
      "-9 -12 0\n",
      "-13 -16 0\n",
      "-2 -1 0\n",
      "-6 -5 0\n",
      "-10 -9 0\n",
      "-14 -13 0\n",
      "-2 -3 0\n",
      "-6 -7 0\n",
      "-10 -11 0\n",
      "-14 -15 0\n",
      "-2 -4 0\n",
      "-6 -8 0\n",
      "-10 -12 0\n",
      "-14 -16 0\n",
      "-3 -1 0\n",
      "-7 -5 0\n",
      "-11 -9 0\n",
      "-15 -13 0\n",
      "-3 -2 0\n",
      "-7 -6 0\n",
      "-11 -10 0\n",
      "-15 -14 0\n",
      "-3 -4 0\n",
      "-7 -8 0\n",
      "-11 -12 0\n",
      "-15 -16 0\n",
      "-4 -1 0\n",
      "-8 -5 0\n",
      "-12 -9 0\n",
      "-16 -13 0\n",
      "-4 -2 0\n",
      "-8 -6 0\n",
      "-12 -10 0\n",
      "-16 -14 0\n",
      "-4 -3 0\n",
      "-8 -7 0\n",
      "-12 -11 0\n",
      "-16 -15 0\n",
      "c todos aparecen\n",
      "1 2 3 4 0\n",
      "5 6 7 8 0\n",
      "9 10 11 12 0\n",
      "13 14 15 16 0\n",
      "c consecutivos tienen arista\n",
<<<<<<< HEAD
      "-1 -14 0\n",
      "-2 -15 0\n",
      "-3 -16 0\n",
=======
      "-1 -6 0\n",
      "-2 -7 0\n",
      "-3 -8 0\n",
      "-1 -14 0\n",
      "-2 -15 0\n",
      "-3 -16 0\n",
      "-5 -2 0\n",
      "-6 -3 0\n",
      "-7 -4 0\n",
      "-5 -14 0\n",
      "-6 -15 0\n",
      "-7 -16 0\n",
>>>>>>> fba6e5c0b45017361c7a8274a951986f06596d7c
      "-9 -14 0\n",
      "-10 -15 0\n",
      "-11 -16 0\n",
      "-13 -2 0\n",
      "-14 -3 0\n",
      "-15 -4 0\n",
<<<<<<< HEAD
=======
      "-13 -6 0\n",
      "-14 -7 0\n",
      "-15 -8 0\n",
>>>>>>> fba6e5c0b45017361c7a8274a951986f06596d7c
      "-13 -10 0\n",
      "-14 -11 0\n",
      "-15 -12 0\n",
      "\n"
     ]
    }
   ],
   "source": [
    "print(hamilton2sat(A))"
   ]
<<<<<<< HEAD
  },
  {
   "cell_type": "markdown",
   "metadata": {},
   "source": [
    "Para\n",
    "\n",
    "```\n",
    "A = [[0, 1, 1, 0], [1, 0, 1, 1], [1, 1, 0, 0], [0, 1, 0, 0]]\n",
    "```\n",
    "\n",
    "nos da de resultado\n",
    "\n",
    "```\n",
    "v -1 2 -3 -4 -5 -6 7 -8 9 -10 -11 -12 -13 -14 -15 16 0\n",
    "```\n",
    "\n",
    "Ahora vamos a interpretar eso."
   ]
  },
  {
   "cell_type": "code",
   "execution_count": 12,
   "metadata": {},
   "outputs": [
    {
     "name": "stdout",
     "output_type": "stream",
     "text": [
      "En el camino Hamiltoniano de la grafica A:\n",
      "el vertice 2 ocupa la posicion 0\n",
      "el vertice 0 ocupa la posicion 1\n",
      "el vertice 1 ocupa la posicion 2\n",
      "el vertice 3 ocupa la posicion 3\n",
      "\n",
      "2 --> 0 --> 1 --> 3 --> "
     ]
    }
   ],
   "source": [
    "resStr = \"-1 2 -3 -4 -5 -6 7 -8 9 -10 -11 -12 -13 -14 -15 16 0\"\n",
    "res = [int(s) for s in resStr.split(\" \")]\n",
    "print(\"En el camino Hamiltoniano de la grafica A:\")\n",
    "L=[]\n",
    "for i in range(n):\n",
    "    for u in range(n):\n",
    "        if x(u,i) in res:\n",
    "            print(f\"el vertice\", u, \"ocupa la posicion\", i)\n",
    "            L.append(u)\n",
    "print()\n",
    "for u in L:\n",
    "    print(u,\"--> \", end=\"\")"
   ]
  },
  {
   "cell_type": "code",
   "execution_count": null,
   "metadata": {},
   "outputs": [],
   "source": []
=======
>>>>>>> fba6e5c0b45017361c7a8274a951986f06596d7c
  }
 ],
 "metadata": {
  "kernelspec": {
   "display_name": "Python 3",
   "language": "python",
   "name": "python3"
  },
  "language_info": {
   "codemirror_mode": {
    "name": "ipython",
    "version": 3
   },
   "file_extension": ".py",
   "mimetype": "text/x-python",
   "name": "python",
   "nbconvert_exporter": "python",
   "pygments_lexer": "ipython3",
<<<<<<< HEAD
   "version": "3.7.3"
=======
   "version": "3.8.1"
>>>>>>> fba6e5c0b45017361c7a8274a951986f06596d7c
  }
 },
 "nbformat": 4,
 "nbformat_minor": 4
}
