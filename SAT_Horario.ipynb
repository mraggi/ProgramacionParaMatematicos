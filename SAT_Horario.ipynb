{
 "cells": [
  {
   "cell_type": "markdown",
   "metadata": {},
   "source": [
    "Se necesita establecer un horario para $4$ cursos que se darán durante $3$ días con las siguientes condiciones: \n",
    "    - Cada día está dividido en $3$ periodos.\n",
    "    - Durante cada perdiodo se debe dar exactamente un curso.\n",
    "    - No se debe dar el mismo curso dos veces el mismo día.\n",
    "    - Cada curso requiere de al menos dos periodos.\n",
    "\n",
    "Haz un programa que genere un horario válido."
   ]
  },
  {
   "cell_type": "code",
   "execution_count": 1,
   "metadata": {},
   "outputs": [],
   "source": [
    "dias = 3\n",
    "periodos = 3\n",
    "cursos = 4\n",
    "\n",
    "variables = [(dia,periodo,curso) for dia in range(dias) for periodo in range(periodos) for curso in range(cursos)]\n",
    "#Para poder convertir tercias a su número fácilmente\n",
    "var = dict(zip(variables,range(1,dias*periodos*cursos+1)))\n",
    "\n",
    "clausulas=[]"
   ]
  },
  {
   "cell_type": "code",
   "execution_count": null,
   "metadata": {},
   "outputs": [],
   "source": [
    "#Para que sea más fácil trabajar con parejas\n",
    "def parejas(n):\n",
    "    result = []\n",
    "    for i in range(n-1):\n",
    "        for j in range(i+1,n):\n",
    "            result.append((i,j))\n",
    "    return result"
   ]
  },
  {
   "cell_type": "code",
   "execution_count": null,
   "metadata": {},
   "outputs": [],
   "source": [
    "#Durante cada perdiodo se debe dar exactamente un curso.\n",
    "for dia in range(dias):\n",
    "    for periodo in range(periodos):\n",
    "        clausula = \"\"\n",
    "        #Al menos un curso\n",
    "        for curso in range(cursos):\n",
    "            clausula += f\"{var[dia,periodo,curso]} \"\n",
    "        clausula += \"0\"\n",
    "        clausulas.append(clausula)\n",
    "        #A lo más un curso\n",
    "        for curso1,curso2 in parejas(cursos):\n",
    "            clausula = f\"-{var[dia,periodo,curso1]} -{var[dia,periodo,curso2]} 0\"\n",
    "            clausulas.append(clausula)"
   ]
  },
  {
   "cell_type": "code",
   "execution_count": null,
   "metadata": {},
   "outputs": [],
   "source": [
    "#No se debe dar el mismo curso dos veces el mismo día.\n",
    "for dia in range(dias):\n",
    "    for curso in range(cursos):\n",
    "        #A lo más un curso\n",
    "        for periodo1,periodo2 in parejas(periodos):\n",
    "            clausula = f\"-{var[dia,periodo1,curso]} -{var[dia,periodo2,curso]} 0\"\n",
    "            clausulas.append(clausula)"
   ]
  },
  {
   "cell_type": "code",
   "execution_count": null,
   "metadata": {},
   "outputs": [],
   "source": [
    "#Cada curso requiere de al menos dos periodos.\n",
    "for curso in range(cursos):\n",
    "    #Hay dias*periodos periodos en total para cada curso\n",
    "    #Al menos 2 periodos es equivalente a que siempre que tome todos menos 1 al menos uno es TRUE\n",
    "    varsTodosPeriodos = [str(var[dia,periodo,curso]) for dia in range(dias) for periodo in range(periodos)]\n",
    "    for i in range(dias*periodos):\n",
    "        clausula = \" \".join(varsTodosPeriodos[:i]+varsTodosPeriodos[i+1:])+\" 0\"\n",
    "        clausulas.append(clausula)"
   ]
  },
  {
   "cell_type": "code",
   "execution_count": null,
   "metadata": {},
   "outputs": [],
   "source": [
    "print(f\"p cnf {len(variables)} {len(clausulas)}\\n\"+\"\\n\".join(clausulas))"
   ]
  },
  {
   "cell_type": "markdown",
   "metadata": {},
   "source": [
    "### Resultado\n",
    "```\n",
    "s SATISFIABLE\n",
    "v -1 2 -3 -4 -5 -6 7 -8 -9 -10 -11 12 -13 -14 -15 16 -17 18 -19 -20 21 -22 -23 \n",
    "v -24 -25 -26 27 -28 -29 30 -31 -32 33 -34 -35 -36 0\n",
    "```\n",
    "Ahora vamos a interpretar eso."
   ]
  },
  {
   "cell_type": "code",
   "execution_count": null,
   "metadata": {},
   "outputs": [],
   "source": [
    "resStr = \"-1 2 -3 -4 -5 -6 7 -8 -9 -10 -11 12 -13 -14 -15 16 -17 18 -19 -20 21 -22 -23 -24 -25 -26 27 -28 -29 30 -31 -32 33 -34 -35 -36 0\"\n",
    "res = [int(s) for s in resStr.split(\" \")]\n",
    "for dia in range(dias):\n",
    "    print(f\"Día {dia+1}\")\n",
    "    for periodo in range(periodos):\n",
    "        for curso in range(cursos):\n",
    "            if var[dia,periodo,curso] in res:\n",
    "                print(f\" {periodo+1}: Curso {curso+1}\")"
   ]
  }
 ],
 "metadata": {
  "kernelspec": {
   "display_name": "Python 3",
   "language": "python",
   "name": "python3"
  },
  "language_info": {
   "codemirror_mode": {
    "name": "ipython",
    "version": 3
   },
   "file_extension": ".py",
   "mimetype": "text/x-python",
   "name": "python",
   "nbconvert_exporter": "python",
   "pygments_lexer": "ipython3",
   "version": "3.7.3"
  }
 },
 "nbformat": 4,
 "nbformat_minor": 2
}
