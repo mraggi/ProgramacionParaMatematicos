{
 "cells": [
  {
   "cell_type": "markdown",
   "metadata": {},
   "source": [
    "# Differential Evolution\n",
    "\n",
    "Este algoritmo fue inventado por R. Storn y K. Price en 1997. Es un algoritmo que podemos usar como caja negra para optimizar funciones. Su principal ventaja es que no es necesario calcular derivadas. Este algoritmo ha ganado varios concursos de optimización.\n",
    "\n",
    "Varios problemas de matemáticas se pueden traducir a encontrar el mínimo de una función real. También se usa en la vida real, por ejemplo, la Agencia Espacial Europea lo usa para encontrar el camino que debe seguir un vehículo espacial para alcanzar la órbita de un planeta usando poco combustible.\n",
    "\n",
    "En realidad es un algoritmo genético, así que trabaja con poblaciones de candidatos a soluciones del problema. Aquí vamos a estar trabajando con funciones $f:[0,1]^n\\to R$ y lo que queremos es minimizar $f$. Es fácil modificar el algoritmo para que considere funciones con otros dominios, incluso discretos.\n",
    "\n",
    "Nota: Differential Evolution ya está implementado en SciPy y otros paquetes de python."
   ]
  },
  {
   "cell_type": "markdown",
   "metadata": {},
   "source": [
    "```\n",
    "Input: una función f:R^n->R y valores para mut en [0.5,2], crossp en [0,1] y otros.\n",
    "Crea una población aleatoria P de elementos en R^n.\n",
    "While todavía no quieras que termine (tiempo, número de iteraciones, solución suficientemente buena, etc.):\n",
    "    For x en P:\n",
    "        Elige a,b,c en P (distintos de x y entre si).\n",
    "        Calcula un nuevo y así:\n",
    "            y = a+mut*(b-c)\n",
    "            For i en {1,...,d}:\n",
    "                Cambia la coord y_i por x_i con probabilidad crossp.\n",
    "            Modifica y para que esté en el dominio.\n",
    "        If f(y)<f(x) cambia a x por y.\n",
    "Return el mejor x de P\n",
    "```"
   ]
  },
  {
   "cell_type": "code",
   "execution_count": 1,
   "metadata": {},
   "outputs": [],
   "source": [
    "import torch\n",
    "from tqdm import tqdm"
   ]
  },
  {
   "cell_type": "code",
   "execution_count": 47,
   "metadata": {},
   "outputs": [],
   "source": [
    "def DE(f, dim=1, pop_size=20, initial_pop = None, mut=0.8, crossp=0.7, its=200, proj_to_domain = lambda x : x):\n",
    "    if initial_pop == None:\n",
    "        P = torch.rand(pop_size, dim)\n",
    "    else:\n",
    "        P = initial_pop\n",
    "        pop_size,dim = P.shape\n",
    "        \n",
    "    P = proj_to_domain(P)\n",
    "    \n",
    "    W = torch.ones(pop_size,pop_size).float()\n",
    "    W[torch.arange(pop_size),torch.arange(pop_size)] = 0. # W lo necesitaremos después\n",
    "\n",
    "    cost = f(P).squeeze()\n",
    "    best_cost, best_index = torch.min(cost,dim=0)\n",
    "    \n",
    "    for it in tqdm(range(its)):\n",
    "        I=torch.multinomial(W,3).T\n",
    "        A,B,C = P[I]\n",
    "        \n",
    "        mutants = A + mut * (B - C)\n",
    "        \n",
    "        T = (torch.rand_like(P) < crossp).float()\n",
    "        candidates = proj_to_domain(T*mutants + (1-T)*P)\n",
    "        \n",
    "        f_candidates = f(candidates).squeeze()\n",
    "        \n",
    "        S = (f_candidates < cost)[:,None].float()\n",
    "        P = S*candidates + (1-S)*P\n",
    "        cost = torch.min(f_candidates,cost)\n",
    "        \n",
    "        new_best_cost, new_best_index = torch.min(cost,dim=0)\n",
    "        if new_best_cost < best_cost:\n",
    "            best_cost = new_best_cost\n",
    "            best_index = new_best_index\n",
    "        \n",
    "    return P[best_index], best_cost"
   ]
  },
  {
   "cell_type": "code",
   "execution_count": 9,
   "metadata": {},
   "outputs": [],
   "source": [
    "def wrapper_for_f(f):\n",
    "    return lambda P : torch.stack([f(p) for p in P])"
   ]
  },
  {
   "cell_type": "markdown",
   "metadata": {},
   "source": [
    "Intentemos minimizar la función $g(x)=x(x-1)$. Ésta es una parábola que tiene su mínimo en $1/2$."
   ]
  },
  {
   "cell_type": "code",
   "execution_count": 10,
   "metadata": {},
   "outputs": [],
   "source": [
    "def g(x):\n",
    "    return x*(x-1)"
   ]
  },
  {
   "cell_type": "code",
   "execution_count": 14,
   "metadata": {},
   "outputs": [
    {
     "name": "stderr",
     "output_type": "stream",
     "text": [
      "100%|██████████| 200/200 [00:00<00:00, 2533.29it/s]\n"
     ]
    },
    {
     "data": {
      "text/plain": [
       "(tensor([0.4999]), tensor(-0.2500))"
      ]
     },
     "execution_count": 14,
     "metadata": {},
     "output_type": "execute_result"
    }
   ],
   "source": [
    "DE(g,1)"
   ]
  },
  {
   "cell_type": "markdown",
   "metadata": {},
   "source": [
    "Podemos jugar con los parámetros `mut`, `crossp`, `popsize` y `its`. Éstos controlan el el multiplicador para la mutación, la probabilidad con la que se modifica cada cordenada de un individuo, el tamaño de la población y el número de iteraciones, respectivamente."
   ]
  },
  {
   "cell_type": "code",
   "execution_count": 21,
   "metadata": {},
   "outputs": [
    {
     "name": "stderr",
     "output_type": "stream",
     "text": [
      "100%|██████████| 20000/20000 [00:07<00:00, 2672.47it/s]\n"
     ]
    },
    {
     "data": {
      "text/plain": [
       "(tensor([0.5000]), tensor(-0.2500))"
      ]
     },
     "execution_count": 21,
     "metadata": {},
     "output_type": "execute_result"
    }
   ],
   "source": [
    "DE(g, 1, mut=0.5, crossp=0.5, pop_size=60, its=20000)"
   ]
  },
  {
   "cell_type": "markdown",
   "metadata": {},
   "source": [
    "Ahora vamos a optimizar la función $f(x_0,x_1)=\\sin(100 x_0 x_1)+10 (x_1-x_0)^2$ en $[0,1]\\times[0,1]$.\n",
    "\n",
    "¿Cuál será su valor mínimo?"
   ]
  },
  {
   "cell_type": "code",
   "execution_count": 22,
   "metadata": {},
   "outputs": [],
   "source": [
    "def f(x):\n",
    "    return torch.sin(100*x[:,0]*x[:,1]) + 10*(x[:,1]-x[:,0])**2"
   ]
  },
  {
   "cell_type": "markdown",
   "metadata": {},
   "source": [
    "Así se ve la sección de la gráfica con $x_1=1/2$:"
   ]
  },
  {
   "cell_type": "code",
   "execution_count": 23,
   "metadata": {},
   "outputs": [],
   "source": [
    "import matplotlib.pyplot as plt\n",
    "\n",
    "X = torch.arange(0.0,1.0,0.002)[:,None]\n",
    "Y = f(torch.cat((X,0.5*torch.ones_like(X)),dim=1))"
   ]
  },
  {
   "cell_type": "code",
   "execution_count": 26,
   "metadata": {},
   "outputs": [
    {
     "data": {
      "image/png": "[encoded data removed]",
      "text/plain": [
       "<Figure size 432x288 with 1 Axes>"
      ]
     },
     "metadata": {
      "needs_background": "light"
     },
     "output_type": "display_data"
    }
   ],
   "source": [
    "plt.plot(X,Y)\n",
    "plt.show()"
   ]
  },
  {
   "cell_type": "code",
   "execution_count": 31,
   "metadata": {},
   "outputs": [
    {
     "name": "stderr",
     "output_type": "stream",
     "text": [
      "100%|██████████| 200/200 [00:00<00:00, 1905.97it/s]\n"
     ]
    },
    {
     "data": {
      "text/plain": [
       "(tensor([3.1211, 3.1154]), tensor(-0.9994))"
      ]
     },
     "execution_count": 31,
     "metadata": {},
     "output_type": "execute_result"
    }
   ],
   "source": [
    "DE(f,2)"
   ]
  },
  {
   "cell_type": "markdown",
   "metadata": {},
   "source": [
    "Para que el algoritmo no nos de una solución fuera del cuadrado podemos decirle cómo regresarse al dominio si se sale. Ésto se hace con el parámetri `proj_to_domain`."
   ]
  },
  {
   "cell_type": "code",
   "execution_count": 32,
   "metadata": {},
   "outputs": [],
   "source": [
    "def clip(x):\n",
    "    return torch.clamp(x,0.,1.)"
   ]
  },
  {
   "cell_type": "code",
   "execution_count": 34,
   "metadata": {},
   "outputs": [
    {
     "name": "stderr",
     "output_type": "stream",
     "text": [
      "100%|██████████| 1000/1000 [00:00<00:00, 2116.70it/s]\n"
     ]
    },
    {
     "data": {
      "text/plain": [
       "(tensor([0.4854, 0.4854]), tensor(-1.))"
      ]
     },
     "execution_count": 34,
     "metadata": {},
     "output_type": "execute_result"
    }
   ],
   "source": [
    "DE(f,2, proj_to_domain = clip, its=1000)"
   ]
  },
  {
   "cell_type": "markdown",
   "metadata": {},
   "source": [
    "Esta es otra forma en la que pudimos regresar al dominio, elegir una buena función puede afectar la eficiencia de la búsqueda."
   ]
  },
  {
   "cell_type": "code",
   "execution_count": 35,
   "metadata": {},
   "outputs": [],
   "source": [
    "def if_out_rand(x):\n",
    "    x[x>1] = torch.rand_like(x[x>1])\n",
    "    x[x<0] = torch.rand_like(x[x<0])\n",
    "    return x"
   ]
  },
  {
   "cell_type": "code",
   "execution_count": 36,
   "metadata": {},
   "outputs": [
    {
     "name": "stderr",
     "output_type": "stream",
     "text": [
      "100%|██████████| 200/200 [00:00<00:00, 1450.18it/s]\n"
     ]
    },
    {
     "data": {
      "text/plain": [
       "(tensor([0.3316, 0.3316]), tensor(-1.))"
      ]
     },
     "execution_count": 36,
     "metadata": {},
     "output_type": "execute_result"
    }
   ],
   "source": [
    "DE(f,2, proj_to_domain = if_out_rand)"
   ]
  },
  {
   "cell_type": "markdown",
   "metadata": {},
   "source": [
    "Digamos que ahora queremos el máximo en $[1,3]\\times[1,3]$, entonces no queremos empezar con una población aleatoria en $[0,1]\\times[0,1]$. Le podemos dar la población inicial con `initial_pop`. En este caso, `pop_size` es ignorado. No olviden que ahora queremos maximizar y no minimizar."
   ]
  },
  {
   "cell_type": "code",
   "execution_count": 55,
   "metadata": {},
   "outputs": [],
   "source": [
    "PI = torch.rand(60, 2)*2+1\n",
    "\n",
    "def clip2(x):\n",
    "    return torch.clamp(x,1,3)\n",
    "\n",
    "def minus_f(x):\n",
    "    return -f(x)"
   ]
  },
  {
   "cell_type": "code",
   "execution_count": 51,
   "metadata": {},
   "outputs": [
    {
     "name": "stderr",
     "output_type": "stream",
     "text": [
      "100%|██████████| 500/500 [00:00<00:00, 1859.89it/s]\n"
     ]
    },
    {
     "data": {
      "text/plain": [
       "(tensor([1.0101, 3.0000]), tensor(-40.5881))"
      ]
     },
     "execution_count": 51,
     "metadata": {},
     "output_type": "execute_result"
    }
   ],
   "source": [
    "DE(minus_f,2, proj_to_domain = clip2,  initial_pop = PI ,its=500)"
   ]
  },
  {
   "cell_type": "code",
   "execution_count": 70,
   "metadata": {},
   "outputs": [
    {
     "name": "stderr",
     "output_type": "stream",
     "text": [
      "100%|██████████| 20000/20000 [00:06<00:00, 2984.45it/s]\n"
     ]
    },
    {
     "data": {
      "text/plain": [
       "(tensor([0.5000]), tensor(-0.2500))"
      ]
     },
     "execution_count": 70,
     "metadata": {},
     "output_type": "execute_result"
    }
   ],
   "source": [
    "DE(g,1,its=20000)"
   ]
  },
  {
   "cell_type": "code",
   "execution_count": 71,
   "metadata": {},
   "outputs": [
    {
     "name": "stderr",
     "output_type": "stream",
     "text": [
      "100%|██████████| 20000/20000 [00:19<00:00, 1052.15it/s]\n"
     ]
    },
    {
     "data": {
      "text/plain": [
       "(tensor([0.5001]), tensor(-0.2500))"
      ]
     },
     "execution_count": 71,
     "metadata": {},
     "output_type": "execute_result"
    }
   ],
   "source": [
    "DE(wrapper_for_f(g),its=20000)"
   ]
  },
  {
   "cell_type": "markdown",
   "metadata": {},
   "source": [
    "## Ejercicios\n",
    "\n",
    "0. Juega con los parámetros de DE en los siguientes problemas para ver cómo efectan los resultados.\n",
    "\n",
    "1. Minimiza $f(x_1,x_2)=(x_1^2+x_2-11)^2+(x_1+x_2^2-7)^2$ sujeto a $(x_1-5)^2+x_2^2\\le 26$, $4x_1-x_2-20\\le 0$ y $x_1,x_2\\ge 0$.\n",
    "\n",
    "2. En una feria encuentras este juego. Tienes que elegir 2 números $a,b$ en $[0,1]$. Después se hace lo siguiente $5$ veces: Cambias a $a,b$ por $ab,a+b$, pero si el nuevo $b$ es mayor que $1$ entonces a $b$ lo divides entre $2$ y a $a$ lo cambias por la parte fraccionaria de $3a+0.1$. Después de hacer esto 5 veces, si el valor de $a$ es al menos $0.99$ te ganas un premio. ¿Es posible ganar este juego?\n",
    "\n",
    "3. Sea $h:\\{1,\\dots,1000\\}^3 \\to \\mathbb R$ dada por $h(a,b,c)=GCD(a,b)-2*GCD(b,c)+3*GCD(a,c)$. Trata de encontrar su máximo. Pueden usar `import math` y `math.gcd()`.\n",
    "\n",
    "4. Dado un triángulo $T$ en $[0,100]\\times [0,100]$, se construye su bounding box $B$, i.e., el rectángulo más chico con lados paralelos a los ejes que contiene a $T$. ¿Si el área de $T$ es $1$, cuál es la menor área posible para $B$?\n",
    "\n",
    "5. Hay un conjunto $X$ de $10$ puntos en el plano. Dado un punto $p$ se define $f(p)$ como la suma de las distancias de $p$ a los $3$ puntos más lejanos de $p$ en $X$. Encuentra el $p$ que minimiza a $f(p)$.\n",
    "\n",
    "6. Intenta usar descenso por la gradiente para todas funciones anteriores y compara los resultados con los de DE."
   ]
  },
  {
   "cell_type": "code",
   "execution_count": null,
   "metadata": {},
   "outputs": [],
   "source": []
  }
 ],
 "metadata": {
  "kernelspec": {
   "display_name": "Python 3",
   "language": "python",
   "name": "python3"
  },
  "language_info": {
   "codemirror_mode": {
    "name": "ipython",
    "version": 3
   },
   "file_extension": ".py",
   "mimetype": "text/x-python",
   "name": "python",
   "nbconvert_exporter": "python",
   "pygments_lexer": "ipython3",
   "version": "3.7.6"
  }
 },
 "nbformat": 4,
 "nbformat_minor": 4
}
