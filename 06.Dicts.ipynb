{
 "cells": [
  {
   "cell_type": "markdown",
   "metadata": {},
   "source": [
    "# Conjuntos y Diccionarios"
   ]
  },
  {
   "cell_type": "markdown",
   "metadata": {},
   "source": [
    "## Conjuntos (sets)\n",
    "\n",
    "Un conjunto es una estructura de datos en donde no se vale repetir elementos. Se escribe con {}."
   ]
  },
  {
   "cell_type": "code",
   "execution_count": null,
   "metadata": {},
   "outputs": [],
   "source": [
    "A = {1,2,3,4,1}"
   ]
  },
  {
   "cell_type": "code",
   "execution_count": null,
   "metadata": {},
   "outputs": [],
   "source": [
    "A"
   ]
  },
  {
   "cell_type": "code",
   "execution_count": null,
   "metadata": {},
   "outputs": [],
   "source": [
    "A.add(8)"
   ]
  },
  {
   "cell_type": "code",
   "execution_count": null,
   "metadata": {},
   "outputs": [],
   "source": [
    "A"
   ]
  },
  {
   "cell_type": "code",
   "execution_count": null,
   "metadata": {},
   "outputs": [],
   "source": [
    "A.add(8)"
   ]
  },
  {
   "cell_type": "code",
   "execution_count": null,
   "metadata": {},
   "outputs": [],
   "source": [
    "A"
   ]
  },
  {
   "cell_type": "markdown",
   "metadata": {},
   "source": [
    "Para hacerlo rápido, los sets hacen \"hashing\" a los elementos, así que muy rápido pueden decir si algo está en el conjunto o no."
   ]
  },
  {
   "cell_type": "code",
   "execution_count": null,
   "metadata": {},
   "outputs": [],
   "source": [
    "7 in A # mucho más rápido que con una lista!"
   ]
  },
  {
   "cell_type": "code",
   "execution_count": null,
   "metadata": {},
   "outputs": [],
   "source": [
    "A.remove(4)"
   ]
  },
  {
   "cell_type": "code",
   "execution_count": null,
   "metadata": {},
   "outputs": [],
   "source": [
    "A"
   ]
  },
  {
   "cell_type": "code",
   "execution_count": null,
   "metadata": {},
   "outputs": [],
   "source": [
    "{i**2 for i in range(10)}"
   ]
  },
  {
   "cell_type": "code",
   "execution_count": null,
   "metadata": {},
   "outputs": [],
   "source": [
    "for a in A:\n",
    "    print(a)"
   ]
  },
  {
   "cell_type": "markdown",
   "metadata": {},
   "source": [
    "### Ejercicios de conjuntos\n",
    "\n",
    "1. Imprime cuántos números diferentes aparecen en la sucesión de Fibonacci módulo n que empieza con F1=a y F1=b.\n",
    "3. Hay una lista L de números en la que cada número aparece exactamente $k$ veces ($k$ > 1) excepto un número que aparece exactamente una vez. Encuentra ese número.\n",
    "4. Supongamos que tenemos un collar circular con n piedritas, cada piedrita es roja (0) o azul (1). Si corto el collar en un lugar obtengo una secuencia de 0s y 1s. Imprime (sin repetir) todas las posibles secuencias que puedo obtener. Por ejemplo, el collar 010101 se puede cortar para obtener 2 secuecnias distintas, mientras que con 100000 se pueden obtener 6 secuencias.\n",
    "7. Dada una lista de números, encuentra todas las diferencias de dos elementos de L."
   ]
  },
  {
   "cell_type": "markdown",
   "metadata": {},
   "source": [
    "## Diccionarios\n",
    "\n",
    "Los diccionarios son estructuras de datos para asociar objetos a otros objetos. También se escribe con {} pero los elementos son \"parejas\" separadas por :"
   ]
  },
  {
   "cell_type": "code",
   "execution_count": 1,
   "metadata": {},
   "outputs": [],
   "source": [
    "edades = {\"ana\":10, \"beto\":5, \"carlos\":8}"
   ]
  },
  {
   "cell_type": "code",
   "execution_count": 2,
   "metadata": {},
   "outputs": [
    {
     "data": {
      "text/plain": [
       "{'ana': 10, 'beto': 5, 'carlos': 8}"
      ]
     },
     "execution_count": 2,
     "metadata": {},
     "output_type": "execute_result"
    }
   ],
   "source": [
    "edades"
   ]
  },
  {
   "cell_type": "code",
   "execution_count": 3,
   "metadata": {},
   "outputs": [
    {
     "data": {
      "text/plain": [
       "10"
      ]
     },
     "execution_count": 3,
     "metadata": {},
     "output_type": "execute_result"
    }
   ],
   "source": [
    "edades['ana']"
   ]
  },
  {
   "cell_type": "code",
   "execution_count": 6,
   "metadata": {},
   "outputs": [
    {
     "data": {
      "text/plain": [
       "5"
      ]
     },
     "execution_count": 6,
     "metadata": {},
     "output_type": "execute_result"
    }
   ],
   "source": [
    "edades['beto']"
   ]
  },
  {
   "cell_type": "markdown",
   "metadata": {},
   "source": [
    "Cada entrada de un diccionario tiene una \"llave\" y un \"valor. La llave es con lo que indizas (e.g. \"ana\"). El valor es el asociado (e.g. 10)."
   ]
  },
  {
   "cell_type": "markdown",
   "metadata": {},
   "source": [
    "Podemos modificar diccionarios de la manera usual."
   ]
  },
  {
   "cell_type": "code",
   "execution_count": 7,
   "metadata": {},
   "outputs": [],
   "source": [
    "edades['beto'] = 6"
   ]
  },
  {
   "cell_type": "code",
   "execution_count": 8,
   "metadata": {},
   "outputs": [
    {
     "data": {
      "text/plain": [
       "{'ana': 10, 'beto': 6, 'carlos': 8}"
      ]
     },
     "execution_count": 8,
     "metadata": {},
     "output_type": "execute_result"
    }
   ],
   "source": [
    "edades"
   ]
  },
  {
   "cell_type": "code",
   "execution_count": 9,
   "metadata": {},
   "outputs": [],
   "source": [
    "edades['beto'] += 1"
   ]
  },
  {
   "cell_type": "code",
   "execution_count": 10,
   "metadata": {},
   "outputs": [
    {
     "data": {
      "text/plain": [
       "7"
      ]
     },
     "execution_count": 10,
     "metadata": {},
     "output_type": "execute_result"
    }
   ],
   "source": [
    "edades['beto']"
   ]
  },
  {
   "cell_type": "code",
   "execution_count": 11,
   "metadata": {},
   "outputs": [],
   "source": [
    "edades['carlos'] += 1"
   ]
  },
  {
   "cell_type": "code",
   "execution_count": 12,
   "metadata": {},
   "outputs": [
    {
     "data": {
      "text/plain": [
       "{'ana': 10, 'beto': 7, 'carlos': 9}"
      ]
     },
     "execution_count": 12,
     "metadata": {},
     "output_type": "execute_result"
    }
   ],
   "source": [
    "edades"
   ]
  },
  {
   "cell_type": "code",
   "execution_count": 13,
   "metadata": {},
   "outputs": [],
   "source": [
    "edades[\"daniela\"] = 12"
   ]
  },
  {
   "cell_type": "code",
   "execution_count": 14,
   "metadata": {},
   "outputs": [
    {
     "data": {
      "text/plain": [
       "{'ana': 10, 'beto': 7, 'carlos': 9, 'daniela': 12}"
      ]
     },
     "execution_count": 14,
     "metadata": {},
     "output_type": "execute_result"
    }
   ],
   "source": [
    "edades"
   ]
  },
  {
   "cell_type": "code",
   "execution_count": 15,
   "metadata": {},
   "outputs": [],
   "source": [
    "del edades['daniela']"
   ]
  },
  {
   "cell_type": "code",
   "execution_count": 16,
   "metadata": {},
   "outputs": [
    {
     "data": {
      "text/plain": [
       "{'ana': 10, 'beto': 7, 'carlos': 9}"
      ]
     },
     "execution_count": 16,
     "metadata": {},
     "output_type": "execute_result"
    }
   ],
   "source": [
    "edades"
   ]
  },
  {
   "cell_type": "code",
   "execution_count": 18,
   "metadata": {},
   "outputs": [
    {
     "data": {
      "text/plain": [
       "9"
      ]
     },
     "execution_count": 18,
     "metadata": {},
     "output_type": "execute_result"
    }
   ],
   "source": [
    "edades.pop('carlos')"
   ]
  },
  {
   "cell_type": "code",
   "execution_count": 19,
   "metadata": {},
   "outputs": [
    {
     "data": {
      "text/plain": [
       "{'ana': 10, 'beto': 7}"
      ]
     },
     "execution_count": 19,
     "metadata": {},
     "output_type": "execute_result"
    }
   ],
   "source": [
    "edades"
   ]
  },
  {
   "cell_type": "markdown",
   "metadata": {},
   "source": [
    "## Iterando sobre los diccionarios."
   ]
  },
  {
   "cell_type": "code",
   "execution_count": 20,
   "metadata": {},
   "outputs": [
    {
     "data": {
      "text/plain": [
       "dict_keys(['ana', 'beto'])"
      ]
     },
     "execution_count": 20,
     "metadata": {},
     "output_type": "execute_result"
    }
   ],
   "source": [
    "edades.keys()"
   ]
  },
  {
   "cell_type": "markdown",
   "metadata": {},
   "source": [
    "Cuando iteras sobre un diccionario, iteras sobre sus llaves:"
   ]
  },
  {
   "cell_type": "code",
   "execution_count": 21,
   "metadata": {},
   "outputs": [
    {
     "name": "stdout",
     "output_type": "stream",
     "text": [
      "ana tiene 10 años\n",
      "beto tiene 7 años\n"
     ]
    }
   ],
   "source": [
    "for nombre in edades:\n",
    "    print(f\"{nombre} tiene {edades[nombre]} años\")"
   ]
  },
  {
   "cell_type": "markdown",
   "metadata": {},
   "source": [
    "Puedes iterar sobre ambas cosas a la vez así:"
   ]
  },
  {
   "cell_type": "code",
   "execution_count": 24,
   "metadata": {},
   "outputs": [
    {
     "name": "stdout",
     "output_type": "stream",
     "text": [
      "ana tiene 10 años\n",
      "beto tiene 7 años\n"
     ]
    }
   ],
   "source": [
    "for nombre, edad in edades.items():\n",
    "    print(f\"{nombre} tiene {edad} años\")"
   ]
  },
  {
   "cell_type": "code",
   "execution_count": 35,
   "metadata": {},
   "outputs": [
    {
     "data": {
      "text/plain": [
       "10"
      ]
     },
     "execution_count": 35,
     "metadata": {},
     "output_type": "execute_result"
    }
   ],
   "source": [
    "edades.setdefault('estefania',15)"
   ]
  },
  {
   "cell_type": "code",
   "execution_count": 37,
   "metadata": {},
   "outputs": [],
   "source": [
    "def set_default_mio(D,llave,valor):\n",
    "    if llave in D: \n",
    "        return D[llave]\n",
    "    else:\n",
    "        D[llave] = valor\n",
    "        return valor"
   ]
  },
  {
   "cell_type": "code",
   "execution_count": 46,
   "metadata": {},
   "outputs": [],
   "source": [
    "edades[('hola','mundo')] = 8"
   ]
  },
  {
   "cell_type": "code",
   "execution_count": 42,
   "metadata": {},
   "outputs": [
    {
     "data": {
      "text/plain": [
       "{'ana': 10,\n",
       " 'beto': 7,\n",
       " 'carlos': None,\n",
       " 'daniel': 0,\n",
       " 'estefania': 10,\n",
       " 'fernando': 20,\n",
       " ('hola', 'mundo'): 8}"
      ]
     },
     "execution_count": 42,
     "metadata": {},
     "output_type": "execute_result"
    }
   ],
   "source": [
    "edades"
   ]
  },
  {
   "cell_type": "code",
   "execution_count": 43,
   "metadata": {},
   "outputs": [],
   "source": [
    "edades['ana'] = (10,11)"
   ]
  },
  {
   "cell_type": "code",
   "execution_count": 44,
   "metadata": {},
   "outputs": [
    {
     "data": {
      "text/plain": [
       "(10, 11)"
      ]
     },
     "execution_count": 44,
     "metadata": {},
     "output_type": "execute_result"
    }
   ],
   "source": [
    "edades['ana']"
   ]
  },
  {
   "cell_type": "code",
   "execution_count": 39,
   "metadata": {},
   "outputs": [
    {
     "data": {
      "text/plain": [
       "20"
      ]
     },
     "execution_count": 39,
     "metadata": {},
     "output_type": "execute_result"
    }
   ],
   "source": [
    "set_default_mio(edades,'fernando',20)"
   ]
  },
  {
   "cell_type": "code",
   "execution_count": 40,
   "metadata": {},
   "outputs": [
    {
     "data": {
      "text/plain": [
       "{'ana': 10,\n",
       " 'beto': 7,\n",
       " 'carlos': None,\n",
       " 'daniel': 0,\n",
       " 'estefania': 10,\n",
       " 'fernando': 20}"
      ]
     },
     "execution_count": 40,
     "metadata": {},
     "output_type": "execute_result"
    }
   ],
   "source": [
    "edades"
   ]
  },
  {
   "cell_type": "markdown",
   "metadata": {},
   "source": [
    "## Diccionarios de comprension\n",
    "\n",
    "Se crean igual que las listas"
   ]
  },
  {
   "cell_type": "code",
   "execution_count": 47,
   "metadata": {},
   "outputs": [
    {
     "data": {
      "text/plain": [
       "{0: 0, 1: 1, 2: 4, 3: 9, 4: 16, 5: 25, 6: 36, 7: 49, 8: 64, 9: 81}"
      ]
     },
     "execution_count": 47,
     "metadata": {},
     "output_type": "execute_result"
    }
   ],
   "source": [
    "{i:i**2 for i in range(10)}"
   ]
  },
  {
   "cell_type": "markdown",
   "metadata": {},
   "source": [
    "También se puede construir así:"
   ]
  },
  {
   "cell_type": "code",
   "execution_count": 50,
   "metadata": {},
   "outputs": [
    {
     "data": {
      "text/plain": [
       "{'ana': 10, 'beto': 5, 'carlos': 8}"
      ]
     },
     "execution_count": 50,
     "metadata": {},
     "output_type": "execute_result"
    }
   ],
   "source": [
    "dict([('ana',10),('beto',5),('carlos',8)])"
   ]
  },
  {
   "cell_type": "markdown",
   "metadata": {},
   "source": [
    "Incluso puedes hacer diccionarios de diccionarios:"
   ]
  },
  {
   "cell_type": "code",
   "execution_count": 51,
   "metadata": {},
   "outputs": [],
   "source": [
    "D={2:{1:[2,3,4]}}"
   ]
  },
  {
   "cell_type": "code",
   "execution_count": 52,
   "metadata": {},
   "outputs": [
    {
     "data": {
      "text/plain": [
       "{2: {1: [2, 3, 4]}}"
      ]
     },
     "execution_count": 52,
     "metadata": {},
     "output_type": "execute_result"
    }
   ],
   "source": [
    "D"
   ]
  },
  {
   "cell_type": "code",
   "execution_count": 53,
   "metadata": {},
   "outputs": [
    {
     "data": {
      "text/plain": [
       "{}"
      ]
     },
     "execution_count": 53,
     "metadata": {},
     "output_type": "execute_result"
    }
   ],
   "source": [
    "{}"
   ]
  },
  {
   "cell_type": "code",
   "execution_count": 54,
   "metadata": {},
   "outputs": [
    {
     "data": {
      "text/plain": [
       "{1: [2, 3, 4]}"
      ]
     },
     "execution_count": 54,
     "metadata": {},
     "output_type": "execute_result"
    }
   ],
   "source": [
    "D[2]"
   ]
  },
  {
   "cell_type": "code",
   "execution_count": 55,
   "metadata": {},
   "outputs": [
    {
     "data": {
      "text/plain": [
       "[2, 3, 4]"
      ]
     },
     "execution_count": 55,
     "metadata": {},
     "output_type": "execute_result"
    }
   ],
   "source": [
    "D[2][1]"
   ]
  },
  {
   "cell_type": "markdown",
   "metadata": {},
   "source": [
    "Para borrar puedes usar el comando \"del\":"
   ]
  },
  {
   "cell_type": "code",
   "execution_count": 56,
   "metadata": {},
   "outputs": [],
   "source": [
    "D = {'ana':10,'beto':20}\n",
    "del D['ana']"
   ]
  },
  {
   "cell_type": "code",
   "execution_count": 57,
   "metadata": {},
   "outputs": [
    {
     "data": {
      "text/plain": [
       "{'beto': 20}"
      ]
     },
     "execution_count": 57,
     "metadata": {},
     "output_type": "execute_result"
    }
   ],
   "source": [
    "D"
   ]
  },
  {
   "cell_type": "markdown",
   "metadata": {},
   "source": [
    "Con pop regresas lo que borras antes de borrarlo."
   ]
  },
  {
   "cell_type": "code",
   "execution_count": 58,
   "metadata": {},
   "outputs": [
    {
     "data": {
      "text/plain": [
       "20"
      ]
     },
     "execution_count": 58,
     "metadata": {},
     "output_type": "execute_result"
    }
   ],
   "source": [
    "D.pop('beto')"
   ]
  },
  {
   "cell_type": "code",
   "execution_count": 48,
   "metadata": {},
   "outputs": [],
   "source": [
    "L = [\"cero\", \"uno\", \"dos\", \"tres\", \"cuatro\"]"
   ]
  },
  {
   "cell_type": "code",
   "execution_count": 59,
   "metadata": {},
   "outputs": [],
   "source": [
    "nombres = {i:l for i,l in enumerate(L)}"
   ]
  },
  {
   "cell_type": "code",
   "execution_count": 60,
   "metadata": {},
   "outputs": [
    {
     "data": {
      "text/plain": [
       "{0: 'cero', 1: 'uno', 2: 'dos', 3: 'tres', 4: 'cuatro'}"
      ]
     },
     "execution_count": 60,
     "metadata": {},
     "output_type": "execute_result"
    }
   ],
   "source": [
    "nombres"
   ]
  },
  {
   "cell_type": "code",
   "execution_count": 61,
   "metadata": {},
   "outputs": [
    {
     "data": {
      "text/plain": [
       "True"
      ]
     },
     "execution_count": 61,
     "metadata": {},
     "output_type": "execute_result"
    }
   ],
   "source": [
    "isinstance(D,dict)"
   ]
  },
  {
   "cell_type": "code",
   "execution_count": 62,
   "metadata": {},
   "outputs": [
    {
     "data": {
      "text/plain": [
       "False"
      ]
     },
     "execution_count": 62,
     "metadata": {},
     "output_type": "execute_result"
    }
   ],
   "source": [
    "isinstance(D,set)"
   ]
  },
  {
   "cell_type": "code",
   "execution_count": 63,
   "metadata": {},
   "outputs": [
    {
     "data": {
      "text/plain": [
       "False"
      ]
     },
     "execution_count": 63,
     "metadata": {},
     "output_type": "execute_result"
    }
   ],
   "source": [
    "isinstance(D,list)"
   ]
  },
  {
   "cell_type": "code",
   "execution_count": 66,
   "metadata": {},
   "outputs": [
    {
     "data": {
      "text/plain": [
       "True"
      ]
     },
     "execution_count": 66,
     "metadata": {},
     "output_type": "execute_result"
    }
   ],
   "source": [
    "isinstance(\"hola\",str)"
   ]
  },
  {
   "cell_type": "markdown",
   "metadata": {},
   "source": [
    "### Ejercicios de diccionarios\n",
    "\n",
    "1. Dado un diccionario \"inyectiva\", crea su \"diccionario inverso\".\n",
    "2. Crea un diccionario de nombres, película favorita. Después haz una función que imprime la información de alguien con un nombre dado o que imprima un error si no hay nadie con ese nombre.\n",
    "2. Dada una función $f$, un intervalo $[a,b]$ y un entero $n\\ge 2$, crea un diccionario que para $n$ valores $x$ uniformemente distribuídos en el intervalo $[a,b]$ les asocie $f(x)$. \n",
    "3. Dada una lista desordenada de enteros, determina (rápidamente) el número de parejas cuya diferencia es k.\n",
    "4. Dadas dos listas del mismo tamaño, crea un diccionario que a cada elemento de la primera lista le asocie un elemento de la segunda.\n",
    "5. Un diccionario o lista es \"simpática\" si todos sus valores son:\n",
    "- Enteros\n",
    "- Diccionarios simpáticos\n",
    "- Listas simpáticas.\n",
    "\n",
    "  Dado un diccionario/lista simpático, crea un programa que itere sobre todos los valores (valores, no llaves) y les sume 1. Por ejemplo: `{1:2,2:{1:10,5:[7,8]}}` $\\to$ `{1:3,2:{1:11,5:[8,9]}}`"
   ]
  },
  {
   "cell_type": "code",
   "execution_count": 79,
   "metadata": {},
   "outputs": [],
   "source": [
    "L = [1,1,1,1,1,6,6,6,20,38]"
   ]
  },
  {
   "cell_type": "code",
   "execution_count": 81,
   "metadata": {},
   "outputs": [],
   "source": [
    "multiplicidades={1:5,6:3,20:1,38:1}"
   ]
  },
  {
   "cell_type": "code",
   "execution_count": 69,
   "metadata": {},
   "outputs": [],
   "source": [
    "edades = {\"ana\":10, \"beto\":5, \"carlos\":8}"
   ]
  },
  {
   "cell_type": "code",
   "execution_count": 70,
   "metadata": {},
   "outputs": [],
   "source": [
    "def inverso(D):\n",
    "    return {v:k for k,v in D.items()}"
   ]
  },
  {
   "cell_type": "code",
   "execution_count": 71,
   "metadata": {},
   "outputs": [
    {
     "data": {
      "text/plain": [
       "{10: 'ana', 5: 'beto', 8: 'carlos'}"
      ]
     },
     "execution_count": 71,
     "metadata": {},
     "output_type": "execute_result"
    }
   ],
   "source": [
    "inverso(edades)"
   ]
  },
  {
   "cell_type": "code",
   "execution_count": null,
   "metadata": {},
   "outputs": [],
   "source": [
    "def inverso2(D):\n",
    "    return {D[i]:i for i in D}"
   ]
  },
  {
   "cell_type": "code",
   "execution_count": null,
   "metadata": {},
   "outputs": [],
   "source": [
    "def peliculas(D,nombre):\n",
    "    if nombre in D:\n",
    "        return D[nombre]\n",
    "    else:\n",
    "        return \"No está en el diccionario\""
   ]
  },
  {
   "cell_type": "code",
   "execution_count": 72,
   "metadata": {},
   "outputs": [],
   "source": [
    "def funcion2dict(f,a,b,n):\n",
    "    delta = (b-a)/(n-1)\n",
    "    nums = [a + i*delta for i in range(n)]\n",
    "    return {x:f(x) for x in nums}"
   ]
  },
  {
   "cell_type": "code",
   "execution_count": 73,
   "metadata": {},
   "outputs": [],
   "source": [
    "import math"
   ]
  },
  {
   "cell_type": "code",
   "execution_count": 76,
   "metadata": {},
   "outputs": [],
   "source": [
    "def mipolinomio(x):\n",
    "    return 5*x**3 - 3*x + 1"
   ]
  },
  {
   "cell_type": "code",
   "execution_count": 78,
   "metadata": {
    "collapsed": true,
    "jupyter": {
     "outputs_hidden": true
    }
   },
   "outputs": [
    {
     "data": {
      "text/plain": [
       "{0.0: 1.0,\n",
       " 0.031733259131313134: 0.9049599995237553,\n",
       " 0.06346651826262627: 0.8108786605536786,\n",
       " 0.0951997773939394: 0.718714644595938,\n",
       " 0.12693303652525253: 0.6294266131567018,\n",
       " 0.15866629565656568: 0.5439732277421376,\n",
       " 0.1903995547878788: 0.4633131498584139,\n",
       " 0.22213281391919193: 0.3884050410116986,\n",
       " 0.25386607305050507: 0.32020756270815964,\n",
       " 0.2855993321818182: 0.2596793764539652,\n",
       " 0.31733259131313135: 0.2077791437552834,\n",
       " 0.3490658504444445: 0.16546552611828236,\n",
       " 0.3807991095757576: 0.13369718504912975,\n",
       " 0.4125323687070707: 0.1134327820539941,\n",
       " 0.44426562783838386: 0.10563097863904325,\n",
       " 0.475998886969697: 0.11125043631044529,\n",
       " 0.5077321461010101: 0.1312498165743684,\n",
       " 0.5394654052323232: 0.16658778093698023,\n",
       " 0.5711986643636364: 0.21822299090444963,\n",
       " 0.6029319234949495: 0.2871141079829438,\n",
       " 0.6346651826262627: 0.37421979367863134,\n",
       " 0.6663984417575758: 0.48049870949768003,\n",
       " 0.698131700888889: 0.6069095169462588,\n",
       " 0.7298649600202021: 0.754410877530534,\n",
       " 0.7615982191515152: 0.9239614527566746,\n",
       " 0.7933314782828284: 1.1165199041308496,\n",
       " 0.8250647374141414: 1.3330448931592254,\n",
       " 0.8567979965454546: 1.5744950813479717,\n",
       " 0.8885312556767677: 1.8418291302032554,\n",
       " 0.9202645148080809: 2.136005701231246,\n",
       " 0.951997773939394: 2.4579834559381086,\n",
       " 0.9837310330707072: 2.808721055830014,\n",
       " 1.0154642922020203: 3.189177162413129,\n",
       " 1.0471975513333334: 3.600310437193622,\n",
       " 1.0789308104646465: 4.043079541677661,\n",
       " 1.1106640695959598: 4.518443137371417,\n",
       " 1.1423973287272728: 5.027359885781053,\n",
       " 1.174130587858586: 5.570788448412738,\n",
       " 1.205863846989899: 6.149687486772642,\n",
       " 1.2375971061212123: 6.765015662366936,\n",
       " 1.2693303652525254: 7.41773163670178,\n",
       " 1.3010636243838385: 8.108794071283347,\n",
       " 1.3327968835151516: 8.839161627617804,\n",
       " 1.3645301426464647: 9.609792967211323,\n",
       " 1.396263401777778: 10.421646751570071,\n",
       " 1.427996660909091: 11.275681642200208,\n",
       " 1.4597299200404041: 12.17285630060791,\n",
       " 1.4914631791717172: 13.114129388299343,\n",
       " 1.5231964383030303: 14.100459566780671,\n",
       " 1.5549296974343436: 15.132805497558074,\n",
       " 1.5866629565656567: 16.21212584213771,\n",
       " 1.6183962156969698: 17.339379262025748,\n",
       " 1.6501294748282829: 18.515524418728347,\n",
       " 1.6818627339595962: 19.741519973751707,\n",
       " 1.7135959930909093: 21.018324588601956,\n",
       " 1.7453292522222223: 22.34689692478529,\n",
       " 1.7770625113535354: 23.72819564380786,\n",
       " 1.8087957704848485: 25.163179407175846,\n",
       " 1.8405290296161618: 26.652806876395424,\n",
       " 1.872262288747475: 28.198036712972733,\n",
       " 1.903995547878788: 29.79982757841396,\n",
       " 1.935728807010101: 31.45913813422527,\n",
       " 1.9674620661414144: 33.17692704191284,\n",
       " 1.9991953252727275: 34.954152962982825,\n",
       " 2.0309285844040406: 36.7917745589414,\n",
       " 2.062661843535354: 38.690750491294736,\n",
       " 2.0943951026666667: 40.65203942154898,\n",
       " 2.12612836179798: 42.676600011210326,\n",
       " 2.157861620929293: 44.76539092178492,\n",
       " 2.189594880060606: 46.91937081477897,\n",
       " 2.2213281391919195: 49.139498351698606,\n",
       " 2.2530613983232324: 51.42673219404999,\n",
       " 2.2847946574545457: 53.782031003339334,\n",
       " 2.3165279165858585: 56.206353441072736,\n",
       " 2.348261175717172: 58.700658168756455,\n",
       " 2.379994434848485: 61.265903847896595,\n",
       " 2.411727693979798: 63.90304913999931,\n",
       " 2.4434609531111113: 66.61305270657084,\n",
       " 2.4751942122424246: 69.39687320911732,\n",
       " 2.5069274713737375: 72.25546930914484,\n",
       " 2.538660730505051: 75.1897996681597,\n",
       " 2.5703939896363637: 78.20082294766797,\n",
       " 2.602127248767677: 81.28949780917587,\n",
       " 2.6338605078989903: 84.45678291418957,\n",
       " 2.665593767030303: 87.70363692421516,\n",
       " 2.6973270261616165: 91.03101850075895,\n",
       " 2.7290602852929293: 94.43988630532694,\n",
       " 2.7607935444242426: 97.93119899942546,\n",
       " 2.792526803555556: 101.50591524456057,\n",
       " 2.824260062686869: 105.16499370223843,\n",
       " 2.855993321818182: 108.90939303396532,\n",
       " 2.887726580949495: 112.74007190124725,\n",
       " 2.9194598400808083: 116.65798896559055,\n",
       " 2.9511930992121216: 120.6641028885013,\n",
       " 2.9829263583434344: 124.75937233148565,\n",
       " 3.0146596174747478: 128.94475595604985,\n",
       " 3.0463928766060606: 133.2212124236999,\n",
       " 3.078126135737374: 137.5897003959422,\n",
       " 3.1098593948686872: 142.0511785342828,\n",
       " 3.141592654: 146.60660550022777}"
      ]
     },
     "execution_count": 78,
     "metadata": {},
     "output_type": "execute_result"
    }
   ],
   "source": [
    "funcion2dict(lambda x: 5*x**3 - 3*x + 1,0,3.141592654,100)"
   ]
  },
  {
   "cell_type": "code",
   "execution_count": null,
   "metadata": {},
   "outputs": [],
   "source": [
    "def crear_dic_de_multiplicidades2(L):\n",
    "    D = {}\n",
    "    for l in L:\n",
    "        if l in D:\n",
    "            D[l] += 1\n",
    "        else:\n",
    "            D[l] = 1\n",
    "    return D"
   ]
  },
  {
   "cell_type": "code",
   "execution_count": 82,
   "metadata": {},
   "outputs": [],
   "source": [
    "def crear_dic_de_multiplicidades(L):\n",
    "    D = {}\n",
    "    for l in L:\n",
    "        D.setdefault(l,0)\n",
    "        D[l] += 1\n",
    "    return D"
   ]
  },
  {
   "cell_type": "code",
   "execution_count": 83,
   "metadata": {},
   "outputs": [],
   "source": [
    "def num_parejas_con_diferencia_k(L,k):\n",
    "    multiplicidades = crear_dic_de_multiplicidades(L)\n",
    "    suma = 0\n",
    "    for i in multiplicidades.keys():\n",
    "        if i+k in multiplicidades.keys():\n",
    "            suma += multiplicidades[i]*multiplicidades[i+k]\n",
    "    return suma"
   ]
  },
  {
   "cell_type": "code",
   "execution_count": 84,
   "metadata": {},
   "outputs": [
    {
     "data": {
      "text/plain": [
       "22"
      ]
     },
     "execution_count": 84,
     "metadata": {},
     "output_type": "execute_result"
    }
   ],
   "source": [
    "num_parejas_con_diferencia_k([1,1,1,1,1,2,2,2,3,3,5,6],1)"
   ]
  },
  {
   "cell_type": "code",
   "execution_count": 85,
   "metadata": {},
   "outputs": [],
   "source": [
    "def diccionario_de_dos_listas(A,B):\n",
    "    return dict(zip(A,B))"
   ]
  },
  {
   "cell_type": "code",
   "execution_count": 87,
   "metadata": {},
   "outputs": [
    {
     "data": {
      "text/plain": [
       "{'a': 4, 'b': 2, 'c': 3}"
      ]
     },
     "execution_count": 87,
     "metadata": {},
     "output_type": "execute_result"
    }
   ],
   "source": [
    "diccionario_de_dos_listas([\"a\",\"b\",\"c\",\"a\"],[1,2,3,4])"
   ]
  },
  {
   "cell_type": "code",
   "execution_count": null,
   "metadata": {},
   "outputs": [],
   "source": [
    "{a:b for a,b in zip(A,B)}"
   ]
  }
 ],
 "metadata": {
  "kernelspec": {
   "display_name": "Python 3",
   "language": "python",
   "name": "python3"
  },
  "language_info": {
   "codemirror_mode": {
    "name": "ipython",
    "version": 3
   },
   "file_extension": ".py",
   "mimetype": "text/x-python",
   "name": "python",
   "nbconvert_exporter": "python",
   "pygments_lexer": "ipython3",
   "version": "3.8.1"
  }
 },
 "nbformat": 4,
 "nbformat_minor": 4
}
