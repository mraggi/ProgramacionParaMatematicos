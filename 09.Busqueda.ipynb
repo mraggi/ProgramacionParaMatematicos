{
 "cells": [
  {
   "cell_type": "markdown",
   "metadata": {},
   "source": [
    "## Búsqueda\n",
    "\n",
    "En esta libreta exploraremos búsqueda en gráficas.\n",
    "\n",
    "Antes de empezar con búsqueda, debemos pensar en las posibles maneras de expresar una gráfica en la computadora: A veces la tenemos en memoria, a veces no, etc.\n",
    "\n",
    "Posibles maneras de expresar una gráfica:\n",
    "1. Una lista de aristas\n",
    "2. Una matriz de adyacencia\n",
    "3. Para cada vértice tenemos una manera de encontrar sus vecinos.\n",
    "\n",
    "Pros y cons:\n",
    "1. Es sencillo recorrer todas las aristas, ordenarlas, etc. Agregar vértices o aristas es trivial. Quitarlos es muy pesado.\n",
    "2. Es sencillo saber si dos vértices están conectados o no. Agregar y quitar aristas es trivial. Quitar o agregar vértices es muy pesado. Toma una cantidad cuadrática de memoria.\n",
    "3. Dependiendo de la estructura de datos que usemos para guardar vecinos qué tan fácil o difícil sea encontrar si dos están conectados, etc. Es fácil encontrar los vecinos de un vértice, y la mayoría de los algoritmos en gráficas requieren esto.\n",
    "\n",
    "\n",
    "En matemáticas muchas veces vamos a tener gráficas gigantescas en donde más bien podemos saber los \"vecinos\" de un vértice.\n",
    "\n",
    "Para empezar, vamos a ver cómo programaríamos un resolvedor de laberintos (medio chafón)."
   ]
  },
  {
   "cell_type": "code",
   "execution_count": null,
   "metadata": {},
   "outputs": [],
   "source": [
    "import random"
   ]
  },
  {
   "cell_type": "code",
   "execution_count": null,
   "metadata": {},
   "outputs": [],
   "source": [
    "def crear_laberinto(n,m,p=0.25):\n",
    "    M = [[0]*m for i in range(n)]\n",
    "    for x in range(n):\n",
    "        for y in range(m):\n",
    "            if random.random() < p:\n",
    "                M[x][y] = 1\n",
    "    M[0][0] = 0\n",
    "    M[-1][-1] = 0\n",
    "    return M"
   ]
  },
  {
   "cell_type": "markdown",
   "metadata": {},
   "source": [
    "Digamos que queremos llegar de la casilla (0,0) a la casilla (n-1,m-1) (la última)."
   ]
  },
  {
   "cell_type": "code",
   "execution_count": null,
   "metadata": {},
   "outputs": [],
   "source": [
    "from copy import deepcopy"
   ]
  },
  {
   "cell_type": "code",
   "execution_count": null,
   "metadata": {},
   "outputs": [],
   "source": [
    "def vecinos(M,x,y):\n",
    "    n,m = len(M), len(M[0])\n",
    "    candidatos = [(x-1,y), (x+1,y), (x,y-1), (x,y+1)]\n",
    "    V = []\n",
    "    for xp,yp in candidatos:\n",
    "        if not (xp < 0 or yp < 0 or xp>=n or yp >= m):\n",
    "            if M[xp][yp] == 0:\n",
    "                V.append((xp,yp))\n",
    "    return V"
   ]
  },
  {
   "cell_type": "code",
   "execution_count": null,
   "metadata": {},
   "outputs": [],
   "source": [
    "def encontrar_camino(M):\n",
    "    n,m = len(M), len(M[0])\n",
    "    \n",
    "    caminotrivial = [(0,0)]\n",
    "    frontera = [caminotrivial]\n",
    "    explorados = {(0,0)}\n",
    "    \n",
    "    while frontera:\n",
    "        P = frontera.pop(0)\n",
    "        u = P[-1]\n",
    "        explorados.add(u)\n",
    "        \n",
    "        if es_objetivo(M,u): \n",
    "            return P\n",
    "        \n",
    "        expander_camino(M,P,frontera,explorados)\n",
    "        \n",
    "    print(\"No hay camino!\")\n",
    "    return None"
   ]
  },
  {
   "cell_type": "code",
   "execution_count": null,
   "metadata": {},
   "outputs": [],
   "source": [
    "def es_objetivo(M,u):\n",
    "    n,m = len(M), len(M[0])\n",
    "    return u == (n-1,m-1)"
   ]
  },
  {
   "cell_type": "code",
   "execution_count": null,
   "metadata": {},
   "outputs": [],
   "source": [
    "def expander_camino(M,P,frontera,explorados):\n",
    "    u = P[-1]\n",
    "    for v in vecinos(M,*u):\n",
    "        if v not in explorados:\n",
    "            Q = deepcopy(P)\n",
    "            Q.append(v)\n",
    "            frontera.append(Q)"
   ]
  },
  {
   "cell_type": "code",
   "execution_count": null,
   "metadata": {},
   "outputs": [],
   "source": [
    "M=crear_laberinto(10,10,0.25); M"
   ]
  },
  {
   "cell_type": "code",
   "execution_count": null,
   "metadata": {},
   "outputs": [],
   "source": [
    "camino=encontrar_camino(M); camino"
   ]
  },
  {
   "cell_type": "code",
   "execution_count": null,
   "metadata": {},
   "outputs": [],
   "source": [
    "def imprimir_camino(M,camino):\n",
    "    A = deepcopy(M)\n",
    "    for x,y in camino:\n",
    "        A[x][y] = 8\n",
    "    return A"
   ]
  },
  {
   "cell_type": "code",
   "execution_count": null,
   "metadata": {},
   "outputs": [],
   "source": [
    "imprimir_camino(M,camino)"
   ]
  },
  {
   "cell_type": "code",
   "execution_count": null,
   "metadata": {},
   "outputs": [],
   "source": [
    "L = [1,2,3,4,5]"
   ]
  },
  {
   "cell_type": "code",
   "execution_count": null,
   "metadata": {},
   "outputs": [],
   "source": [
    "L.pop(2)"
   ]
  },
  {
   "cell_type": "code",
   "execution_count": null,
   "metadata": {},
   "outputs": [],
   "source": [
    "L"
   ]
  },
  {
   "cell_type": "markdown",
   "metadata": {},
   "source": [
    "## BFS y deque\n",
    "\n",
    "En el programa anterior, si cambiamos `P = frontera.pop()` por `P = frontera.pop(0)` estaremos haciendo BFS (breadth-first search) en vez de DFS.\n",
    "\n",
    "PERO hay un problema: pop(0) es extremadamente lento: saca el 0-avo recorriendo todos los demás un espacio en memoria a la izquierda.\n",
    "\n",
    "Entonces debemos usar otra estructura de datos: `deque` (double ended queue)."
   ]
  },
  {
   "cell_type": "code",
   "execution_count": null,
   "metadata": {},
   "outputs": [],
   "source": [
    "from collections import deque"
   ]
  },
  {
   "cell_type": "code",
   "execution_count": null,
   "metadata": {},
   "outputs": [],
   "source": [
    "D = deque()"
   ]
  },
  {
   "cell_type": "code",
   "execution_count": null,
   "metadata": {},
   "outputs": [],
   "source": [
    "D.append(8)"
   ]
  },
  {
   "cell_type": "code",
   "execution_count": null,
   "metadata": {},
   "outputs": [],
   "source": [
    "D.appendleft(7)"
   ]
  },
  {
   "cell_type": "code",
   "execution_count": null,
   "metadata": {},
   "outputs": [],
   "source": [
    "D"
   ]
  },
  {
   "cell_type": "code",
   "execution_count": null,
   "metadata": {},
   "outputs": [],
   "source": [
    "D.pop()"
   ]
  },
  {
   "cell_type": "code",
   "execution_count": null,
   "metadata": {},
   "outputs": [],
   "source": [
    "D"
   ]
  },
  {
   "cell_type": "code",
   "execution_count": null,
   "metadata": {},
   "outputs": [],
   "source": [
    "D.popleft()"
   ]
  },
  {
   "cell_type": "code",
   "execution_count": null,
   "metadata": {},
   "outputs": [],
   "source": [
    "D"
   ]
  },
  {
   "cell_type": "code",
   "execution_count": null,
   "metadata": {},
   "outputs": [],
   "source": [
    "def encontrar_caminoBFS(M):\n",
    "    n,m = len(M), len(M[0])\n",
    "    \n",
    "    caminotrivial = [(0,0)]\n",
    "    frontera = deque([caminotrivial])\n",
    "    explorados = {(0,0)}\n",
    "    \n",
    "    while frontera:\n",
    "        P = frontera.popleft()\n",
    "        u = P[-1]\n",
    "        explorados.add(u)\n",
    "        \n",
    "        if es_objetivo(M,u): \n",
    "            return P\n",
    "        \n",
    "        expander_camino(M,P,frontera,explorados)\n",
    "        \n",
    "    print(\"No hay camino!\")\n",
    "    return None"
   ]
  },
  {
   "cell_type": "code",
   "execution_count": null,
   "metadata": {},
   "outputs": [],
   "source": [
    "M"
   ]
  },
  {
   "cell_type": "code",
   "execution_count": null,
   "metadata": {},
   "outputs": [],
   "source": [
    "camino = encontrar_caminoBFS(M)"
   ]
  },
  {
   "cell_type": "code",
   "execution_count": null,
   "metadata": {},
   "outputs": [],
   "source": [
    "imprimir_camino(M,camino)"
   ]
  },
  {
   "cell_type": "markdown",
   "metadata": {},
   "source": [
    "## DFS, recursión, y la callstack (pila de llamadas)\n",
    "\n",
    "Hay otra manera de programar DFS que a veces es más sencilla: con recursión.\n",
    "\n",
    "Digamos que tenemos, por ejemplo, un árbol con raíz, y para cada nodo quisiéramos saber cuántos nodos hay \"debajo\" de él."
   ]
  },
  {
   "cell_type": "code",
   "execution_count": null,
   "metadata": {},
   "outputs": [],
   "source": [
    "graphs.RandomTree(14)"
   ]
  },
  {
   "cell_type": "code",
   "execution_count": null,
   "metadata": {},
   "outputs": [],
   "source": [
    "def crear_arbol_aleatorio(n):\n",
    "    hijos = [[] for i in range(n)]\n",
    "    for i in range(1,n):\n",
    "        padre = random.randint(0,i-1)\n",
    "        hijos[padre].append(i)\n",
    "    return hijos"
   ]
  },
  {
   "cell_type": "code",
   "execution_count": null,
   "metadata": {},
   "outputs": [],
   "source": [
    "arbol = crear_arbol_aleatorio(18); arbol"
   ]
  },
  {
   "cell_type": "code",
   "execution_count": null,
   "metadata": {},
   "outputs": [],
   "source": [
    "def arbol2sage(arbol):\n",
    "    n = len(arbol)\n",
    "    G = Graph(n)\n",
    "    for u in range(n):\n",
    "        for v in arbol[u]:\n",
    "            G.add_edge(u,v)\n",
    "    return G"
   ]
  },
  {
   "cell_type": "code",
   "execution_count": null,
   "metadata": {},
   "outputs": [],
   "source": [
    "arbol2sage(arbol)"
   ]
  },
  {
   "cell_type": "code",
   "execution_count": null,
   "metadata": {},
   "outputs": [],
   "source": [
    "def factorial(n):\n",
    "    if n < 2: return 1\n",
    "    return n*factorial(n-1)"
   ]
  },
  {
   "cell_type": "code",
   "execution_count": null,
   "metadata": {},
   "outputs": [],
   "source": [
    "factorial(10000)"
   ]
  },
  {
   "cell_type": "code",
   "execution_count": null,
   "metadata": {},
   "outputs": [],
   "source": [
    "r = 1\n",
    "for i in range(1,10000):\n",
    "    r *= i\n",
    "r"
   ]
  },
  {
   "cell_type": "code",
   "execution_count": null,
   "metadata": {},
   "outputs": [],
   "source": [
    "def cuantos_nodos_debajo(T, v):\n",
    "    respuesta = 0\n",
    "    for u in T[v]:\n",
    "        respuesta += cuantos_nodos_debajo(T,u)+1\n",
    "    return respuesta"
   ]
  },
  {
   "cell_type": "code",
   "execution_count": null,
   "metadata": {},
   "outputs": [],
   "source": [
    "cuantos_nodos_debajo(arbol,2)"
   ]
  },
  {
   "cell_type": "markdown",
   "metadata": {},
   "source": [
    "Al llamar \"cuantos_nodos_debajo\" estamos en realidad usando la \"pila de llamadas\" (callstack) como la frontera!"
   ]
  },
  {
   "cell_type": "markdown",
   "metadata": {},
   "source": [
    "## Ejercicios\n",
    "\n",
    "1. Dada una gráfica (una lista de $n$ listas de vecinos), decide si es conexa o no.\n",
    "2. Modifica el programa anterior para encontrar las componentes conexas\n",
    "3. Bien-colorea una gráfica con $k$ colores si es posible."
   ]
  },
  {
   "cell_type": "code",
   "execution_count": null,
   "metadata": {},
   "outputs": [],
   "source": [
    "def grafica_aleatoria(n,p = 0.5):\n",
    "    G = [[] for i in range(n)] # grafica vacia\n",
    "    for u in range(n):\n",
    "        for v in range(u+1,n):\n",
    "            if random.random() < p:\n",
    "                G[u].append(v)\n",
    "                G[v].append(u)\n",
    "    return G"
   ]
  },
  {
   "cell_type": "code",
   "execution_count": null,
   "metadata": {},
   "outputs": [],
   "source": [
    "S = Graph(5)"
   ]
  },
  {
   "cell_type": "code",
   "execution_count": null,
   "metadata": {},
   "outputs": [],
   "source": [
    "def to_sage(G):\n",
    "    n = len(G)\n",
    "    S = Graph(n)\n",
    "    for u in range(n):\n",
    "        for v in G[u]:\n",
    "            if u < v:\n",
    "                S.add_edge((u,v))\n",
    "    return S"
   ]
  },
  {
   "cell_type": "code",
   "execution_count": null,
   "metadata": {},
   "outputs": [],
   "source": [
    "to_sage(grafica_aleatoria(8,0.5))"
   ]
  },
  {
   "cell_type": "code",
   "execution_count": null,
   "metadata": {},
   "outputs": [],
   "source": []
  },
  {
   "cell_type": "markdown",
   "metadata": {},
   "source": [
    "### Bonus: encontrar el error :("
   ]
  },
  {
   "cell_type": "code",
   "execution_count": null,
   "metadata": {},
   "outputs": [],
   "source": [
    "G=[[0,1,0,1,1,0,0,0],[1,0,1,0,0,1,0,0],[0,1,0,1,0,0,1,0],[1,0,1,0,0,0,0,1],[1,0,0,0,0,1,0,1],[0,1,0,0,1,0,1,0],[0,0,1,0,0,1,0,1],[0,0,0,1,1,0,1,0]]"
   ]
  },
  {
   "cell_type": "code",
   "execution_count": null,
   "metadata": {},
   "outputs": [],
   "source": [
    "Graph(Matrix(G))"
   ]
  },
  {
   "cell_type": "code",
   "execution_count": null,
   "metadata": {},
   "outputs": [],
   "source": []
  },
  {
   "cell_type": "code",
   "execution_count": null,
   "metadata": {},
   "outputs": [],
   "source": []
  },
  {
   "cell_type": "markdown",
   "metadata": {},
   "source": [
    "## Soluciones\n",
    "\n",
    "#### Decidir si una gráfica es conexa."
   ]
  },
  {
   "cell_type": "code",
   "execution_count": null,
   "metadata": {},
   "outputs": [],
   "source": [
    "G"
   ]
  },
  {
   "cell_type": "code",
   "execution_count": null,
   "metadata": {},
   "outputs": [],
   "source": [
    "def es_conexa(G):\n",
    "    n = len(G)\n",
    "    if n < 2: return True\n",
    "    \n",
    "    explorados = [False]*n\n",
    "    dfs_marcar_conectados(G,0,explorados)\n",
    "    return False not in explorados\n",
    "    "
   ]
  },
  {
   "cell_type": "code",
   "execution_count": null,
   "metadata": {},
   "outputs": [],
   "source": [
    "def dfs_marcar_conectados(G,v,explorados):\n",
    "    explorados[v] = True\n",
    "    for u in G[v]:\n",
    "        if not explorados[u]:\n",
    "            dfs_marcar_conectados(G,u,explorados)"
   ]
  },
  {
   "cell_type": "code",
   "execution_count": null,
   "metadata": {},
   "outputs": [],
   "source": [
    "G = grafica_aleatoria(10,0.2); to_sage(G)"
   ]
  },
  {
   "cell_type": "code",
   "execution_count": null,
   "metadata": {},
   "outputs": [],
   "source": [
    "es_conexa(G)"
   ]
  },
  {
   "cell_type": "markdown",
   "metadata": {},
   "source": [
    "Solucion de componentes conexas"
   ]
  },
  {
   "cell_type": "code",
   "execution_count": null,
   "metadata": {},
   "outputs": [],
   "source": [
    "def componentes_conexas(G):\n",
    "    n = len(G)\n",
    "    if n < 2: return True\n",
    "    \n",
    "    colores = [-1]*n\n",
    "    color = 0\n",
    "    for v in range(n):\n",
    "        if colores[v] == -1:\n",
    "            dfs_colorear(G,v,colores,color)\n",
    "            color += 1\n",
    "    \n",
    "    return colores\n",
    "\n",
    "def dfs_colorear(G,v,colores,color):\n",
    "    colores[v] = color\n",
    "    for u in G[v]:\n",
    "        if colores[u] == -1:\n",
    "            dfs_colorear(G,u,colores,color)"
   ]
  },
  {
   "cell_type": "code",
   "execution_count": null,
   "metadata": {},
   "outputs": [],
   "source": [
    "componentes_conexas(G)"
   ]
  },
  {
   "cell_type": "markdown",
   "metadata": {},
   "source": [
    "Solucion de bien-coloreada"
   ]
  },
  {
   "cell_type": "code",
   "execution_count": null,
   "metadata": {},
   "outputs": [],
   "source": [
    "def es_valida(G,coloracion):\n",
    "    u = len(coloracion)-1\n",
    "    for v in G[u]:\n",
    "        if v < u and coloracion[u] == coloracion[v]:\n",
    "            return False\n",
    "    return True"
   ]
  },
  {
   "cell_type": "code",
   "execution_count": null,
   "metadata": {},
   "outputs": [],
   "source": [
    "def vecinos(G,coloracion,k):\n",
    "    V = []\n",
    "    for color in range(k):\n",
    "        nueva = coloracion+[color]\n",
    "        if es_valida(G,nueva):\n",
    "            V.append(nueva)\n",
    "    return V"
   ]
  },
  {
   "cell_type": "code",
   "execution_count": null,
   "metadata": {},
   "outputs": [],
   "source": [
    "def bien_colorear(G,k):\n",
    "    n = len(G)\n",
    "    frontera = [[0]]\n",
    "    while frontera:\n",
    "        coloracion = frontera.pop()\n",
    "        if len(coloracion) == n:\n",
    "            return coloracion\n",
    "        for c in vecinos(G,coloracion):\n",
    "            frontera.append(c)\n",
    "    print(\"No hay coloración!\")\n",
    "    return None"
   ]
  },
  {
   "cell_type": "markdown",
   "metadata": {},
   "source": [
    "## Colas de prioridad\n",
    "\n",
    "Una **cola de prioridad** es una estructura de datos en donde \"sale\" el elemento de mayor prioridad (en vez de el primero como en las colas o el último, como en las pilas).\n",
    "\n",
    "Vamos a implementar Dijkstra con una cola de prioridad.\n",
    "\n",
    "Desafortunadamente, las priority queues son medio raras en python, porque esperan que tú sepas lo que haces. Entonces hice yo mi propia priority queue. No se preocupen mucho qué hace cada cosa, eso es python más avanzado, pero es simplemente un \"disfraz\" sobre una heapq."
   ]
  },
  {
   "cell_type": "code",
   "execution_count": null,
   "metadata": {},
   "outputs": [],
   "source": [
    "import heapq\n",
    "\n",
    "class PriorityQueue():\n",
    "    def __init__(self, iterable = []):\n",
    "        self.items = list(iterable)\n",
    "        heapq.heapify(self.items)\n",
    "        \n",
    "    def insert(self, x): heapq.heappush(self.items, x)\n",
    "        \n",
    "    def pop(self): return heapq.heappop(self.items)\n",
    "    \n",
    "    def __len__(self): return len(self.items)\n",
    "    \n",
    "    def __iter__(self): return iter(self.items)\n",
    "    \n",
    "    def __repr__(self): return f\"PriorityQueue({repr(self.items)})\""
   ]
  },
  {
   "cell_type": "code",
   "execution_count": null,
   "metadata": {},
   "outputs": [],
   "source": [
    "L = [4,1,5,2,3,7,10]\n",
    "P = PriorityQueue(L)"
   ]
  },
  {
   "cell_type": "code",
   "execution_count": null,
   "metadata": {},
   "outputs": [],
   "source": [
    "P"
   ]
  },
  {
   "cell_type": "code",
   "execution_count": null,
   "metadata": {},
   "outputs": [],
   "source": [
    "for p in P:\n",
    "    print(p)"
   ]
  },
  {
   "cell_type": "code",
   "execution_count": null,
   "metadata": {},
   "outputs": [],
   "source": [
    "P.insert(9)"
   ]
  },
  {
   "cell_type": "code",
   "execution_count": null,
   "metadata": {},
   "outputs": [],
   "source": [
    "P"
   ]
  },
  {
   "cell_type": "markdown",
   "metadata": {},
   "source": [
    "### Dijkstra\n",
    "\n",
    "El algoritmo de Dijkstra es simplemente el algoritmo que ya hemos estado viendo, pero que en lugar de escoger siempre el último o el primer camino de la frontera, escogemos el más pequeño.\n",
    "\n",
    "Entonces debemos darle el \"costo\" a cada camino."
   ]
  },
  {
   "cell_type": "code",
   "execution_count": null,
   "metadata": {},
   "outputs": [],
   "source": [
    "M = crear_laberinto(10,10); M"
   ]
  },
  {
   "cell_type": "code",
   "execution_count": null,
   "metadata": {},
   "outputs": [],
   "source": [
    "def vecinos(M,x,y):\n",
    "    n,m = len(M), len(M[0])\n",
    "    candidatos = [(x-1,y), (x+1,y), (x,y-1), (x,y+1)]\n",
    "    V = []\n",
    "    for xp,yp in candidatos:\n",
    "        if not (xp < 0 or yp < 0 or xp>=n or yp >= m):\n",
    "            if M[xp][yp] == 0:\n",
    "                V.append((xp,yp))\n",
    "    return V"
   ]
  },
  {
   "cell_type": "code",
   "execution_count": null,
   "metadata": {},
   "outputs": [],
   "source": [
    "def encontrar_camino_dijkstra(M):\n",
    "    n,m = len(M), len(M[0])\n",
    "    \n",
    "    caminotrivial = (0,[(0,0)]) # (costo, camino como lista de nodos)\n",
    "    frontera = PriorityQueue([caminotrivial])\n",
    "    explorados = {(0,0)}\n",
    "    \n",
    "    while frontera:\n",
    "        costo, camino = frontera.pop()\n",
    "        u = camino[-1]\n",
    "        explorados.add(u)\n",
    "        \n",
    "        if es_objetivo(M,u): \n",
    "            return camino\n",
    "        \n",
    "        expander_camino(M,camino,frontera,explorados)\n",
    "        \n",
    "    print(\"No hay camino!\")\n",
    "    return None"
   ]
  },
  {
   "cell_type": "code",
   "execution_count": null,
   "metadata": {},
   "outputs": [],
   "source": [
    "def es_objetivo(M,u):\n",
    "    n,m = len(M), len(M[0])\n",
    "    return u == (n-1,m-1)"
   ]
  },
  {
   "cell_type": "code",
   "execution_count": null,
   "metadata": {},
   "outputs": [],
   "source": [
    "def expander_camino(M,camino,frontera,explorados):\n",
    "    u = camino[-1]\n",
    "    for v in vecinos(M,*u):\n",
    "        if v not in explorados:\n",
    "            nuevo = deepcopy(camino)\n",
    "            nuevo.append(v)\n",
    "            frontera.insert((len(nuevo)-1, nuevo))"
   ]
  },
  {
   "cell_type": "code",
   "execution_count": null,
   "metadata": {},
   "outputs": [],
   "source": [
    "encontrar_camino_dijkstra(M)"
   ]
  },
  {
   "cell_type": "markdown",
   "metadata": {},
   "source": [
    "## Una mejora para no hacer copias\n",
    "\n",
    "- Un problema con el algoritmo de búsqueda como lo vimos hasta ahora es que **hacemos muchas copias de los caminos**. \n",
    "- Podemos hacerlo mejor: A cada nodo le guardamos su costo y su \"padre\", y al final *reconstruimos* el camino. \n",
    "- Veamos cómo implementarlo."
   ]
  },
  {
   "cell_type": "code",
   "execution_count": null,
   "metadata": {},
   "outputs": [],
   "source": [
    "INF"
   ]
  },
  {
   "cell_type": "code",
   "execution_count": null,
   "metadata": {},
   "outputs": [],
   "source": [
    "INF = 999999999999999999\n",
    "def encontrar_camino_dijkstra_mejorado(M):\n",
    "    n,m = len(M), len(M[0])\n",
    "    \n",
    "    caminotrivial = (0,(0,0)) # (costo, ultimo nodo)\n",
    "    frontera = PriorityQueue([caminotrivial])\n",
    "    \n",
    "    explorados = set()\n",
    "    costos = {(0,0): 0}\n",
    "    padres = {(0,0): None}\n",
    "    \n",
    "    while frontera:\n",
    "        costo, u = frontera.pop()\n",
    "        \n",
    "        if es_objetivo(M,u): return reconstruir_camino(u,padres)\n",
    "               \n",
    "        if u in explorados: \n",
    "            continue\n",
    "        explorados.add(u)\n",
    "        \n",
    "        costos[u] = costo\n",
    "        \n",
    "        for v in vecinos(M,*u):\n",
    "            costo_anterior = costos.setdefault(v,INF)\n",
    "            costo_actual = costo+1\n",
    "            \n",
    "            if costo_actual < costo_anterior:\n",
    "                costos[v] = costo_actual\n",
    "                padres[v] = u\n",
    "                frontera.insert((costo_actual,v))\n",
    "                \n",
    "        \n",
    "    print(\"No hay camino!\")\n",
    "    return None"
   ]
  },
  {
   "cell_type": "code",
   "execution_count": null,
   "metadata": {},
   "outputs": [],
   "source": [
    "def reconstruir_camino(nodo, padres):\n",
    "    camino = [nodo]\n",
    "    while padres[nodo] is not None:\n",
    "        nodo = padres[nodo]\n",
    "        camino.append(nodo)\n",
    "    return list(reversed(camino))"
   ]
  },
  {
   "cell_type": "code",
   "execution_count": null,
   "metadata": {},
   "outputs": [],
   "source": [
    "encontrar_camino_dijkstra_mejorado(M)"
   ]
  },
  {
   "cell_type": "code",
   "execution_count": null,
   "metadata": {},
   "outputs": [],
   "source": [
    "A = {1:2}"
   ]
  },
  {
   "cell_type": "code",
   "execution_count": null,
   "metadata": {},
   "outputs": [],
   "source": [
    "A.setdefault(4,3)"
   ]
  },
  {
   "cell_type": "code",
   "execution_count": null,
   "metadata": {},
   "outputs": [],
   "source": [
    "A"
   ]
  },
  {
   "cell_type": "markdown",
   "metadata": {},
   "source": [
    "## A*"
   ]
  },
  {
   "cell_type": "markdown",
   "metadata": {},
   "source": [
    "Ejercicios: \n",
    "\n",
    "1. Modifica el código anterior para hacer A* en vez de Dijkstra\n",
    "2. Si tienes dos caminos cuyo costo+heurística es igual, ¿cómo le hago para que me de primero el de menor heurística?\n",
    "3. (opcional) Programa un resolvedor del juego del 15 :)"
   ]
  },
  {
   "cell_type": "code",
   "execution_count": null,
   "metadata": {},
   "outputs": [],
   "source": []
  }
 ],
 "metadata": {
  "kernelspec": {
   "display_name": "SageMath 9.0",
   "language": "sage",
   "name": "sagemath"
  },
  "language_info": {
   "codemirror_mode": {
    "name": "ipython",
    "version": 3
   },
   "file_extension": ".py",
   "mimetype": "text/x-python",
   "name": "python",
   "nbconvert_exporter": "python",
   "pygments_lexer": "ipython3",
   "version": "3.8.2"
  }
 },
 "nbformat": 4,
 "nbformat_minor": 4
}
