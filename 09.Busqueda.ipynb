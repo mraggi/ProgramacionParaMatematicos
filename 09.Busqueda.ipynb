{
 "cells": [
  {
   "cell_type": "markdown",
   "metadata": {},
   "source": [
    "## Búsqueda\n",
    "\n",
    "En esta libreta exploraremos búsqueda en gráficas.\n",
    "\n",
    "Antes de empezar con búsqueda, debemos pensar en las posibles maneras de expresar una gráfica en la computadora: A veces la tenemos en memoria, a veces no, etc.\n",
    "\n",
    "Posibles maneras de expresar una gráfica:\n",
    "1. Una lista de aristas\n",
    "2. Una matriz de adyacencia\n",
    "3. Para cada vértice tenemos una manera de encontrar sus vecinos.\n",
    "\n",
    "Pros y cons:\n",
    "1. Es sencillo recorrer todas las aristas, ordenarlas, etc. Agregar vértices o aristas es trivial. Quitarlos es muy pesado.\n",
    "2. Es sencillo saber si dos vértices están conectados o no. Agregar y quitar aristas es trivial. Quitar o agregar vértices es muy pesado. Toma una cantidad cuadrática de memoria.\n",
    "3. Dependiendo de la estructura de datos que usemos para guardar vecinos qué tan fácil o difícil sea encontrar si dos están conectados, etc. Es fácil encontrar los vecinos de un vértice, y la mayoría de los algoritmos en gráficas requieren esto.\n",
    "\n",
    "\n",
    "En matemáticas muchas veces vamos a tener gráficas gigantescas en donde más bien podemos saber los \"vecinos\" de un vértice.\n",
    "\n",
    "Para empezar, vamos a ver cómo programaríamos un resolvedor de laberintos (medio chafón)."
   ]
  },
  {
   "cell_type": "code",
   "execution_count": 8,
   "metadata": {},
   "outputs": [],
   "source": [
    "import random"
   ]
  },
  {
   "cell_type": "code",
   "execution_count": 54,
   "metadata": {},
   "outputs": [],
   "source": [
    "def crear_laberinto(n,m,p=0.25):\n",
    "    M = [[0]*m for i in range(n)]\n",
    "    for x in range(n):\n",
    "        for y in range(m):\n",
    "            if random.random() < p:\n",
    "                M[x][y] = 1\n",
    "    M[0][0] = 0\n",
    "    M[-1][-1] = 0\n",
    "    return M"
   ]
  },
  {
   "cell_type": "markdown",
   "metadata": {},
   "source": [
    "Digamos que queremos llegar de la casilla (0,0) a la casilla (n-1,m-1) (la última)."
   ]
  },
  {
   "cell_type": "code",
   "execution_count": 9,
   "metadata": {},
   "outputs": [],
   "source": [
    "from copy import deepcopy"
   ]
  },
  {
   "cell_type": "code",
   "execution_count": null,
   "metadata": {},
   "outputs": [],
   "source": [
    "def vecinos(M,x,y):\n",
    "    n,m = len(M), len(M[0])\n",
    "    candidatos = [(x-1,y), (x+1,y), (x,y-1), (x,y+1)]\n",
    "    V = []\n",
    "    for xp,yp in candidatos:\n",
    "        if not (xp < 0 or yp < 0 or xp>=n or yp >= m):\n",
    "            if M[xp][yp] == 0:\n",
    "                V.append((xp,yp))\n",
    "    return V"
   ]
  },
  {
   "cell_type": "code",
   "execution_count": null,
   "metadata": {},
   "outputs": [],
   "source": [
    "def encontrar_camino(M):\n",
    "    n,m = len(M), len(M[0])\n",
    "    \n",
    "    caminotrivial = [(0,0)]\n",
    "    frontera = [caminotrivial]\n",
    "    explorados = {(0,0)}\n",
    "    \n",
    "    while frontera:\n",
    "        P = frontera.pop(0)\n",
    "        u = P[-1]\n",
    "        explorados.add(u)\n",
    "        \n",
    "        if es_objetivo(M,u): \n",
    "            return P\n",
    "        \n",
    "        expander_camino(M,P,frontera,explorados)\n",
    "        \n",
    "    print(\"No hay camino!\")\n",
    "    return None"
   ]
  },
  {
   "cell_type": "code",
   "execution_count": null,
   "metadata": {},
   "outputs": [],
   "source": [
    "def es_objetivo(M,u):\n",
    "    n,m = len(M), len(M[0])\n",
    "    return u == (n-1,m-1)"
   ]
  },
  {
   "cell_type": "code",
   "execution_count": null,
   "metadata": {},
   "outputs": [],
   "source": [
    "def expander_camino(M,P,frontera,explorados):\n",
    "    u = P[-1]\n",
    "    for v in vecinos(M,*u):\n",
    "        if v not in explorados:\n",
    "            Q = deepcopy(P)\n",
    "            Q.append(v)\n",
    "            frontera.append(Q)"
   ]
  },
  {
   "cell_type": "code",
   "execution_count": null,
   "metadata": {},
   "outputs": [],
   "source": [
    "M=crear_laberinto(10,10,0.25); M"
   ]
  },
  {
   "cell_type": "code",
   "execution_count": null,
   "metadata": {},
   "outputs": [],
   "source": [
    "camino=encontrar_camino(M); camino"
   ]
  },
  {
   "cell_type": "code",
   "execution_count": null,
   "metadata": {},
   "outputs": [],
   "source": [
    "def imprimir_camino(M,camino):\n",
    "    A = deepcopy(M)\n",
    "    for x,y in camino:\n",
    "        A[x][y] = 8\n",
    "    return A"
   ]
  },
  {
   "cell_type": "code",
   "execution_count": null,
   "metadata": {},
   "outputs": [],
   "source": [
    "imprimir_camino(M,camino)"
   ]
  },
  {
   "cell_type": "code",
   "execution_count": null,
   "metadata": {},
   "outputs": [],
   "source": [
    "L = [1,2,3,4,5]"
   ]
  },
  {
   "cell_type": "code",
   "execution_count": null,
   "metadata": {},
   "outputs": [],
   "source": [
    "L.pop(2)"
   ]
  },
  {
   "cell_type": "code",
   "execution_count": null,
   "metadata": {},
   "outputs": [],
   "source": [
    "L"
   ]
  },
  {
   "cell_type": "markdown",
   "metadata": {},
   "source": [
    "## BFS y deque\n",
    "\n",
    "En el programa anterior, si cambiamos `P = frontera.pop()` por `P = frontera.pop(0)` estaremos haciendo BFS (breadth-first search) en vez de DFS.\n",
    "\n",
    "PERO hay un problema: pop(0) es extremadamente lento: saca el 0-avo recorriendo todos los demás un espacio en memoria a la izquierda.\n",
    "\n",
    "Entonces debemos usar otra estructura de datos: `deque` (double ended queue)."
   ]
  },
  {
   "cell_type": "code",
   "execution_count": null,
   "metadata": {},
   "outputs": [],
   "source": [
    "from collections import deque"
   ]
  },
  {
   "cell_type": "code",
   "execution_count": null,
   "metadata": {},
   "outputs": [],
   "source": [
    "D = deque()"
   ]
  },
  {
   "cell_type": "code",
   "execution_count": null,
   "metadata": {},
   "outputs": [],
   "source": [
    "D.append(8)"
   ]
  },
  {
   "cell_type": "code",
   "execution_count": null,
   "metadata": {},
   "outputs": [],
   "source": [
    "D.appendleft(7)"
   ]
  },
  {
   "cell_type": "code",
   "execution_count": null,
   "metadata": {},
   "outputs": [],
   "source": [
    "D"
   ]
  },
  {
   "cell_type": "code",
   "execution_count": null,
   "metadata": {},
   "outputs": [],
   "source": [
    "D.pop()"
   ]
  },
  {
   "cell_type": "code",
   "execution_count": null,
   "metadata": {},
   "outputs": [],
   "source": [
    "D"
   ]
  },
  {
   "cell_type": "code",
   "execution_count": null,
   "metadata": {},
   "outputs": [],
   "source": [
    "D.popleft()"
   ]
  },
  {
   "cell_type": "code",
   "execution_count": null,
   "metadata": {},
   "outputs": [],
   "source": [
    "D"
   ]
  },
  {
   "cell_type": "code",
   "execution_count": null,
   "metadata": {},
   "outputs": [],
   "source": [
    "def encontrar_caminoBFS(M):\n",
    "    n,m = len(M), len(M[0])\n",
    "    \n",
    "    caminotrivial = [(0,0)]\n",
    "    frontera = deque([caminotrivial])\n",
    "    explorados = {(0,0)}\n",
    "    \n",
    "    while frontera:\n",
    "        P = frontera.popleft()\n",
    "        u = P[-1]\n",
    "        explorados.add(u)\n",
    "        \n",
    "        if es_objetivo(M,u): \n",
    "            return P\n",
    "        \n",
    "        expander_camino(M,P,frontera,explorados)\n",
    "        \n",
    "    print(\"No hay camino!\")\n",
    "    return None"
   ]
  },
  {
   "cell_type": "code",
   "execution_count": null,
   "metadata": {},
   "outputs": [],
   "source": [
    "M"
   ]
  },
  {
   "cell_type": "code",
   "execution_count": null,
   "metadata": {},
   "outputs": [],
   "source": [
    "camino = encontrar_caminoBFS(M)"
   ]
  },
  {
   "cell_type": "code",
   "execution_count": null,
   "metadata": {},
   "outputs": [],
   "source": [
    "imprimir_camino(M,camino)"
   ]
  },
  {
   "cell_type": "markdown",
   "metadata": {},
   "source": [
    "## DFS, recursión, y la callstack (pila de llamadas)\n",
    "\n",
    "Hay otra manera de programar DFS que a veces es más sencilla: con recursión.\n",
    "\n",
    "Digamos que tenemos, por ejemplo, un árbol con raíz, y para cada nodo quisiéramos saber cuántos nodos hay \"debajo\" de él."
   ]
  },
  {
   "cell_type": "code",
   "execution_count": null,
   "metadata": {},
   "outputs": [],
   "source": [
    "graphs.RandomTree(14)"
   ]
  },
  {
   "cell_type": "code",
   "execution_count": null,
   "metadata": {},
   "outputs": [],
   "source": [
    "def crear_arbol_aleatorio(n):\n",
    "    hijos = [[] for i in range(n)]\n",
    "    for i in range(1,n):\n",
    "        padre = random.randint(0,i-1)\n",
    "        hijos[padre].append(i)\n",
    "    return hijos"
   ]
  },
  {
   "cell_type": "code",
   "execution_count": null,
   "metadata": {},
   "outputs": [],
   "source": [
    "arbol = crear_arbol_aleatorio(18); arbol"
   ]
  },
  {
   "cell_type": "code",
   "execution_count": null,
   "metadata": {},
   "outputs": [],
   "source": [
    "def arbol2sage(arbol):\n",
    "    n = len(arbol)\n",
    "    G = Graph(n)\n",
    "    for u in range(n):\n",
    "        for v in arbol[u]:\n",
    "            G.add_edge(u,v)\n",
    "    return G"
   ]
  },
  {
   "cell_type": "code",
   "execution_count": null,
   "metadata": {},
   "outputs": [],
   "source": [
    "arbol2sage(arbol)"
   ]
  },
  {
   "cell_type": "code",
   "execution_count": null,
   "metadata": {},
   "outputs": [],
   "source": [
    "def factorial(n):\n",
    "    if n < 2: return 1\n",
    "    return n*factorial(n-1)"
   ]
  },
  {
   "cell_type": "code",
   "execution_count": null,
   "metadata": {},
   "outputs": [],
   "source": [
    "factorial(10000)"
   ]
  },
  {
   "cell_type": "code",
   "execution_count": null,
   "metadata": {},
   "outputs": [],
   "source": [
    "r = 1\n",
    "for i in range(1,10000):\n",
    "    r *= i\n",
    "r"
   ]
  },
  {
   "cell_type": "code",
   "execution_count": null,
   "metadata": {},
   "outputs": [],
   "source": [
    "def cuantos_nodos_debajo(T, v):\n",
    "    respuesta = 0\n",
    "    for u in T[v]:\n",
    "        respuesta += cuantos_nodos_debajo(T,u)+1\n",
    "    return respuesta"
   ]
  },
  {
   "cell_type": "code",
   "execution_count": null,
   "metadata": {},
   "outputs": [],
   "source": [
    "cuantos_nodos_debajo(arbol,2)"
   ]
  },
  {
   "cell_type": "markdown",
   "metadata": {},
   "source": [
    "Al llamar \"cuantos_nodos_debajo\" estamos en realidad usando la \"pila de llamadas\" (callstack) como la frontera!"
   ]
  },
  {
   "cell_type": "markdown",
   "metadata": {},
   "source": [
    "## Ejercicios\n",
    "\n",
    "1. Dada una gráfica (una lista de $n$ listas de vecinos), decide si es conexa o no.\n",
    "2. Modifica el programa anterior para encontrar las componentes conexas\n",
    "3. Bien-colorea una gráfica con $k$ colores si es posible."
   ]
  },
  {
   "cell_type": "code",
   "execution_count": 10,
   "metadata": {},
   "outputs": [],
   "source": [
    "def grafica_aleatoria(n,p = 0.5):\n",
    "    G = [[] for i in range(n)] # grafica vacia\n",
    "    for u in range(n):\n",
    "        for v in range(u+1,n):\n",
    "            if random.random() < p:\n",
    "                G[u].append(v)\n",
    "                G[v].append(u)\n",
    "    return G"
   ]
  },
  {
   "cell_type": "code",
   "execution_count": 11,
   "metadata": {},
   "outputs": [],
   "source": [
    "S = Graph(5)"
   ]
  },
  {
   "cell_type": "code",
   "execution_count": 12,
   "metadata": {},
   "outputs": [],
   "source": [
    "def to_sage(G):\n",
    "    n = len(G)\n",
    "    S = Graph(n)\n",
    "    for u in range(n):\n",
    "        for v in G[u]:\n",
    "            if u < v:\n",
    "                S.add_edge((u,v))\n",
    "    return S"
   ]
  },
  {
   "cell_type": "code",
   "execution_count": 13,
   "metadata": {},
   "outputs": [
    {
     "data": {
      "image/png": "[encoded data removed]",
      "text/plain": [
       "Graph on 8 vertices"
      ]
     },
     "execution_count": 13,
     "metadata": {},
     "output_type": "execute_result"
    }
   ],
   "source": [
    "to_sage(grafica_aleatoria(8,0.5))"
   ]
  },
  {
   "cell_type": "markdown",
   "metadata": {},
   "source": [
    "### Bonus: encontrar el error :("
   ]
  },
  {
   "cell_type": "code",
   "execution_count": null,
   "metadata": {},
   "outputs": [],
   "source": [
    "G=[[0,1,0,1,1,0,0,0],[1,0,1,0,0,1,0,0],[0,1,0,1,0,0,1,0],[1,0,1,0,0,0,0,1],[1,0,0,0,0,1,0,1],[0,1,0,0,1,0,1,0],[0,0,1,0,0,1,0,1],[0,0,0,1,1,0,1,0]]"
   ]
  },
  {
   "cell_type": "code",
   "execution_count": null,
   "metadata": {},
   "outputs": [],
   "source": [
    "Graph(Matrix(G))"
   ]
  },
  {
   "cell_type": "code",
   "execution_count": null,
   "metadata": {},
   "outputs": [],
   "source": []
  },
  {
   "cell_type": "code",
   "execution_count": null,
   "metadata": {},
   "outputs": [],
   "source": []
  },
  {
   "cell_type": "markdown",
   "metadata": {},
   "source": [
    "## Soluciones\n",
    "\n",
    "#### Decidir si una gráfica es conexa."
   ]
  },
  {
   "cell_type": "code",
   "execution_count": null,
   "metadata": {},
   "outputs": [],
   "source": [
    "G"
   ]
  },
  {
   "cell_type": "code",
   "execution_count": null,
   "metadata": {},
   "outputs": [],
   "source": [
    "def es_conexa(G):\n",
    "    n = len(G)\n",
    "    if n < 2: return True\n",
    "    \n",
    "    explorados = [False]*n\n",
    "    dfs_marcar_conectados(G,0,explorados)\n",
    "    return False not in explorados\n",
    "    "
   ]
  },
  {
   "cell_type": "code",
   "execution_count": null,
   "metadata": {},
   "outputs": [],
   "source": [
    "def dfs_marcar_conectados(G,v,explorados):\n",
    "    explorados[v] = True\n",
    "    for u in G[v]:\n",
    "        if not explorados[u]:\n",
    "            dfs_marcar_conectados(G,u,explorados)"
   ]
  },
  {
   "cell_type": "code",
   "execution_count": null,
   "metadata": {},
   "outputs": [],
   "source": [
    "G = grafica_aleatoria(10,0.2); to_sage(G)"
   ]
  },
  {
   "cell_type": "code",
   "execution_count": null,
   "metadata": {},
   "outputs": [],
   "source": [
    "es_conexa(G)"
   ]
  },
  {
   "cell_type": "markdown",
   "metadata": {},
   "source": [
    "Solucion de componentes conexas"
   ]
  },
  {
   "cell_type": "code",
   "execution_count": null,
   "metadata": {},
   "outputs": [],
   "source": [
    "def componentes_conexas(G):\n",
    "    n = len(G)\n",
    "    if n < 2: return True\n",
    "    \n",
    "    colores = [-1]*n\n",
    "    color = 0\n",
    "    for v in range(n):\n",
    "        if colores[v] == -1:\n",
    "            dfs_colorear(G,v,colores,color)\n",
    "            color += 1\n",
    "    \n",
    "    return colores\n",
    "\n",
    "def dfs_colorear(G,v,colores,color):\n",
    "    colores[v] = color\n",
    "    for u in G[v]:\n",
    "        if colores[u] == -1:\n",
    "            dfs_colorear(G,u,colores,color)"
   ]
  },
  {
   "cell_type": "code",
   "execution_count": null,
   "metadata": {},
   "outputs": [],
   "source": [
    "componentes_conexas(G)"
   ]
  },
  {
   "cell_type": "markdown",
   "metadata": {},
   "source": [
    "\"Solucion\" de bien-coloreada"
   ]
  },
  {
   "cell_type": "code",
   "execution_count": null,
   "metadata": {},
   "outputs": [],
   "source": [
    "[0,4,2,1]"
   ]
  },
  {
   "cell_type": "code",
   "execution_count": 1,
   "metadata": {},
   "outputs": [],
   "source": [
    "def condicion():\n",
    "    print(\"Hola mundo!\")\n",
    "    return True"
   ]
  },
  {
   "cell_type": "code",
   "execution_count": null,
   "metadata": {},
   "outputs": [],
   "source": [
    "False and (cualquier cosa)"
   ]
  },
  {
   "cell_type": "code",
   "execution_count": 2,
   "metadata": {},
   "outputs": [
    {
     "data": {
      "text/plain": [
       "False"
      ]
     },
     "execution_count": 2,
     "metadata": {},
     "output_type": "execute_result"
    }
   ],
   "source": [
    "False and condicion()"
   ]
  },
  {
   "cell_type": "code",
   "execution_count": 3,
   "metadata": {},
   "outputs": [
    {
     "data": {
      "text/plain": [
       "True"
      ]
     },
     "execution_count": 3,
     "metadata": {},
     "output_type": "execute_result"
    }
   ],
   "source": [
    "True or condicion()"
   ]
  },
  {
   "cell_type": "code",
   "execution_count": 4,
   "metadata": {},
   "outputs": [
    {
     "name": "stdout",
     "output_type": "stream",
     "text": [
      "Hola mundo!\n"
     ]
    },
    {
     "data": {
      "text/plain": [
       "False"
      ]
     },
     "execution_count": 4,
     "metadata": {},
     "output_type": "execute_result"
    }
   ],
   "source": [
    "condicion() and False"
   ]
  },
  {
   "cell_type": "code",
   "execution_count": 5,
   "metadata": {},
   "outputs": [],
   "source": [
    "def es_valida(G,coloracion):\n",
    "    u = len(coloracion)-1\n",
    "    for v in G[u]:\n",
    "        if v < u and coloracion[u] == coloracion[v]:\n",
    "            return False\n",
    "    return True"
   ]
  },
  {
   "cell_type": "code",
   "execution_count": 6,
   "metadata": {},
   "outputs": [],
   "source": [
    "def vecinos(G,coloracion,k):\n",
    "    V = []\n",
    "    for color in range(k):\n",
    "        nueva = coloracion+[color]\n",
    "        if es_valida(G,nueva):\n",
    "            V.append(nueva)\n",
    "    return V"
   ]
  },
  {
   "cell_type": "code",
   "execution_count": 7,
   "metadata": {},
   "outputs": [],
   "source": [
    "def bien_colorear(G,k):\n",
    "    n = len(G)\n",
    "    frontera = [[0]]\n",
    "    while frontera:\n",
    "        coloracion = frontera.pop()\n",
    "        if len(coloracion) == n:\n",
    "            return coloracion\n",
    "        for c in vecinos(G,coloracion,k):\n",
    "            frontera.append(c)\n",
    "    print(\"No hay coloración!\")\n",
    "    return None"
   ]
  },
  {
   "cell_type": "code",
   "execution_count": 22,
   "metadata": {},
   "outputs": [],
   "source": [
    "G = grafica_aleatoria(6,0.4)"
   ]
  },
  {
   "cell_type": "code",
   "execution_count": 23,
   "metadata": {},
   "outputs": [
    {
     "data": {
      "image/png": "[encoded data removed]",
      "text/plain": [
       "Graph on 6 vertices"
      ]
     },
     "execution_count": 23,
     "metadata": {},
     "output_type": "execute_result"
    }
   ],
   "source": [
    "to_sage(G)"
   ]
  },
  {
   "cell_type": "code",
   "execution_count": 26,
   "metadata": {},
   "outputs": [
    {
     "data": {
      "text/plain": [
       "[0, 2, 2, 0, 1, 1]"
      ]
     },
     "execution_count": 26,
     "metadata": {},
     "output_type": "execute_result"
    }
   ],
   "source": [
    "bien_colorear(G,3)"
   ]
  },
  {
   "cell_type": "markdown",
   "metadata": {},
   "source": [
    "## Colas de prioridad\n",
    "\n",
    "Una **cola de prioridad** es una estructura de datos en donde \"sale\" el elemento de mayor prioridad (en vez de el primero como en las colas o el último, como en las pilas).\n",
    "\n",
    "Vamos a implementar Dijkstra con una cola de prioridad.\n",
    "\n",
    "Desafortunadamente, las priority queues son medio raras en python, porque esperan que tú sepas lo que haces. Entonces hice yo mi propia priority queue. No se preocupen mucho qué hace cada cosa, eso es python más avanzado, pero es simplemente un \"disfraz\" sobre una heapq."
   ]
  },
  {
   "cell_type": "code",
   "execution_count": 29,
   "metadata": {},
   "outputs": [],
   "source": [
    "import heapq\n",
    "\n",
    "class PriorityQueue():\n",
    "    def __init__(self, iterable = []):\n",
    "        self.items = list(iterable)\n",
    "        heapq.heapify(self.items)\n",
    "        \n",
    "    def insert(self, x): heapq.heappush(self.items, x)\n",
    "        \n",
    "    def pop(self): return heapq.heappop(self.items)\n",
    "    \n",
    "    def __len__(self): return len(self.items)\n",
    "    \n",
    "    def __iter__(self): return iter(self.items)\n",
    "    \n",
    "    def __repr__(self): return f\"PriorityQueue({repr(self.items)})\""
   ]
  },
  {
   "cell_type": "code",
   "execution_count": 45,
   "metadata": {},
   "outputs": [],
   "source": [
    "L = [4,1,5,2,3,7,10]\n",
    "P = PriorityQueue(L)"
   ]
  },
  {
   "cell_type": "code",
   "execution_count": 31,
   "metadata": {},
   "outputs": [
    {
     "data": {
      "text/plain": [
       "PriorityQueue([1, 2, 5, 4, 3, 7, 10])"
      ]
     },
     "execution_count": 31,
     "metadata": {},
     "output_type": "execute_result"
    }
   ],
   "source": [
    "P"
   ]
  },
  {
   "cell_type": "code",
   "execution_count": 32,
   "metadata": {},
   "outputs": [
    {
     "name": "stdout",
     "output_type": "stream",
     "text": [
      "1\n",
      "2\n",
      "5\n",
      "4\n",
      "3\n",
      "7\n",
      "10\n"
     ]
    }
   ],
   "source": [
    "for p in P:\n",
    "    print(p)"
   ]
  },
  {
   "cell_type": "code",
   "execution_count": 50,
   "metadata": {},
   "outputs": [],
   "source": [
    "P.insert(1)"
   ]
  },
  {
   "cell_type": "code",
   "execution_count": 51,
   "metadata": {},
   "outputs": [
    {
     "data": {
      "text/plain": [
       "PriorityQueue([-5, 1, 1, 2, 3, 5, 10, 4, 53, 5, 8, 7])"
      ]
     },
     "execution_count": 51,
     "metadata": {},
     "output_type": "execute_result"
    }
   ],
   "source": [
    "P"
   ]
  },
  {
   "cell_type": "code",
   "execution_count": 52,
   "metadata": {},
   "outputs": [
    {
     "name": "stdout",
     "output_type": "stream",
     "text": [
      "-5\n",
      "1\n",
      "1\n",
      "2\n",
      "3\n",
      "4\n",
      "5\n",
      "5\n",
      "7\n",
      "8\n",
      "10\n",
      "53\n"
     ]
    }
   ],
   "source": [
    "while len(P) > 0:\n",
    "    print(P.pop())"
   ]
  },
  {
   "cell_type": "code",
   "execution_count": 44,
   "metadata": {},
   "outputs": [
    {
     "data": {
      "text/plain": [
       "PriorityQueue([5, 9, 7, 10, 55])"
      ]
     },
     "execution_count": 44,
     "metadata": {},
     "output_type": "execute_result"
    }
   ],
   "source": [
    "P"
   ]
  },
  {
   "cell_type": "markdown",
   "metadata": {},
   "source": [
    "### Dijkstra\n",
    "\n",
    "El algoritmo de Dijkstra es simplemente el algoritmo que ya hemos estado viendo, pero que en lugar de escoger siempre el último o el primer camino de la frontera, escogemos el más pequeño.\n",
    "\n",
    "Entonces debemos darle el \"costo\" a cada camino."
   ]
  },
  {
   "cell_type": "code",
   "execution_count": 56,
   "metadata": {},
   "outputs": [
    {
     "data": {
      "text/plain": [
       "[[0, 0, 0, 0, 0, 1, 0, 0, 0, 1],\n",
       " [0, 0, 1, 0, 1, 1, 0, 0, 0, 0],\n",
       " [0, 0, 0, 0, 0, 0, 0, 1, 0, 1],\n",
       " [0, 0, 0, 0, 0, 0, 0, 1, 0, 0],\n",
       " [1, 0, 0, 1, 1, 0, 0, 0, 0, 0],\n",
       " [1, 0, 1, 0, 0, 0, 0, 1, 0, 0],\n",
       " [0, 0, 0, 0, 0, 1, 1, 1, 1, 0],\n",
       " [0, 0, 0, 1, 0, 0, 1, 0, 1, 0],\n",
       " [0, 0, 0, 0, 0, 1, 1, 0, 0, 0],\n",
       " [1, 0, 0, 0, 0, 0, 0, 1, 1, 0]]"
      ]
     },
     "execution_count": 56,
     "metadata": {},
     "output_type": "execute_result"
    }
   ],
   "source": [
    "M = crear_laberinto(10,10); M"
   ]
  },
  {
   "cell_type": "code",
   "execution_count": 57,
   "metadata": {},
   "outputs": [],
   "source": [
    "def vecinos(M,x,y):\n",
    "    n,m = len(M), len(M[0])\n",
    "    candidatos = [(x-1,y), (x+1,y), (x,y-1), (x,y+1)]\n",
    "    V = []\n",
    "    for xp,yp in candidatos:\n",
    "        if not (xp < 0 or yp < 0 or xp>=n or yp >= m):\n",
    "            if M[xp][yp] == 0:\n",
    "                V.append((xp,yp))\n",
    "    return V"
   ]
  },
  {
   "cell_type": "code",
   "execution_count": 63,
   "metadata": {},
   "outputs": [],
   "source": [
    "def encontrar_camino_dijkstra(M):\n",
    "    n,m = len(M), len(M[0])\n",
    "    \n",
    "    caminotrivial = (0,[(0,0)]) # (costo, camino como lista de nodos)\n",
    "    frontera = PriorityQueue([caminotrivial])\n",
    "    explorados = set()\n",
    "    \n",
    "    while frontera:\n",
    "        costo, camino = frontera.pop()\n",
    "        u = camino[-1]\n",
    "        if u in explorados:\n",
    "            continue\n",
    "        explorados.add(u)\n",
    "        \n",
    "        if es_objetivo(M,u): \n",
    "            return camino\n",
    "        \n",
    "        expander_camino(M,camino,frontera,explorados)\n",
    "        \n",
    "    print(\"No hay camino!\")\n",
    "    return None"
   ]
  },
  {
   "cell_type": "code",
   "execution_count": 64,
   "metadata": {},
   "outputs": [],
   "source": [
    "def es_objetivo(M,u):\n",
    "    n,m = len(M), len(M[0])\n",
    "    return u == (n-1,m-1)"
   ]
  },
  {
   "cell_type": "code",
   "execution_count": 65,
   "metadata": {},
   "outputs": [],
   "source": [
    "def expander_camino(M,camino,frontera,explorados):\n",
    "    u = camino[-1]\n",
    "    for v in vecinos(M,*u):\n",
    "        if v not in explorados:\n",
    "            nuevo = deepcopy(camino)\n",
    "            nuevo.append(v)\n",
    "            costo_nuevo = len(nuevo)-1\n",
    "            frontera.insert((costo_nuevo, nuevo))"
   ]
  },
  {
   "cell_type": "code",
   "execution_count": 73,
   "metadata": {},
   "outputs": [],
   "source": [
    "M = crear_laberinto(50,50,0.2)"
   ]
  },
  {
   "cell_type": "code",
   "execution_count": 74,
   "metadata": {},
   "outputs": [
    {
     "name": "stdout",
     "output_type": "stream",
     "text": [
      "3.25 s ± 96 ms per loop (mean ± std. dev. of 7 runs, 1 loop each)\n"
     ]
    }
   ],
   "source": [
    "%%timeit\n",
    "encontrar_camino_dijkstra(M)"
   ]
  },
  {
   "cell_type": "markdown",
   "metadata": {},
   "source": [
    "## Una mejora para no hacer copias\n",
    "\n",
    "- Un problema con el algoritmo de búsqueda como lo vimos hasta ahora es que **hacemos muchas copias de los caminos**. \n",
    "- Podemos hacerlo mejor: A cada nodo le guardamos su costo y su \"padre\", y al final *reconstruimos* el camino. \n",
    "- Veamos cómo implementarlo."
   ]
  },
  {
   "cell_type": "code",
   "execution_count": 68,
   "metadata": {},
   "outputs": [],
   "source": [
    "INF = 999999999999999999\n",
    "def encontrar_camino_dijkstra_mejorado(M):\n",
    "    n,m = len(M), len(M[0])\n",
    "    \n",
    "    caminotrivial = (0,(0,0)) # (costo, ultimo nodo)\n",
    "    frontera = PriorityQueue([caminotrivial])\n",
    "    \n",
    "    explorados = set()\n",
    "    costos = {(0,0): 0}\n",
    "    padres = {(0,0): None}\n",
    "    \n",
    "    while frontera:\n",
    "        costo, u = frontera.pop()\n",
    "        \n",
    "        if es_objetivo(M,u): \n",
    "            return reconstruir_camino(u,padres)\n",
    "               \n",
    "        if u in explorados: \n",
    "            continue\n",
    "        explorados.add(u)\n",
    "        \n",
    "        costos[u] = costo\n",
    "        \n",
    "        for v in vecinos(M,*u):\n",
    "            costo_anterior = costos.setdefault(v,INF)\n",
    "            # costo_anterior = costos[v] (a menos que no exista v en las llaves de costos, y entonces es INF)\n",
    "            \n",
    "            costo_actual = costo+1\n",
    "            \n",
    "            if costo_actual < costo_anterior:\n",
    "                costos[v] = costo_actual\n",
    "                padres[v] = u\n",
    "                frontera.insert((costo_actual,v))\n",
    "                \n",
    "        \n",
    "    print(\"No hay camino!\")\n",
    "    return None"
   ]
  },
  {
   "cell_type": "code",
   "execution_count": 69,
   "metadata": {},
   "outputs": [],
   "source": [
    "def reconstruir_camino(nodo, padres):\n",
    "    camino = [nodo]\n",
    "    while padres[nodo] is not None:\n",
    "        nodo = padres[nodo]\n",
    "        camino.append(nodo)\n",
    "    return list(reversed(camino))"
   ]
  },
  {
   "cell_type": "code",
   "execution_count": 75,
   "metadata": {},
   "outputs": [
    {
     "name": "stdout",
     "output_type": "stream",
     "text": [
      "22.3 ms ± 2.49 ms per loop (mean ± std. dev. of 7 runs, 10 loops each)\n"
     ]
    }
   ],
   "source": [
    "%%timeit\n",
    "encontrar_camino_dijkstra_mejorado(M)"
   ]
  },
  {
   "cell_type": "code",
   "execution_count": null,
   "metadata": {},
   "outputs": [],
   "source": [
    "A = {1:2}"
   ]
  },
  {
   "cell_type": "code",
   "execution_count": null,
   "metadata": {},
   "outputs": [],
   "source": [
    "A.setdefault(4,3)"
   ]
  },
  {
   "cell_type": "code",
   "execution_count": null,
   "metadata": {},
   "outputs": [],
   "source": [
    "A"
   ]
  },
  {
   "cell_type": "markdown",
   "metadata": {},
   "source": [
    "## A*"
   ]
  },
  {
   "cell_type": "markdown",
   "metadata": {},
   "source": [
    "Ejercicios: \n",
    "\n",
    "1. Modifica el código anterior para hacer A* en vez de Dijkstra\n",
    "2. Resuelve el juego del 15!! (usa tuplas para poder hashiar)\n",
    "3. Si tienes dos caminos cuyo costo+heurística es igual, ¿cuál exploras primero?"
   ]
  },
  {
   "cell_type": "markdown",
   "metadata": {},
   "source": [
    "### Solución del problema 3"
   ]
  },
  {
   "cell_type": "code",
   "execution_count": 109,
   "metadata": {},
   "outputs": [],
   "source": [
    "M = (\n",
    "    (12,5,11,2),\n",
    "    (1,6,15,4),\n",
    "    (10,3,13,8),\n",
    "    (9,16,14,7),\n",
    ")"
   ]
  },
  {
   "cell_type": "code",
   "execution_count": 68,
   "metadata": {},
   "outputs": [],
   "source": [
    "M = (\n",
    "    (1,2,3,4),\n",
    "    (5,6,7,8),\n",
    "    (9,10,11,12),\n",
    "    (13,14,15,16),\n",
    ")"
   ]
  },
  {
   "cell_type": "code",
   "execution_count": 128,
   "metadata": {},
   "outputs": [],
   "source": [
    "def imprimir_matriz(M):\n",
    "    for renglon in M:\n",
    "        for a in renglon:\n",
    "            if a == 16:\n",
    "                a = '*'\n",
    "            print(a,end=\"\\t\")\n",
    "        print(\"\")"
   ]
  },
  {
   "cell_type": "code",
   "execution_count": 111,
   "metadata": {},
   "outputs": [],
   "source": [
    "def vecinos(M):\n",
    "    pass # llena aquí"
   ]
  },
  {
   "cell_type": "code",
   "execution_count": 114,
   "metadata": {},
   "outputs": [],
   "source": [
    "def mover_ficha(M,xp,yp,x,y):\n",
    "    Q = to_list(M)\n",
    "    Q[xp][yp],Q[x][y] = Q[x][y],Q[xp][yp]\n",
    "    return tuple([tuple(q) for q in Q]) # qué horror!"
   ]
  },
  {
   "cell_type": "code",
   "execution_count": 129,
   "metadata": {},
   "outputs": [
    {
     "name": "stdout",
     "output_type": "stream",
     "text": [
      "12\t5\t11\t2\t\n",
      "1\t6\t15\t4\t\n",
      "10\t3\t13\t8\t\n",
      "9\t*\t14\t7\t\n"
     ]
    }
   ],
   "source": [
    "imprimir_matriz(M)"
   ]
  },
  {
   "cell_type": "code",
   "execution_count": 130,
   "metadata": {},
   "outputs": [
    {
     "name": "stdout",
     "output_type": "stream",
     "text": [
      "12\t5\t11\t2\t\n",
      "1\t6\t15\t4\t\n",
      "10\t*\t13\t8\t\n",
      "9\t3\t14\t7\t\n"
     ]
    }
   ],
   "source": [
    "imprimir_matriz(vecinos(M)[0])"
   ]
  },
  {
   "cell_type": "code",
   "execution_count": 131,
   "metadata": {},
   "outputs": [],
   "source": [
    "def heuristica(M):\n",
    "    pass\n",
    "    # llena aqui"
   ]
  },
  {
   "cell_type": "code",
   "execution_count": 132,
   "metadata": {},
   "outputs": [],
   "source": [
    "heuristica(M)"
   ]
  },
  {
   "cell_type": "code",
   "execution_count": 135,
   "metadata": {},
   "outputs": [],
   "source": [
    "def reconstruir_camino(nodo, padres):\n",
    "    camino = [nodo]\n",
    "    while padres[nodo] is not None:\n",
    "        nodo = padres[nodo]\n",
    "        camino.append(nodo)\n",
    "    return list(reversed(camino))"
   ]
  },
  {
   "cell_type": "code",
   "execution_count": 136,
   "metadata": {},
   "outputs": [],
   "source": [
    "def es_objetivo(M):\n",
    "    return heuristica(M) == 0"
   ]
  },
  {
   "cell_type": "markdown",
   "metadata": {},
   "source": [
    "Modifica el siguiente código en las lineas marcadas"
   ]
  },
  {
   "cell_type": "code",
   "execution_count": 137,
   "metadata": {},
   "outputs": [],
   "source": [
    "INF = 999999999999999999\n",
    "def resolver_15(M):\n",
    "    n,m = len(M), len(M[0])\n",
    "    \n",
    "    caminotrivial = (0,(0,0)) # MODIFICA ESTA!\n",
    "    frontera = PriorityQueue([caminotrivial])\n",
    "    \n",
    "    explorados = set()\n",
    "    costos = {(0,0): 0} # MODIFICA ESTA!\n",
    "    padres = {(0,0): None} # MODIFICA ESTA!\n",
    "    \n",
    "    while frontera:\n",
    "        costo, u = frontera.pop() # MODIFICA ESTA!\n",
    "        \n",
    "        if es_objetivo(M,u): \n",
    "            return reconstruir_camino(u,padres)\n",
    "               \n",
    "        if u in explorados: \n",
    "            continue\n",
    "        explorados.add(u)\n",
    "        \n",
    "        costos[u] = costo\n",
    "        \n",
    "        for v in vecinos(M,*u):\n",
    "            costo_anterior = costos.setdefault(v,INF) \n",
    "            # costo_anterior = costos[v] (a menos que no exista v en las llaves de costos, y entonces es INF)\n",
    "            \n",
    "            costo_actual = costo+1\n",
    "            \n",
    "            if costo_actual < costo_anterior:\n",
    "                costos[v] = costo_actual\n",
    "                padres[v] = u\n",
    "                frontera.insert((costo_actual,v)) # MODIFICA ESTA!\n",
    "                \n",
    "        \n",
    "    print(\"No hay camino!\")\n",
    "    return None"
   ]
  },
  {
   "cell_type": "code",
   "execution_count": 138,
   "metadata": {},
   "outputs": [
    {
     "ename": "TypeError",
     "evalue": "es_objetivo() takes 1 positional argument but 2 were given",
     "output_type": "error",
     "traceback": [
      "\u001b[0;31m---------------------------------------------------------------------------\u001b[0m",
      "\u001b[0;31mTypeError\u001b[0m                                 Traceback (most recent call last)",
      "\u001b[0;32m<ipython-input-138-7197c0168420>\u001b[0m in \u001b[0;36m<module>\u001b[0;34m\u001b[0m\n\u001b[0;32m----> 1\u001b[0;31m \u001b[0mcamino\u001b[0m \u001b[0;34m=\u001b[0m \u001b[0mresolver_15\u001b[0m\u001b[0;34m(\u001b[0m\u001b[0mM\u001b[0m\u001b[0;34m)\u001b[0m\u001b[0;34m\u001b[0m\u001b[0;34m\u001b[0m\u001b[0m\n\u001b[0m",
      "\u001b[0;32m<ipython-input-137-55b2abd1073e>\u001b[0m in \u001b[0;36mresolver_15\u001b[0;34m(M)\u001b[0m\n\u001b[1;32m     13\u001b[0m         \u001b[0mcosto\u001b[0m\u001b[0;34m,\u001b[0m \u001b[0mu\u001b[0m \u001b[0;34m=\u001b[0m \u001b[0mfrontera\u001b[0m\u001b[0;34m.\u001b[0m\u001b[0mpop\u001b[0m\u001b[0;34m(\u001b[0m\u001b[0;34m)\u001b[0m \u001b[0;31m# MODIFICA ESTA!\u001b[0m\u001b[0;34m\u001b[0m\u001b[0;34m\u001b[0m\u001b[0m\n\u001b[1;32m     14\u001b[0m \u001b[0;34m\u001b[0m\u001b[0m\n\u001b[0;32m---> 15\u001b[0;31m         \u001b[0;32mif\u001b[0m \u001b[0mes_objetivo\u001b[0m\u001b[0;34m(\u001b[0m\u001b[0mM\u001b[0m\u001b[0;34m,\u001b[0m\u001b[0mu\u001b[0m\u001b[0;34m)\u001b[0m\u001b[0;34m:\u001b[0m\u001b[0;34m\u001b[0m\u001b[0;34m\u001b[0m\u001b[0m\n\u001b[0m\u001b[1;32m     16\u001b[0m             \u001b[0;32mreturn\u001b[0m \u001b[0mreconstruir_camino\u001b[0m\u001b[0;34m(\u001b[0m\u001b[0mu\u001b[0m\u001b[0;34m,\u001b[0m\u001b[0mpadres\u001b[0m\u001b[0;34m)\u001b[0m\u001b[0;34m\u001b[0m\u001b[0;34m\u001b[0m\u001b[0m\n\u001b[1;32m     17\u001b[0m \u001b[0;34m\u001b[0m\u001b[0m\n",
      "\u001b[0;31mTypeError\u001b[0m: es_objetivo() takes 1 positional argument but 2 were given"
     ]
    }
   ],
   "source": [
    "camino = resolver_15(M)"
   ]
  },
  {
   "cell_type": "code",
   "execution_count": 139,
   "metadata": {},
   "outputs": [
    {
     "name": "stdout",
     "output_type": "stream",
     "text": [
      "12\t5\t11\t2\t\n",
      "1\t6\t15\t4\t\n",
      "10\t3\t13\t8\t\n",
      "9\t*\t14\t7\t\n",
      "-----------\n",
      "12\t5\t11\t2\t\n",
      "1\t6\t15\t4\t\n",
      "10\t3\t13\t8\t\n",
      "9\t14\t*\t7\t\n",
      "-----------\n",
      "12\t5\t11\t2\t\n",
      "1\t6\t15\t4\t\n",
      "10\t3\t*\t8\t\n",
      "9\t14\t13\t7\t\n",
      "-----------\n",
      "12\t5\t11\t2\t\n",
      "1\t6\t*\t4\t\n",
      "10\t3\t15\t8\t\n",
      "9\t14\t13\t7\t\n",
      "-----------\n",
      "12\t5\t11\t2\t\n",
      "1\t*\t6\t4\t\n",
      "10\t3\t15\t8\t\n",
      "9\t14\t13\t7\t\n",
      "-----------\n",
      "12\t*\t11\t2\t\n",
      "1\t5\t6\t4\t\n",
      "10\t3\t15\t8\t\n",
      "9\t14\t13\t7\t\n",
      "-----------\n",
      "*\t12\t11\t2\t\n",
      "1\t5\t6\t4\t\n",
      "10\t3\t15\t8\t\n",
      "9\t14\t13\t7\t\n",
      "-----------\n",
      "1\t12\t11\t2\t\n",
      "*\t5\t6\t4\t\n",
      "10\t3\t15\t8\t\n",
      "9\t14\t13\t7\t\n",
      "-----------\n",
      "1\t12\t11\t2\t\n",
      "5\t*\t6\t4\t\n",
      "10\t3\t15\t8\t\n",
      "9\t14\t13\t7\t\n",
      "-----------\n",
      "1\t*\t11\t2\t\n",
      "5\t12\t6\t4\t\n",
      "10\t3\t15\t8\t\n",
      "9\t14\t13\t7\t\n",
      "-----------\n",
      "1\t11\t*\t2\t\n",
      "5\t12\t6\t4\t\n",
      "10\t3\t15\t8\t\n",
      "9\t14\t13\t7\t\n",
      "-----------\n",
      "1\t11\t2\t*\t\n",
      "5\t12\t6\t4\t\n",
      "10\t3\t15\t8\t\n",
      "9\t14\t13\t7\t\n",
      "-----------\n",
      "1\t11\t2\t4\t\n",
      "5\t12\t6\t*\t\n",
      "10\t3\t15\t8\t\n",
      "9\t14\t13\t7\t\n",
      "-----------\n",
      "1\t11\t2\t4\t\n",
      "5\t12\t6\t8\t\n",
      "10\t3\t15\t*\t\n",
      "9\t14\t13\t7\t\n",
      "-----------\n",
      "1\t11\t2\t4\t\n",
      "5\t12\t6\t8\t\n",
      "10\t3\t*\t15\t\n",
      "9\t14\t13\t7\t\n",
      "-----------\n",
      "1\t11\t2\t4\t\n",
      "5\t12\t6\t8\t\n",
      "10\t3\t13\t15\t\n",
      "9\t14\t*\t7\t\n",
      "-----------\n",
      "1\t11\t2\t4\t\n",
      "5\t12\t6\t8\t\n",
      "10\t3\t13\t15\t\n",
      "9\t14\t7\t*\t\n",
      "-----------\n",
      "1\t11\t2\t4\t\n",
      "5\t12\t6\t8\t\n",
      "10\t3\t13\t*\t\n",
      "9\t14\t7\t15\t\n",
      "-----------\n",
      "1\t11\t2\t4\t\n",
      "5\t12\t6\t*\t\n",
      "10\t3\t13\t8\t\n",
      "9\t14\t7\t15\t\n",
      "-----------\n",
      "1\t11\t2\t4\t\n",
      "5\t12\t*\t6\t\n",
      "10\t3\t13\t8\t\n",
      "9\t14\t7\t15\t\n",
      "-----------\n",
      "1\t11\t2\t4\t\n",
      "5\t*\t12\t6\t\n",
      "10\t3\t13\t8\t\n",
      "9\t14\t7\t15\t\n",
      "-----------\n",
      "1\t11\t2\t4\t\n",
      "5\t3\t12\t6\t\n",
      "10\t*\t13\t8\t\n",
      "9\t14\t7\t15\t\n",
      "-----------\n",
      "1\t11\t2\t4\t\n",
      "5\t3\t12\t6\t\n",
      "10\t13\t*\t8\t\n",
      "9\t14\t7\t15\t\n",
      "-----------\n",
      "1\t11\t2\t4\t\n",
      "5\t3\t*\t6\t\n",
      "10\t13\t12\t8\t\n",
      "9\t14\t7\t15\t\n",
      "-----------\n",
      "1\t11\t2\t4\t\n",
      "5\t*\t3\t6\t\n",
      "10\t13\t12\t8\t\n",
      "9\t14\t7\t15\t\n",
      "-----------\n",
      "1\t*\t2\t4\t\n",
      "5\t11\t3\t6\t\n",
      "10\t13\t12\t8\t\n",
      "9\t14\t7\t15\t\n",
      "-----------\n",
      "1\t2\t*\t4\t\n",
      "5\t11\t3\t6\t\n",
      "10\t13\t12\t8\t\n",
      "9\t14\t7\t15\t\n",
      "-----------\n",
      "1\t2\t3\t4\t\n",
      "5\t11\t*\t6\t\n",
      "10\t13\t12\t8\t\n",
      "9\t14\t7\t15\t\n",
      "-----------\n",
      "1\t2\t3\t4\t\n",
      "5\t11\t6\t*\t\n",
      "10\t13\t12\t8\t\n",
      "9\t14\t7\t15\t\n",
      "-----------\n",
      "1\t2\t3\t4\t\n",
      "5\t11\t6\t8\t\n",
      "10\t13\t12\t*\t\n",
      "9\t14\t7\t15\t\n",
      "-----------\n",
      "1\t2\t3\t4\t\n",
      "5\t11\t6\t8\t\n",
      "10\t13\t*\t12\t\n",
      "9\t14\t7\t15\t\n",
      "-----------\n",
      "1\t2\t3\t4\t\n",
      "5\t11\t6\t8\t\n",
      "10\t13\t7\t12\t\n",
      "9\t14\t*\t15\t\n",
      "-----------\n",
      "1\t2\t3\t4\t\n",
      "5\t11\t6\t8\t\n",
      "10\t13\t7\t12\t\n",
      "9\t*\t14\t15\t\n",
      "-----------\n",
      "1\t2\t3\t4\t\n",
      "5\t11\t6\t8\t\n",
      "10\t*\t7\t12\t\n",
      "9\t13\t14\t15\t\n",
      "-----------\n",
      "1\t2\t3\t4\t\n",
      "5\t*\t6\t8\t\n",
      "10\t11\t7\t12\t\n",
      "9\t13\t14\t15\t\n",
      "-----------\n",
      "1\t2\t3\t4\t\n",
      "5\t6\t*\t8\t\n",
      "10\t11\t7\t12\t\n",
      "9\t13\t14\t15\t\n",
      "-----------\n",
      "1\t2\t3\t4\t\n",
      "5\t6\t7\t8\t\n",
      "10\t11\t*\t12\t\n",
      "9\t13\t14\t15\t\n",
      "-----------\n",
      "1\t2\t3\t4\t\n",
      "5\t6\t7\t8\t\n",
      "10\t*\t11\t12\t\n",
      "9\t13\t14\t15\t\n",
      "-----------\n",
      "1\t2\t3\t4\t\n",
      "5\t6\t7\t8\t\n",
      "*\t10\t11\t12\t\n",
      "9\t13\t14\t15\t\n",
      "-----------\n",
      "1\t2\t3\t4\t\n",
      "5\t6\t7\t8\t\n",
      "9\t10\t11\t12\t\n",
      "*\t13\t14\t15\t\n",
      "-----------\n",
      "1\t2\t3\t4\t\n",
      "5\t6\t7\t8\t\n",
      "9\t10\t11\t12\t\n",
      "13\t*\t14\t15\t\n",
      "-----------\n",
      "1\t2\t3\t4\t\n",
      "5\t6\t7\t8\t\n",
      "9\t10\t11\t12\t\n",
      "13\t14\t*\t15\t\n",
      "-----------\n",
      "1\t2\t3\t4\t\n",
      "5\t6\t7\t8\t\n",
      "9\t10\t11\t12\t\n",
      "13\t14\t15\t*\t\n",
      "-----------\n"
     ]
    }
   ],
   "source": [
    "[(imprimir_matriz(c),print(\"-----------\")) for c in camino];"
   ]
  },
  {
   "cell_type": "code",
   "execution_count": null,
   "metadata": {},
   "outputs": [],
   "source": []
  }
 ],
 "metadata": {
  "kernelspec": {
   "display_name": "SageMath 9.0",
   "language": "sage",
   "name": "sagemath"
  },
  "language_info": {
   "codemirror_mode": {
    "name": "ipython",
    "version": 3
   },
   "file_extension": ".py",
   "mimetype": "text/x-python",
   "name": "python",
   "nbconvert_exporter": "python",
   "pygments_lexer": "ipython3",
   "version": "3.8.2"
  }
 },
 "nbformat": 4,
 "nbformat_minor": 4
}
