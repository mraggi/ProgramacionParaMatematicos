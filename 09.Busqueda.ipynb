{
 "cells": [
  {
   "cell_type": "markdown",
   "metadata": {},
   "source": [
    "## Búsqueda\n",
    "\n",
    "En esta libreta exploraremos búsqueda en gráficas.\n",
    "\n",
    "Antes de empezar con búsqueda, debemos pensar en las posibles maneras de expresar una gráfica en la computadora: A veces la tenemos en memoria, a veces no, etc.\n",
    "\n",
    "Posibles maneras de expresar una gráfica:\n",
    "1. Una lista de aristas\n",
    "2. Una matriz de adyacencia\n",
    "3. Para cada vértice tenemos una manera de encontrar sus vecinos.\n",
    "\n",
    "Pros y cons:\n",
    "1. Es sencillo recorrer todas las aristas, ordenarlas, etc. Agregar vértices o aristas es trivial. Quitarlos es muy pesado.\n",
    "2. Es sencillo saber si dos vértices están conectados o no. Agregar y quitar aristas es trivial. Quitar o agregar vértices es muy pesado. Toma una cantidad cuadrática de memoria.\n",
    "3. Dependiendo de la estructura de datos que usemos para guardar vecinos qué tan fácil o difícil sea encontrar si dos están conectados, etc. Es fácil encontrar los vecinos de un vértice, y la mayoría de los algoritmos en gráficas requieren esto.\n",
    "\n",
    "\n",
    "En matemáticas muchas veces vamos a tener gráficas gigantescas en donde más bien podemos saber los \"vecinos\" de un vértice.\n",
    "\n",
    "Para empezar, vamos a ver cómo programaríamos un resolvedor de laberintos (medio chafón)."
   ]
  },
  {
   "cell_type": "code",
   "execution_count": 1,
   "metadata": {},
   "outputs": [],
   "source": [
    "import random"
   ]
  },
  {
   "cell_type": "code",
   "execution_count": 2,
   "metadata": {},
   "outputs": [],
   "source": [
    "def crear_laberinto(n,m,p=0.25):\n",
    "    M = [[0]*m for i in range(n)]\n",
    "    for x in range(n):\n",
    "        for y in range(m):\n",
    "            if random.random() < p:\n",
    "                M[x][y] = 1\n",
    "    M[0][0] = 0\n",
    "    M[-1][-1] = 0\n",
    "    return M"
   ]
  },
  {
   "cell_type": "markdown",
   "metadata": {},
   "source": [
    "Digamos que queremos llegar de la casilla (0,0) a la casilla (n-1,m-1) (la última)."
   ]
  },
  {
   "cell_type": "code",
   "execution_count": 3,
   "metadata": {},
   "outputs": [],
   "source": [
    "from copy import deepcopy"
   ]
  },
  {
   "cell_type": "code",
   "execution_count": 4,
   "metadata": {},
   "outputs": [],
   "source": [
    "def vecinos(M,x,y):\n",
    "    n,m = len(M), len(M[0])\n",
    "    candidatos = [(x-1,y), (x+1,y), (x,y-1), (x,y+1)]\n",
    "    V = []\n",
    "    for xp,yp in candidatos:\n",
    "        if not (xp < 0 or yp < 0 or xp>=n or yp >= m):\n",
    "            if M[xp][yp] == 0:\n",
    "                V.append((xp,yp))\n",
    "    return V"
   ]
  },
  {
   "cell_type": "code",
   "execution_count": 5,
   "metadata": {},
   "outputs": [],
   "source": [
    "def encontrar_camino(M):\n",
    "    n,m = len(M), len(M[0])\n",
    "    \n",
    "    caminotrivial = [(0,0)]\n",
    "    frontera = [caminotrivial]\n",
    "    explorados = {(0,0)}\n",
    "    \n",
    "    while frontera:\n",
    "        P = frontera.pop()\n",
    "        u = P[-1]\n",
    "        explorados.add(u)\n",
    "        \n",
    "        if es_objetivo(M,u): \n",
    "            return P\n",
    "        \n",
    "        expander_camino(M,P,frontera,explorados)\n",
    "        \n",
    "    print(\"No hay camino!\")\n",
    "    return None"
   ]
  },
  {
   "cell_type": "code",
   "execution_count": 6,
   "metadata": {},
   "outputs": [],
   "source": [
    "def es_objetivo(M,u):\n",
    "    n,m = len(M), len(M[0])\n",
    "    return u == (n-1,m-1)"
   ]
  },
  {
   "cell_type": "code",
   "execution_count": 7,
   "metadata": {},
   "outputs": [],
   "source": [
    "def expander_camino(M,P,frontera,explorados):\n",
    "    u = P[-1]\n",
    "    for v in vecinos(M,*u):\n",
    "        if v not in explorados:\n",
    "            Q = deepcopy(P)\n",
    "            Q.append(v)\n",
    "            frontera.append(Q)"
   ]
  },
  {
   "cell_type": "code",
   "execution_count": 8,
   "metadata": {},
   "outputs": [
    {
     "data": {
      "text/plain": [
       "[[0, 0, 1, 0, 0, 0, 0, 1, 1, 0],\n",
       " [0, 1, 1, 0, 0, 0, 0, 0, 0, 0],\n",
       " [0, 0, 1, 0, 0, 1, 0, 0, 0, 1],\n",
       " [1, 0, 0, 0, 1, 0, 0, 0, 1, 0],\n",
       " [0, 0, 1, 1, 0, 0, 0, 0, 0, 0],\n",
       " [0, 1, 0, 0, 1, 1, 0, 0, 0, 0],\n",
       " [0, 0, 0, 1, 0, 0, 0, 0, 0, 0],\n",
       " [1, 0, 0, 0, 0, 0, 0, 1, 0, 0],\n",
       " [0, 0, 0, 0, 0, 0, 0, 1, 0, 0],\n",
       " [0, 0, 0, 0, 0, 1, 0, 0, 1, 0]]"
      ]
     },
     "execution_count": 8,
     "metadata": {},
     "output_type": "execute_result"
    }
   ],
   "source": [
    "M=crear_laberinto(10,10,0.25); M"
   ]
  },
  {
   "cell_type": "code",
   "execution_count": 9,
   "metadata": {},
   "outputs": [
    {
     "data": {
      "text/plain": [
       "[(0, 0),\n",
       " (1, 0),\n",
       " (2, 0),\n",
       " (2, 1),\n",
       " (3, 1),\n",
       " (3, 2),\n",
       " (3, 3),\n",
       " (2, 3),\n",
       " (2, 4),\n",
       " (1, 4),\n",
       " (1, 5),\n",
       " (1, 6),\n",
       " (1, 7),\n",
       " (1, 8),\n",
       " (2, 8),\n",
       " (2, 7),\n",
       " (2, 6),\n",
       " (3, 6),\n",
       " (3, 7),\n",
       " (4, 7),\n",
       " (4, 8),\n",
       " (4, 9),\n",
       " (5, 9),\n",
       " (5, 8),\n",
       " (5, 7),\n",
       " (5, 6),\n",
       " (6, 6),\n",
       " (6, 7),\n",
       " (6, 8),\n",
       " (6, 9),\n",
       " (7, 9),\n",
       " (7, 8),\n",
       " (8, 8),\n",
       " (8, 9),\n",
       " (9, 9)]"
      ]
     },
     "execution_count": 9,
     "metadata": {},
     "output_type": "execute_result"
    }
   ],
   "source": [
    "camino=encontrar_camino(M); camino"
   ]
  },
  {
   "cell_type": "code",
   "execution_count": 10,
   "metadata": {},
   "outputs": [],
   "source": [
    "def imprimir_camino(M,camino):\n",
    "    A = deepcopy(M)\n",
    "    for x,y in camino:\n",
    "        A[x][y] = 8\n",
    "    return A"
   ]
  },
  {
   "cell_type": "code",
   "execution_count": 11,
   "metadata": {},
   "outputs": [
    {
     "data": {
      "text/plain": [
       "[[8, 0, 1, 0, 0, 0, 0, 1, 1, 0],\n",
       " [8, 1, 1, 0, 8, 8, 8, 8, 8, 0],\n",
       " [8, 8, 1, 8, 8, 1, 8, 8, 8, 1],\n",
       " [1, 8, 8, 8, 1, 0, 8, 8, 1, 0],\n",
       " [0, 0, 1, 1, 0, 0, 0, 8, 8, 8],\n",
       " [0, 1, 0, 0, 1, 1, 8, 8, 8, 8],\n",
       " [0, 0, 0, 1, 0, 0, 8, 8, 8, 8],\n",
       " [1, 0, 0, 0, 0, 0, 0, 1, 8, 8],\n",
       " [0, 0, 0, 0, 0, 0, 0, 1, 8, 8],\n",
       " [0, 0, 0, 0, 0, 1, 0, 0, 1, 8]]"
      ]
     },
     "execution_count": 11,
     "metadata": {},
     "output_type": "execute_result"
    }
   ],
   "source": [
    "imprimir_camino(M,camino)"
   ]
  },
  {
   "cell_type": "markdown",
   "metadata": {},
   "source": [
    "## BFS y deque\n",
    "\n",
    "En el programa anterior, si cambiamos `P = frontera.pop()` por `P = frontera.pop(0)` estaremos haciendo BFS (breadth-first search) en vez de DFS.\n",
    "\n",
    "PERO hay un problema: pop(0) es extremadamente lento: saca el 0-avo recorriendo todos los demás un espacio en memoria a la izquierda.\n",
    "\n",
    "Entonces debemos usar otra estructura de datos: `deque` (double ended queue)."
   ]
  },
  {
   "cell_type": "code",
   "execution_count": 12,
   "metadata": {},
   "outputs": [],
   "source": [
    "from collections import deque"
   ]
  },
  {
   "cell_type": "code",
   "execution_count": 13,
   "metadata": {},
   "outputs": [],
   "source": [
    "D = deque()"
   ]
  },
  {
   "cell_type": "code",
   "execution_count": 14,
   "metadata": {},
   "outputs": [],
   "source": [
    "def encontrar_caminoBFS(M):\n",
    "    n,m = len(M), len(M[0])\n",
    "    \n",
    "    caminotrivial = [(0,0)]\n",
    "    frontera = deque([caminotrivial])\n",
    "    explorados = {(0,0)}\n",
    "    \n",
    "    while frontera:\n",
    "        P = frontera.popleft()\n",
    "        u = P[-1]\n",
    "        explorados.add(u)\n",
    "        \n",
    "        if es_objetivo(M,u): \n",
    "            return P\n",
    "        \n",
    "        expander_camino(M,P,frontera,explorados)\n",
    "        \n",
    "    print(\"No hay camino!\")\n",
    "    return None"
   ]
  },
  {
   "cell_type": "code",
   "execution_count": 15,
   "metadata": {},
   "outputs": [
    {
     "data": {
      "text/plain": [
       "[[0, 0, 1, 0, 0, 0, 0, 1, 1, 0],\n",
       " [0, 1, 1, 0, 0, 0, 0, 0, 0, 0],\n",
       " [0, 0, 1, 0, 0, 1, 0, 0, 0, 1],\n",
       " [1, 0, 0, 0, 1, 0, 0, 0, 1, 0],\n",
       " [0, 0, 1, 1, 0, 0, 0, 0, 0, 0],\n",
       " [0, 1, 0, 0, 1, 1, 0, 0, 0, 0],\n",
       " [0, 0, 0, 1, 0, 0, 0, 0, 0, 0],\n",
       " [1, 0, 0, 0, 0, 0, 0, 1, 0, 0],\n",
       " [0, 0, 0, 0, 0, 0, 0, 1, 0, 0],\n",
       " [0, 0, 0, 0, 0, 1, 0, 0, 1, 0]]"
      ]
     },
     "execution_count": 15,
     "metadata": {},
     "output_type": "execute_result"
    }
   ],
   "source": [
    "M"
   ]
  },
  {
   "cell_type": "code",
   "execution_count": 16,
   "metadata": {},
   "outputs": [],
   "source": [
    "camino = encontrar_caminoBFS(M)"
   ]
  },
  {
   "cell_type": "code",
   "execution_count": 17,
   "metadata": {},
   "outputs": [
    {
     "data": {
      "text/plain": [
       "[[8, 0, 1, 0, 0, 0, 0, 1, 1, 0],\n",
       " [8, 1, 1, 0, 0, 0, 0, 0, 0, 0],\n",
       " [8, 8, 1, 0, 0, 1, 0, 0, 0, 1],\n",
       " [1, 8, 0, 0, 1, 0, 0, 0, 1, 0],\n",
       " [8, 8, 1, 1, 0, 0, 0, 0, 0, 0],\n",
       " [8, 1, 0, 0, 1, 1, 0, 0, 0, 0],\n",
       " [8, 8, 0, 1, 8, 8, 8, 8, 8, 0],\n",
       " [1, 8, 8, 8, 8, 0, 0, 1, 8, 0],\n",
       " [0, 0, 0, 0, 0, 0, 0, 1, 8, 8],\n",
       " [0, 0, 0, 0, 0, 1, 0, 0, 1, 8]]"
      ]
     },
     "execution_count": 17,
     "metadata": {},
     "output_type": "execute_result"
    }
   ],
   "source": [
    "imprimir_camino(M,camino)"
   ]
  },
  {
   "cell_type": "markdown",
   "metadata": {},
   "source": [
    "## DFS, recursión, y la callstack (pila de llamadas)\n",
    "\n",
    "Hay otra manera de programar DFS que a veces es más sencilla: con recursión.\n",
    "\n",
    "Digamos que tenemos, por ejemplo, un árbol con raíz, y para cada nodo quisiéramos saber cuántos nodos hay \"debajo\" de él."
   ]
  },
  {
   "cell_type": "code",
   "execution_count": 18,
   "metadata": {},
   "outputs": [],
   "source": [
    "def crear_arbol_aleatorio(n):\n",
    "    hijos = [[] for i in range(n)]\n",
    "    for i in range(1,n):\n",
    "        padre = random.randint(0,i-1)\n",
    "        hijos[padre].append(i)\n",
    "    return hijos"
   ]
  },
  {
   "cell_type": "code",
   "execution_count": 19,
   "metadata": {},
   "outputs": [
    {
     "data": {
      "text/plain": [
       "[[1, 2, 4, 6], [3], [], [5], [], [], [7], []]"
      ]
     },
     "execution_count": 19,
     "metadata": {},
     "output_type": "execute_result"
    }
   ],
   "source": [
    "arbol = crear_arbol_aleatorio(8); arbol"
   ]
  },
  {
   "cell_type": "code",
   "execution_count": 20,
   "metadata": {},
   "outputs": [],
   "source": [
    "def cuantos_nodos_debajo(T, v):\n",
    "    respuesta = 0\n",
    "    for u in T[v]:\n",
    "        respuesta += cuantos_nodos_debajo(T,u)+1\n",
    "    return respuesta"
   ]
  },
  {
   "cell_type": "code",
   "execution_count": 21,
   "metadata": {},
   "outputs": [
    {
     "data": {
      "text/plain": [
       "7"
      ]
     },
     "execution_count": 21,
     "metadata": {},
     "output_type": "execute_result"
    }
   ],
   "source": [
    "cuantos_nodos_debajo(arbol,0)"
   ]
  },
  {
   "cell_type": "markdown",
   "metadata": {},
   "source": [
    "Al llamar \"cuantos_nodos_debajo\" estamos en realidad usando la \"pila de llamadas\" (callstack) como la frontera!"
   ]
  },
  {
   "cell_type": "markdown",
   "metadata": {},
   "source": [
    "## Ejercicios\n",
    "\n",
    "1. Dada una gráfica (una lista de $n$ listas de vecinos), decide si es conexa o no.\n",
    "2. Modifica el programa anterior para encontrar las componentes conexas\n",
    "3. Bien-colorea una gráfica con $k$ colores si es posible."
   ]
  },
  {
   "cell_type": "code",
   "execution_count": 22,
   "metadata": {},
   "outputs": [],
   "source": [
    "def grafica_aleatoria(n,p = 0.5):\n",
    "    G = [[] for i in range(n)] # grafica vacia\n",
    "    for u in range(n):\n",
    "        for v in range(u+1,n):\n",
    "            if random.random() < p:\n",
    "                G[u].append(v)\n",
    "                G[v].append(u)\n",
    "    return G"
   ]
  },
  {
   "cell_type": "code",
   "execution_count": 24,
   "metadata": {},
   "outputs": [],
   "source": [
    "S = Graph(5)"
   ]
  },
  {
   "cell_type": "code",
   "execution_count": 27,
   "metadata": {},
   "outputs": [],
   "source": [
    "def to_sage(G):\n",
    "    n = len(G)\n",
    "    S = Graph(n)\n",
    "    for u in range(n):\n",
    "        for v in G[u]:\n",
    "            if u < v:\n",
    "                S.add_edge((u,v))\n",
    "    return S"
   ]
  },
  {
   "cell_type": "code",
   "execution_count": 46,
   "metadata": {},
   "outputs": [
    {
     "data": {
      "image/png": "[encoded data removed]",
      "text/plain": [
       "Graph on 8 vertices"
      ]
     },
     "execution_count": 46,
     "metadata": {},
     "output_type": "execute_result"
    }
   ],
   "source": [
    "to_sage(grafica_aleatoria(8,0.1))"
   ]
  },
  {
   "cell_type": "code",
   "execution_count": null,
   "metadata": {},
   "outputs": [],
   "source": []
  },
  {
   "cell_type": "code",
   "execution_count": null,
   "metadata": {},
   "outputs": [],
   "source": []
  },
  {
   "cell_type": "code",
   "execution_count": null,
   "metadata": {},
   "outputs": [],
   "source": []
  },
  {
   "cell_type": "code",
   "execution_count": null,
   "metadata": {},
   "outputs": [],
   "source": []
  },
  {
   "cell_type": "code",
   "execution_count": null,
   "metadata": {},
   "outputs": [],
   "source": []
  },
  {
   "cell_type": "code",
   "execution_count": null,
   "metadata": {},
   "outputs": [],
   "source": []
  },
  {
   "cell_type": "markdown",
   "metadata": {},
   "source": [
    "## Soluciones\n",
    "\n",
    "#### Decidir si una gráfica es conexa."
   ]
  },
  {
   "cell_type": "code",
   "execution_count": null,
   "metadata": {},
   "outputs": [],
   "source": [
    "def es_conexa(G):\n",
    "    n = len(G)\n",
    "    \n",
    "    if n < 2: return True\n",
    "    explorados = [0]*n\n",
    "    dfs_conexa(G,0,explorados)\n",
    "    return 0 not in explorados\n",
    "    "
   ]
  },
  {
   "cell_type": "code",
   "execution_count": null,
   "metadata": {},
   "outputs": [],
   "source": [
    "def dfs_conexa(G,v,explorados):\n",
    "    explorados[v] = 1\n",
    "    for u in G[v]:\n",
    "        if explorados[u] == 0:\n",
    "            dfs_conexa(G,u,explorados)"
   ]
  },
  {
   "cell_type": "code",
   "execution_count": null,
   "metadata": {},
   "outputs": [],
   "source": []
  }
 ],
 "metadata": {
  "kernelspec": {
   "display_name": "SageMath 9.0",
   "language": "sage",
   "name": "sagemath"
  },
  "language_info": {
   "codemirror_mode": {
    "name": "ipython",
    "version": 3
   },
   "file_extension": ".py",
   "mimetype": "text/x-python",
   "name": "python",
   "nbconvert_exporter": "python",
   "pygments_lexer": "ipython3",
   "version": "3.8.2"
  }
 },
 "nbformat": 4,
 "nbformat_minor": 4
}
